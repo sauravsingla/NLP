{
  "nbformat": 4,
  "nbformat_minor": 0,
  "metadata": {
    "colab": {
      "name": "NLP_Recommender_System_Movie.ipynb",
      "provenance": [],
      "collapsed_sections": [],
      "include_colab_link": true
    },
    "kernelspec": {
      "name": "python3",
      "display_name": "Python 3"
    },
    "accelerator": "GPU"
  },
  "cells": [
    {
      "cell_type": "markdown",
      "metadata": {
        "id": "view-in-github",
        "colab_type": "text"
      },
      "source": [
        "<a href=\"https://colab.research.google.com/github/sauravsingla/NLP/blob/master/NLP_Recommender_System_Movie.ipynb\" target=\"_parent\"><img src=\"https://colab.research.google.com/assets/colab-badge.svg\" alt=\"Open In Colab\"/></a>"
      ]
    },
    {
      "cell_type": "code",
      "metadata": {
        "id": "QEp9y7QG4Y4_",
        "outputId": "e7508a99-d818-4693-fc46-fbb9002c703b",
        "colab": {
          "base_uri": "https://localhost:8080/",
          "height": 1363
        }
      },
      "source": [
        "!apt install libnvrtc8.0\n",
        "!pip uninstall -y mxnet-cu80 && pip install mxnet-cu80==1.1.0\n",
        "!pip install turicreate"
      ],
      "execution_count": null,
      "outputs": [
        {
          "output_type": "stream",
          "text": [
            "Reading package lists... Done\n",
            "Building dependency tree       \n",
            "Reading state information... Done\n",
            "E: Unable to locate package libnvrtc8.0\n",
            "E: Couldn't find any package by glob 'libnvrtc8.0'\n",
            "E: Couldn't find any package by regex 'libnvrtc8.0'\n",
            "\u001b[33mSkipping mxnet-cu80 as it is not installed.\u001b[0m\n",
            "Collecting mxnet-cu80==1.1.0\n",
            "\u001b[?25l  Downloading https://files.pythonhosted.org/packages/9c/55/bcfd26fd408a4bab27bca1ef5dc1df42954509c904699a6c371d5a4c23ab/mxnet_cu80-1.1.0-py2.py3-none-manylinux1_x86_64.whl (274.9MB)\n",
            "\u001b[K    100% |████████████████████████████████| 274.9MB 66kB/s \n",
            "\u001b[?25hCollecting numpy<=1.13.3 (from mxnet-cu80==1.1.0)\n",
            "\u001b[?25l  Downloading https://files.pythonhosted.org/packages/57/a7/e3e6bd9d595125e1abbe162e323fd2d06f6f6683185294b79cd2cdb190d5/numpy-1.13.3-cp36-cp36m-manylinux1_x86_64.whl (17.0MB)\n",
            "\u001b[K    100% |████████████████████████████████| 17.0MB 2.3MB/s \n",
            "\u001b[?25hCollecting graphviz==0.8.1 (from mxnet-cu80==1.1.0)\n",
            "  Downloading https://files.pythonhosted.org/packages/82/cc/668725769a1b184322019b494bbdfbb82bbef5cecc1dd8be6f778cf1422b/graphviz-0.8.1-py2.py3-none-any.whl\n",
            "Requirement already satisfied: requests==2.18.4 in /usr/local/lib/python3.6/dist-packages (from mxnet-cu80==1.1.0) (2.18.4)\n",
            "Requirement already satisfied: chardet<3.1.0,>=3.0.2 in /usr/local/lib/python3.6/dist-packages (from requests==2.18.4->mxnet-cu80==1.1.0) (3.0.4)\n",
            "Requirement already satisfied: idna<2.7,>=2.5 in /usr/local/lib/python3.6/dist-packages (from requests==2.18.4->mxnet-cu80==1.1.0) (2.6)\n",
            "Requirement already satisfied: urllib3<1.23,>=1.21.1 in /usr/local/lib/python3.6/dist-packages (from requests==2.18.4->mxnet-cu80==1.1.0) (1.22)\n",
            "Requirement already satisfied: certifi>=2017.4.17 in /usr/local/lib/python3.6/dist-packages (from requests==2.18.4->mxnet-cu80==1.1.0) (2018.11.29)\n",
            "\u001b[31myellowbrick 0.9 has requirement matplotlib<3.0,>=1.5.1, but you'll have matplotlib 3.0.2 which is incompatible.\u001b[0m\n",
            "\u001b[31mthinc 6.12.1 has requirement wrapt<1.11.0,>=1.10.0, but you'll have wrapt 1.11.0 which is incompatible.\u001b[0m\n",
            "\u001b[31mspacy 2.0.18 has requirement numpy>=1.15.0, but you'll have numpy 1.13.3 which is incompatible.\u001b[0m\n",
            "\u001b[31mpymc3 3.6 has requirement joblib<0.13.0, but you'll have joblib 0.13.1 which is incompatible.\u001b[0m\n",
            "\u001b[31mfeaturetools 0.4.1 has requirement pandas>=0.23.0, but you'll have pandas 0.22.0 which is incompatible.\u001b[0m\n",
            "\u001b[31mcvxpy 1.0.11 has requirement numpy>=1.14, but you'll have numpy 1.13.3 which is incompatible.\u001b[0m\n",
            "\u001b[31mcufflinks 0.14.6 has requirement plotly>=3.0.0, but you'll have plotly 1.12.12 which is incompatible.\u001b[0m\n",
            "Installing collected packages: numpy, graphviz, mxnet-cu80\n",
            "  Found existing installation: numpy 1.14.6\n",
            "    Uninstalling numpy-1.14.6:\n",
            "      Successfully uninstalled numpy-1.14.6\n",
            "  Found existing installation: graphviz 0.10.1\n",
            "    Uninstalling graphviz-0.10.1:\n",
            "      Successfully uninstalled graphviz-0.10.1\n",
            "Successfully installed graphviz-0.8.1 mxnet-cu80-1.1.0 numpy-1.13.3\n",
            "Collecting turicreate\n",
            "\u001b[?25l  Downloading https://files.pythonhosted.org/packages/24/45/3c56143c40076dc7a87233f3d24b17821114af352305f5338181f7e1e220/turicreate-5.2.1-cp36-cp36m-manylinux1_x86_64.whl (88.3MB)\n",
            "\u001b[K    100% |████████████████████████████████| 88.4MB 470kB/s \n",
            "\u001b[?25hRequirement already satisfied: pandas>=0.19.0 in /usr/local/lib/python3.6/dist-packages (from turicreate) (0.22.0)\n",
            "Requirement already satisfied: requests>=2.9.1 in /usr/local/lib/python3.6/dist-packages (from turicreate) (2.18.4)\n",
            "Requirement already satisfied: numpy in /usr/local/lib/python3.6/dist-packages (from turicreate) (1.13.3)\n",
            "Requirement already satisfied: prettytable==0.7.2 in /usr/local/lib/python3.6/dist-packages (from turicreate) (0.7.2)\n",
            "Requirement already satisfied: decorator>=4.0.9 in /usr/local/lib/python3.6/dist-packages (from turicreate) (4.3.0)\n",
            "Collecting mxnet<1.2.0,>=1.1.0 (from turicreate)\n",
            "\u001b[?25l  Downloading https://files.pythonhosted.org/packages/96/98/c9877e100c3d1ac92263bfaba7bb8a49294e099046592040a2ff8620ac61/mxnet-1.1.0.post0-py2.py3-none-manylinux1_x86_64.whl (23.8MB)\n",
            "\u001b[K    100% |████████████████████████████████| 23.8MB 1.8MB/s \n",
            "\u001b[?25hRequirement already satisfied: pillow>=3.3.0 in /usr/local/lib/python3.6/dist-packages (from turicreate) (4.0.0)\n",
            "Collecting coremltools==2.0b1 (from turicreate)\n",
            "\u001b[?25l  Downloading https://files.pythonhosted.org/packages/1e/c3/18e669efcab8162bd65b00bc914c460097fe3dcb1862c572f2440bac526c/coremltools-2.0b1-cp36-none-manylinux1_x86_64.whl (2.7MB)\n",
            "\u001b[K    100% |████████████████████████████████| 2.7MB 8.0MB/s \n",
            "\u001b[?25hRequirement already satisfied: python-dateutil>=2 in /usr/local/lib/python3.6/dist-packages (from pandas>=0.19.0->turicreate) (2.5.3)\n",
            "Requirement already satisfied: pytz>=2011k in /usr/local/lib/python3.6/dist-packages (from pandas>=0.19.0->turicreate) (2018.9)\n",
            "Requirement already satisfied: urllib3<1.23,>=1.21.1 in /usr/local/lib/python3.6/dist-packages (from requests>=2.9.1->turicreate) (1.22)\n",
            "Requirement already satisfied: idna<2.7,>=2.5 in /usr/local/lib/python3.6/dist-packages (from requests>=2.9.1->turicreate) (2.6)\n",
            "Requirement already satisfied: chardet<3.1.0,>=3.0.2 in /usr/local/lib/python3.6/dist-packages (from requests>=2.9.1->turicreate) (3.0.4)\n",
            "Requirement already satisfied: certifi>=2017.4.17 in /usr/local/lib/python3.6/dist-packages (from requests>=2.9.1->turicreate) (2018.11.29)\n",
            "Requirement already satisfied: graphviz<0.9.0,>=0.8.1 in /usr/local/lib/python3.6/dist-packages (from mxnet<1.2.0,>=1.1.0->turicreate) (0.8.1)\n",
            "Requirement already satisfied: olefile in /usr/local/lib/python3.6/dist-packages (from pillow>=3.3.0->turicreate) (0.46)\n",
            "Collecting six==1.10.0 (from coremltools==2.0b1->turicreate)\n",
            "  Downloading https://files.pythonhosted.org/packages/c8/0a/b6723e1bc4c516cb687841499455a8505b44607ab535be01091c0f24f079/six-1.10.0-py2.py3-none-any.whl\n",
            "Requirement already satisfied: protobuf>=3.1.0 in /usr/local/lib/python3.6/dist-packages (from coremltools==2.0b1->turicreate) (3.6.1)\n",
            "Requirement already satisfied: setuptools in /usr/local/lib/python3.6/dist-packages (from protobuf>=3.1.0->coremltools==2.0b1->turicreate) (40.6.3)\n",
            "\u001b[31mthinc 6.12.1 has requirement wrapt<1.11.0,>=1.10.0, but you'll have wrapt 1.11.0 which is incompatible.\u001b[0m\n",
            "\u001b[31mspacy 2.0.18 has requirement numpy>=1.15.0, but you'll have numpy 1.13.3 which is incompatible.\u001b[0m\n",
            "\u001b[31mpymc3 3.6 has requirement joblib<0.13.0, but you'll have joblib 0.13.1 which is incompatible.\u001b[0m\n",
            "\u001b[31mjupyter-console 6.0.0 has requirement prompt-toolkit<2.1.0,>=2.0.0, but you'll have prompt-toolkit 1.0.15 which is incompatible.\u001b[0m\n",
            "\u001b[31mgoogle-colab 0.0.1a1 has requirement six~=1.11.0, but you'll have six 1.10.0 which is incompatible.\u001b[0m\n",
            "\u001b[31mfeaturetools 0.4.1 has requirement pandas>=0.23.0, but you'll have pandas 0.22.0 which is incompatible.\u001b[0m\n",
            "\u001b[31mcvxpy 1.0.11 has requirement numpy>=1.14, but you'll have numpy 1.13.3 which is incompatible.\u001b[0m\n",
            "\u001b[31mcufflinks 0.14.6 has requirement plotly>=3.0.0, but you'll have plotly 1.12.12 which is incompatible.\u001b[0m\n",
            "Installing collected packages: mxnet, six, coremltools, turicreate\n",
            "  Found existing installation: six 1.11.0\n",
            "    Uninstalling six-1.11.0:\n",
            "      Successfully uninstalled six-1.11.0\n",
            "Successfully installed coremltools-2.0b1 mxnet-1.1.0.post0 six-1.10.0 turicreate-5.2.1\n",
            "\u001b[0;31;1mWARNING: The following packages were previously imported in this runtime:\n",
            "  [six]\n",
            "You must restart the runtime in order to use newly installed versions.\u001b[0m\n"
          ],
          "name": "stdout"
        }
      ]
    },
    {
      "cell_type": "code",
      "metadata": {
        "id": "fNYzmYNKl-jh",
        "outputId": "011dd3c7-25b2-4876-cbbe-c56f3b605f5c",
        "colab": {
          "base_uri": "https://localhost:8080/",
          "height": 122
        }
      },
      "source": [
        "import os.path\n",
        "from google.colab import drive\n",
        "\n",
        "# mount Google Drive to /content/drive/My Drive/\n",
        "if os.path.isdir(\"/content/drive/My Drive\"):\n",
        "  print(\"Google Drive already mounted\")\n",
        "else:\n",
        "  drive.mount('/content/drive')"
      ],
      "execution_count": null,
      "outputs": [
        {
          "output_type": "stream",
          "text": [
            "Go to this URL in a browser: https://accounts.google.com/o/oauth2/auth?client_id=947318989803-6bn6qk8qdgf4n4g3pfee6491hc0brc4i.apps.googleusercontent.com&redirect_uri=urn%3Aietf%3Awg%3Aoauth%3A2.0%3Aoob&scope=email%20https%3A%2F%2Fwww.googleapis.com%2Fauth%2Fdocs.test%20https%3A%2F%2Fwww.googleapis.com%2Fauth%2Fdrive%20https%3A%2F%2Fwww.googleapis.com%2Fauth%2Fdrive.photos.readonly%20https%3A%2F%2Fwww.googleapis.com%2Fauth%2Fpeopleapi.readonly&response_type=code\n",
            "\n",
            "Enter your authorization code:\n",
            "··········\n",
            "Mounted at /content/drive\n"
          ],
          "name": "stdout"
        }
      ]
    },
    {
      "cell_type": "code",
      "metadata": {
        "id": "Fjg7LiICOrkn"
      },
      "source": [
        "import os.path\n",
        "import urllib.request\n",
        "import tarfile\n",
        "import zipfile\n",
        "import gzip\n",
        "from shutil import copy\n",
        "\n",
        "def fetch_remote_datafile(filename, remote_url):\n",
        "  if os.path.isfile(\"./\" + filename):\n",
        "    print(\"already have \" + filename + \" in workspace\")\n",
        "    return\n",
        "  print(\"fetching \" + filename + \" from \" + remote_url + \"...\")\n",
        "  urllib.request.urlretrieve(remote_url, \"./\" + filename)\n",
        "\n",
        "def cache_datafile_in_drive(filename):\n",
        "  if os.path.isfile(\"./\" + filename) == False:\n",
        "    print(\"cannot cache \" + filename + \", it is not in workspace\")\n",
        "    return\n",
        "  \n",
        "  data_drive_path = \"/content/drive/My Drive/Colab Notebooks/data/\"\n",
        "  if os.path.isfile(data_drive_path + filename):\n",
        "    print(\"\" + filename + \" has already been stored in Google Drive\")\n",
        "  else:\n",
        "    print(\"copying \" + filename + \" to \" + data_drive_path)\n",
        "    copy(\"./\" + filename, data_drive_path)\n",
        "  \n",
        "\n",
        "def load_datafile_from_drive(filename, remote_url=None):\n",
        "  data_drive_path = \"/content/drive/My Drive/Colab Notebooks/data/\"\n",
        "  if os.path.isfile(\"./\" + filename):\n",
        "    print(\"already have \" + filename + \" in workspace\")\n",
        "  elif os.path.isfile(data_drive_path + filename):\n",
        "    print(\"have \" + filename + \" in Google Drive, copying to workspace...\")\n",
        "    copy(data_drive_path + filename, \".\")\n",
        "  elif remote_url != None:\n",
        "    fetch_remote_datafile(filename, remote_url)\n",
        "  else:\n",
        "    print(\"error: you need to manually download \" + filename + \" and put in drive\")\n",
        "    \n",
        "def extract_datafile(filename, expected_extract_artifact=None):\n",
        "  if expected_extract_artifact != None and (os.path.isfile(expected_extract_artifact) or os.path.isdir(expected_extract_artifact)):\n",
        "    print(\"files in \" + filename + \" have already been extracted\")\n",
        "  elif os.path.isfile(\"./\" + filename) == False:\n",
        "    print(\"error: cannot extract \" + filename + \", it is not in the workspace\")\n",
        "  else:\n",
        "    extension = filename.split('.')[-1]\n",
        "    if extension == \"zip\":\n",
        "      print(\"extracting \" + filename + \"...\")\n",
        "      data_file = open(filename, \"rb\")\n",
        "      z = zipfile.ZipFile(data_file)\n",
        "      for name in z.namelist():\n",
        "          print(\"    extracting file\", name)\n",
        "          z.extract(name, \"./\")\n",
        "      data_file.close()\n",
        "    elif extension == \"gz\":\n",
        "      print(\"extracting \" + filename + \"...\")\n",
        "      if filename.split('.')[-2] == \"tar\":\n",
        "        tar = tarfile.open(filename)\n",
        "        tar.extractall()\n",
        "        tar.close()\n",
        "      else:\n",
        "        data_zip_file = gzip.GzipFile(filename, 'rb')\n",
        "        data = data_zip_file.read()\n",
        "        data_zip_file.close()\n",
        "        extracted_file = open('.'.join(filename.split('.')[0:-1]), 'wb')\n",
        "        extracted_file.write(data)\n",
        "        extracted_file.close()\n",
        "    elif extension == \"tar\":\n",
        "      print(\"extracting \" + filename + \"...\")\n",
        "      tar = tarfile.open(filename)\n",
        "      tar.extractall()\n",
        "      tar.close()\n",
        "    elif extension == \"csv\":\n",
        "      print(\"do not need to extract csv\")\n",
        "    else:\n",
        "      print(\"cannot extract \" + filename)\n",
        "      \n",
        "def load_cache_extract_datafile(filename, expected_extract_artifact=None, remote_url=None):\n",
        "  load_datafile_from_drive(filename, remote_url)\n",
        "  extract_datafile(filename, expected_extract_artifact)\n",
        "  cache_datafile_in_drive(filename)\n",
        "  "
      ],
      "execution_count": null,
      "outputs": []
    },
    {
      "cell_type": "code",
      "metadata": {
        "id": "PbXLo9fZOsLK"
      },
      "source": [
        "load_cache_extract_datafile(\"ml-20m.zip\", \"ml-20m\", \"http://files.grouplens.org/datasets/movielens/ml-20m.zip\")"
      ],
      "execution_count": null,
      "outputs": []
    },
    {
      "cell_type": "code",
      "metadata": {
        "id": "ni4b0FElnDYH"
      },
      "source": [
        "import mxnet as mx\n",
        "import turicreate as tc"
      ],
      "execution_count": null,
      "outputs": []
    },
    {
      "cell_type": "code",
      "metadata": {
        "id": "ZE_ycXC_nFfs"
      },
      "source": [
        "# Use all GPUs (default)\n",
        "tc.config.set_num_gpus(-1)\n",
        "\n",
        "# Use only 1 GPU\n",
        "#tc.config.set_num_gpus(1)\n",
        "\n",
        "# Use CPU\n",
        "#tc.config.set_num_gpus(0)"
      ],
      "execution_count": null,
      "outputs": []
    },
    {
      "cell_type": "code",
      "metadata": {
        "id": "MS8Vv-gr87VU",
        "outputId": "48635257-619e-4e06-dd33-3b68ab3c33d0",
        "colab": {
          "base_uri": "https://localhost:8080/",
          "height": 466
        }
      },
      "source": [
        "actions = tc.SFrame.read_csv('./ml-20m/ratings.csv')\n",
        "actions.head()"
      ],
      "execution_count": null,
      "outputs": [
        {
          "output_type": "display_data",
          "data": {
            "text/html": [
              "<pre>Finished parsing file /content/ml-20m/ratings.csv</pre>"
            ],
            "text/plain": [
              "Finished parsing file /content/ml-20m/ratings.csv"
            ]
          },
          "metadata": {
            "tags": []
          }
        },
        {
          "output_type": "display_data",
          "data": {
            "text/html": [
              "<pre>Parsing completed. Parsed 100 lines in 1.25749 secs.</pre>"
            ],
            "text/plain": [
              "Parsing completed. Parsed 100 lines in 1.25749 secs."
            ]
          },
          "metadata": {
            "tags": []
          }
        },
        {
          "output_type": "stream",
          "text": [
            "------------------------------------------------------\n",
            "Inferred types from first 100 line(s) of file as \n",
            "column_type_hints=[int,int,float,int]\n",
            "If parsing fails due to incorrect types, you can correct\n",
            "the inferred type list above and pass it to read_csv in\n",
            "the column_type_hints argument\n",
            "------------------------------------------------------\n"
          ],
          "name": "stdout"
        },
        {
          "output_type": "display_data",
          "data": {
            "text/html": [
              "<pre>Read 2042753 lines. Lines per second: 939287</pre>"
            ],
            "text/plain": [
              "Read 2042753 lines. Lines per second: 939287"
            ]
          },
          "metadata": {
            "tags": []
          }
        },
        {
          "output_type": "display_data",
          "data": {
            "text/html": [
              "<pre>Read 11940935 lines. Lines per second: 1.64674e+06</pre>"
            ],
            "text/plain": [
              "Read 11940935 lines. Lines per second: 1.64674e+06"
            ]
          },
          "metadata": {
            "tags": []
          }
        },
        {
          "output_type": "display_data",
          "data": {
            "text/html": [
              "<pre>Finished parsing file /content/ml-20m/ratings.csv</pre>"
            ],
            "text/plain": [
              "Finished parsing file /content/ml-20m/ratings.csv"
            ]
          },
          "metadata": {
            "tags": []
          }
        },
        {
          "output_type": "display_data",
          "data": {
            "text/html": [
              "<pre>Parsing completed. Parsed 20000263 lines in 10.6544 secs.</pre>"
            ],
            "text/plain": [
              "Parsing completed. Parsed 20000263 lines in 10.6544 secs."
            ]
          },
          "metadata": {
            "tags": []
          }
        },
        {
          "output_type": "execute_result",
          "data": {
            "text/html": [
              "<div style=\"max-height:1000px;max-width:1500px;overflow:auto;\"><table frame=\"box\" rules=\"cols\">\n",
              "    <tr>\n",
              "        <th style=\"padding-left: 1em; padding-right: 1em; text-align: center\">userId</th>\n",
              "        <th style=\"padding-left: 1em; padding-right: 1em; text-align: center\">movieId</th>\n",
              "        <th style=\"padding-left: 1em; padding-right: 1em; text-align: center\">rating</th>\n",
              "        <th style=\"padding-left: 1em; padding-right: 1em; text-align: center\">timestamp</th>\n",
              "    </tr>\n",
              "    <tr>\n",
              "        <td style=\"padding-left: 1em; padding-right: 1em; text-align: center; vertical-align: top\">1</td>\n",
              "        <td style=\"padding-left: 1em; padding-right: 1em; text-align: center; vertical-align: top\">2</td>\n",
              "        <td style=\"padding-left: 1em; padding-right: 1em; text-align: center; vertical-align: top\">3.5</td>\n",
              "        <td style=\"padding-left: 1em; padding-right: 1em; text-align: center; vertical-align: top\">1112486027</td>\n",
              "    </tr>\n",
              "    <tr>\n",
              "        <td style=\"padding-left: 1em; padding-right: 1em; text-align: center; vertical-align: top\">1</td>\n",
              "        <td style=\"padding-left: 1em; padding-right: 1em; text-align: center; vertical-align: top\">29</td>\n",
              "        <td style=\"padding-left: 1em; padding-right: 1em; text-align: center; vertical-align: top\">3.5</td>\n",
              "        <td style=\"padding-left: 1em; padding-right: 1em; text-align: center; vertical-align: top\">1112484676</td>\n",
              "    </tr>\n",
              "    <tr>\n",
              "        <td style=\"padding-left: 1em; padding-right: 1em; text-align: center; vertical-align: top\">1</td>\n",
              "        <td style=\"padding-left: 1em; padding-right: 1em; text-align: center; vertical-align: top\">32</td>\n",
              "        <td style=\"padding-left: 1em; padding-right: 1em; text-align: center; vertical-align: top\">3.5</td>\n",
              "        <td style=\"padding-left: 1em; padding-right: 1em; text-align: center; vertical-align: top\">1112484819</td>\n",
              "    </tr>\n",
              "    <tr>\n",
              "        <td style=\"padding-left: 1em; padding-right: 1em; text-align: center; vertical-align: top\">1</td>\n",
              "        <td style=\"padding-left: 1em; padding-right: 1em; text-align: center; vertical-align: top\">47</td>\n",
              "        <td style=\"padding-left: 1em; padding-right: 1em; text-align: center; vertical-align: top\">3.5</td>\n",
              "        <td style=\"padding-left: 1em; padding-right: 1em; text-align: center; vertical-align: top\">1112484727</td>\n",
              "    </tr>\n",
              "    <tr>\n",
              "        <td style=\"padding-left: 1em; padding-right: 1em; text-align: center; vertical-align: top\">1</td>\n",
              "        <td style=\"padding-left: 1em; padding-right: 1em; text-align: center; vertical-align: top\">50</td>\n",
              "        <td style=\"padding-left: 1em; padding-right: 1em; text-align: center; vertical-align: top\">3.5</td>\n",
              "        <td style=\"padding-left: 1em; padding-right: 1em; text-align: center; vertical-align: top\">1112484580</td>\n",
              "    </tr>\n",
              "    <tr>\n",
              "        <td style=\"padding-left: 1em; padding-right: 1em; text-align: center; vertical-align: top\">1</td>\n",
              "        <td style=\"padding-left: 1em; padding-right: 1em; text-align: center; vertical-align: top\">112</td>\n",
              "        <td style=\"padding-left: 1em; padding-right: 1em; text-align: center; vertical-align: top\">3.5</td>\n",
              "        <td style=\"padding-left: 1em; padding-right: 1em; text-align: center; vertical-align: top\">1094785740</td>\n",
              "    </tr>\n",
              "    <tr>\n",
              "        <td style=\"padding-left: 1em; padding-right: 1em; text-align: center; vertical-align: top\">1</td>\n",
              "        <td style=\"padding-left: 1em; padding-right: 1em; text-align: center; vertical-align: top\">151</td>\n",
              "        <td style=\"padding-left: 1em; padding-right: 1em; text-align: center; vertical-align: top\">4.0</td>\n",
              "        <td style=\"padding-left: 1em; padding-right: 1em; text-align: center; vertical-align: top\">1094785734</td>\n",
              "    </tr>\n",
              "    <tr>\n",
              "        <td style=\"padding-left: 1em; padding-right: 1em; text-align: center; vertical-align: top\">1</td>\n",
              "        <td style=\"padding-left: 1em; padding-right: 1em; text-align: center; vertical-align: top\">223</td>\n",
              "        <td style=\"padding-left: 1em; padding-right: 1em; text-align: center; vertical-align: top\">4.0</td>\n",
              "        <td style=\"padding-left: 1em; padding-right: 1em; text-align: center; vertical-align: top\">1112485573</td>\n",
              "    </tr>\n",
              "    <tr>\n",
              "        <td style=\"padding-left: 1em; padding-right: 1em; text-align: center; vertical-align: top\">1</td>\n",
              "        <td style=\"padding-left: 1em; padding-right: 1em; text-align: center; vertical-align: top\">253</td>\n",
              "        <td style=\"padding-left: 1em; padding-right: 1em; text-align: center; vertical-align: top\">4.0</td>\n",
              "        <td style=\"padding-left: 1em; padding-right: 1em; text-align: center; vertical-align: top\">1112484940</td>\n",
              "    </tr>\n",
              "    <tr>\n",
              "        <td style=\"padding-left: 1em; padding-right: 1em; text-align: center; vertical-align: top\">1</td>\n",
              "        <td style=\"padding-left: 1em; padding-right: 1em; text-align: center; vertical-align: top\">260</td>\n",
              "        <td style=\"padding-left: 1em; padding-right: 1em; text-align: center; vertical-align: top\">4.0</td>\n",
              "        <td style=\"padding-left: 1em; padding-right: 1em; text-align: center; vertical-align: top\">1112484826</td>\n",
              "    </tr>\n",
              "</table>\n",
              "[10 rows x 4 columns]<br/>\n",
              "</div>"
            ],
            "text/plain": [
              "Columns:\n",
              "\tuserId\tint\n",
              "\tmovieId\tint\n",
              "\trating\tfloat\n",
              "\ttimestamp\tint\n",
              "\n",
              "Rows: 10\n",
              "\n",
              "Data:\n",
              "+--------+---------+--------+------------+\n",
              "| userId | movieId | rating | timestamp  |\n",
              "+--------+---------+--------+------------+\n",
              "|   1    |    2    |  3.5   | 1112486027 |\n",
              "|   1    |    29   |  3.5   | 1112484676 |\n",
              "|   1    |    32   |  3.5   | 1112484819 |\n",
              "|   1    |    47   |  3.5   | 1112484727 |\n",
              "|   1    |    50   |  3.5   | 1112484580 |\n",
              "|   1    |   112   |  3.5   | 1094785740 |\n",
              "|   1    |   151   |  4.0   | 1094785734 |\n",
              "|   1    |   223   |  4.0   | 1112485573 |\n",
              "|   1    |   253   |  4.0   | 1112484940 |\n",
              "|   1    |   260   |  4.0   | 1112484826 |\n",
              "+--------+---------+--------+------------+\n",
              "[10 rows x 4 columns]"
            ]
          },
          "metadata": {
            "tags": []
          },
          "execution_count": 10
        }
      ]
    },
    {
      "cell_type": "code",
      "metadata": {
        "id": "LC5yrAFE1PzE",
        "outputId": "adf96ef7-4499-4373-9cfb-1978e716423c",
        "colab": {
          "base_uri": "https://localhost:8080/",
          "height": 279
        }
      },
      "source": [
        "actions.groupby('userId', [tc.aggregate.COUNT]).sort(\"Count\", ascending = False)"
      ],
      "execution_count": null,
      "outputs": [
        {
          "output_type": "execute_result",
          "data": {
            "text/html": [
              "<div style=\"max-height:1000px;max-width:1500px;overflow:auto;\"><table frame=\"box\" rules=\"cols\">\n",
              "    <tr>\n",
              "        <th style=\"padding-left: 1em; padding-right: 1em; text-align: center\">userId</th>\n",
              "        <th style=\"padding-left: 1em; padding-right: 1em; text-align: center\">Count</th>\n",
              "    </tr>\n",
              "    <tr>\n",
              "        <td style=\"padding-left: 1em; padding-right: 1em; text-align: center; vertical-align: top\">118205</td>\n",
              "        <td style=\"padding-left: 1em; padding-right: 1em; text-align: center; vertical-align: top\">9254</td>\n",
              "    </tr>\n",
              "    <tr>\n",
              "        <td style=\"padding-left: 1em; padding-right: 1em; text-align: center; vertical-align: top\">8405</td>\n",
              "        <td style=\"padding-left: 1em; padding-right: 1em; text-align: center; vertical-align: top\">7515</td>\n",
              "    </tr>\n",
              "    <tr>\n",
              "        <td style=\"padding-left: 1em; padding-right: 1em; text-align: center; vertical-align: top\">82418</td>\n",
              "        <td style=\"padding-left: 1em; padding-right: 1em; text-align: center; vertical-align: top\">5646</td>\n",
              "    </tr>\n",
              "    <tr>\n",
              "        <td style=\"padding-left: 1em; padding-right: 1em; text-align: center; vertical-align: top\">121535</td>\n",
              "        <td style=\"padding-left: 1em; padding-right: 1em; text-align: center; vertical-align: top\">5520</td>\n",
              "    </tr>\n",
              "    <tr>\n",
              "        <td style=\"padding-left: 1em; padding-right: 1em; text-align: center; vertical-align: top\">125794</td>\n",
              "        <td style=\"padding-left: 1em; padding-right: 1em; text-align: center; vertical-align: top\">5491</td>\n",
              "    </tr>\n",
              "    <tr>\n",
              "        <td style=\"padding-left: 1em; padding-right: 1em; text-align: center; vertical-align: top\">74142</td>\n",
              "        <td style=\"padding-left: 1em; padding-right: 1em; text-align: center; vertical-align: top\">5447</td>\n",
              "    </tr>\n",
              "    <tr>\n",
              "        <td style=\"padding-left: 1em; padding-right: 1em; text-align: center; vertical-align: top\">34576</td>\n",
              "        <td style=\"padding-left: 1em; padding-right: 1em; text-align: center; vertical-align: top\">5356</td>\n",
              "    </tr>\n",
              "    <tr>\n",
              "        <td style=\"padding-left: 1em; padding-right: 1em; text-align: center; vertical-align: top\">131904</td>\n",
              "        <td style=\"padding-left: 1em; padding-right: 1em; text-align: center; vertical-align: top\">5330</td>\n",
              "    </tr>\n",
              "    <tr>\n",
              "        <td style=\"padding-left: 1em; padding-right: 1em; text-align: center; vertical-align: top\">83090</td>\n",
              "        <td style=\"padding-left: 1em; padding-right: 1em; text-align: center; vertical-align: top\">5169</td>\n",
              "    </tr>\n",
              "    <tr>\n",
              "        <td style=\"padding-left: 1em; padding-right: 1em; text-align: center; vertical-align: top\">59477</td>\n",
              "        <td style=\"padding-left: 1em; padding-right: 1em; text-align: center; vertical-align: top\">4988</td>\n",
              "    </tr>\n",
              "</table>\n",
              "[138493 rows x 2 columns]<br/>Note: Only the head of the SFrame is printed.<br/>You can use print_rows(num_rows=m, num_columns=n) to print more rows and columns.\n",
              "</div>"
            ],
            "text/plain": [
              "Columns:\n",
              "\tuserId\tint\n",
              "\tCount\tint\n",
              "\n",
              "Rows: 138493\n",
              "\n",
              "Data:\n",
              "+--------+-------+\n",
              "| userId | Count |\n",
              "+--------+-------+\n",
              "| 118205 |  9254 |\n",
              "|  8405  |  7515 |\n",
              "| 82418  |  5646 |\n",
              "| 121535 |  5520 |\n",
              "| 125794 |  5491 |\n",
              "| 74142  |  5447 |\n",
              "| 34576  |  5356 |\n",
              "| 131904 |  5330 |\n",
              "| 83090  |  5169 |\n",
              "| 59477  |  4988 |\n",
              "+--------+-------+\n",
              "[138493 rows x 2 columns]\n",
              "Note: Only the head of the SFrame is printed.\n",
              "You can use print_rows(num_rows=m, num_columns=n) to print more rows and columns."
            ]
          },
          "metadata": {
            "tags": []
          },
          "execution_count": 11
        }
      ]
    },
    {
      "cell_type": "code",
      "metadata": {
        "id": "-ZiT6c8CnX_s",
        "outputId": "b6f1668b-cf69-422c-ff74-1d4522da823b",
        "colab": {
          "base_uri": "https://localhost:8080/",
          "height": 483
        }
      },
      "source": [
        "items = tc.SFrame.read_csv('./ml-20m/movies.csv')\n",
        "items.head()"
      ],
      "execution_count": null,
      "outputs": [
        {
          "output_type": "display_data",
          "data": {
            "text/html": [
              "<pre>Finished parsing file /content/ml-20m/movies.csv</pre>"
            ],
            "text/plain": [
              "Finished parsing file /content/ml-20m/movies.csv"
            ]
          },
          "metadata": {
            "tags": []
          }
        },
        {
          "output_type": "display_data",
          "data": {
            "text/html": [
              "<pre>Parsing completed. Parsed 100 lines in 0.078739 secs.</pre>"
            ],
            "text/plain": [
              "Parsing completed. Parsed 100 lines in 0.078739 secs."
            ]
          },
          "metadata": {
            "tags": []
          }
        },
        {
          "output_type": "stream",
          "text": [
            "------------------------------------------------------\n",
            "Inferred types from first 100 line(s) of file as \n",
            "column_type_hints=[int,str,str]\n",
            "If parsing fails due to incorrect types, you can correct\n",
            "the inferred type list above and pass it to read_csv in\n",
            "the column_type_hints argument\n",
            "------------------------------------------------------\n"
          ],
          "name": "stdout"
        },
        {
          "output_type": "display_data",
          "data": {
            "text/html": [
              "<pre>Finished parsing file /content/ml-20m/movies.csv</pre>"
            ],
            "text/plain": [
              "Finished parsing file /content/ml-20m/movies.csv"
            ]
          },
          "metadata": {
            "tags": []
          }
        },
        {
          "output_type": "display_data",
          "data": {
            "text/html": [
              "<pre>Parsing completed. Parsed 27278 lines in 0.040305 secs.</pre>"
            ],
            "text/plain": [
              "Parsing completed. Parsed 27278 lines in 0.040305 secs."
            ]
          },
          "metadata": {
            "tags": []
          }
        },
        {
          "output_type": "execute_result",
          "data": {
            "text/html": [
              "<div style=\"max-height:1000px;max-width:1500px;overflow:auto;\"><table frame=\"box\" rules=\"cols\">\n",
              "    <tr>\n",
              "        <th style=\"padding-left: 1em; padding-right: 1em; text-align: center\">movieId</th>\n",
              "        <th style=\"padding-left: 1em; padding-right: 1em; text-align: center\">title</th>\n",
              "        <th style=\"padding-left: 1em; padding-right: 1em; text-align: center\">genres</th>\n",
              "    </tr>\n",
              "    <tr>\n",
              "        <td style=\"padding-left: 1em; padding-right: 1em; text-align: center; vertical-align: top\">1</td>\n",
              "        <td style=\"padding-left: 1em; padding-right: 1em; text-align: center; vertical-align: top\">Toy Story (1995)</td>\n",
              "        <td style=\"padding-left: 1em; padding-right: 1em; text-align: center; vertical-align: top\">Adventure|Animation|Child<br>ren|Comedy|Fantasy ...</td>\n",
              "    </tr>\n",
              "    <tr>\n",
              "        <td style=\"padding-left: 1em; padding-right: 1em; text-align: center; vertical-align: top\">2</td>\n",
              "        <td style=\"padding-left: 1em; padding-right: 1em; text-align: center; vertical-align: top\">Jumanji (1995)</td>\n",
              "        <td style=\"padding-left: 1em; padding-right: 1em; text-align: center; vertical-align: top\">Adventure|Children|Fantas<br>y ...</td>\n",
              "    </tr>\n",
              "    <tr>\n",
              "        <td style=\"padding-left: 1em; padding-right: 1em; text-align: center; vertical-align: top\">3</td>\n",
              "        <td style=\"padding-left: 1em; padding-right: 1em; text-align: center; vertical-align: top\">Grumpier Old Men (1995)</td>\n",
              "        <td style=\"padding-left: 1em; padding-right: 1em; text-align: center; vertical-align: top\">Comedy|Romance</td>\n",
              "    </tr>\n",
              "    <tr>\n",
              "        <td style=\"padding-left: 1em; padding-right: 1em; text-align: center; vertical-align: top\">4</td>\n",
              "        <td style=\"padding-left: 1em; padding-right: 1em; text-align: center; vertical-align: top\">Waiting to Exhale (1995)</td>\n",
              "        <td style=\"padding-left: 1em; padding-right: 1em; text-align: center; vertical-align: top\">Comedy|Drama|Romance</td>\n",
              "    </tr>\n",
              "    <tr>\n",
              "        <td style=\"padding-left: 1em; padding-right: 1em; text-align: center; vertical-align: top\">5</td>\n",
              "        <td style=\"padding-left: 1em; padding-right: 1em; text-align: center; vertical-align: top\">Father of the Bride Part<br>II (1995) ...</td>\n",
              "        <td style=\"padding-left: 1em; padding-right: 1em; text-align: center; vertical-align: top\">Comedy</td>\n",
              "    </tr>\n",
              "    <tr>\n",
              "        <td style=\"padding-left: 1em; padding-right: 1em; text-align: center; vertical-align: top\">6</td>\n",
              "        <td style=\"padding-left: 1em; padding-right: 1em; text-align: center; vertical-align: top\">Heat (1995)</td>\n",
              "        <td style=\"padding-left: 1em; padding-right: 1em; text-align: center; vertical-align: top\">Action|Crime|Thriller</td>\n",
              "    </tr>\n",
              "    <tr>\n",
              "        <td style=\"padding-left: 1em; padding-right: 1em; text-align: center; vertical-align: top\">7</td>\n",
              "        <td style=\"padding-left: 1em; padding-right: 1em; text-align: center; vertical-align: top\">Sabrina (1995)</td>\n",
              "        <td style=\"padding-left: 1em; padding-right: 1em; text-align: center; vertical-align: top\">Comedy|Romance</td>\n",
              "    </tr>\n",
              "    <tr>\n",
              "        <td style=\"padding-left: 1em; padding-right: 1em; text-align: center; vertical-align: top\">8</td>\n",
              "        <td style=\"padding-left: 1em; padding-right: 1em; text-align: center; vertical-align: top\">Tom and Huck (1995)</td>\n",
              "        <td style=\"padding-left: 1em; padding-right: 1em; text-align: center; vertical-align: top\">Adventure|Children</td>\n",
              "    </tr>\n",
              "    <tr>\n",
              "        <td style=\"padding-left: 1em; padding-right: 1em; text-align: center; vertical-align: top\">9</td>\n",
              "        <td style=\"padding-left: 1em; padding-right: 1em; text-align: center; vertical-align: top\">Sudden Death (1995)</td>\n",
              "        <td style=\"padding-left: 1em; padding-right: 1em; text-align: center; vertical-align: top\">Action</td>\n",
              "    </tr>\n",
              "    <tr>\n",
              "        <td style=\"padding-left: 1em; padding-right: 1em; text-align: center; vertical-align: top\">10</td>\n",
              "        <td style=\"padding-left: 1em; padding-right: 1em; text-align: center; vertical-align: top\">GoldenEye (1995)</td>\n",
              "        <td style=\"padding-left: 1em; padding-right: 1em; text-align: center; vertical-align: top\">Action|Adventure|Thriller</td>\n",
              "    </tr>\n",
              "</table>\n",
              "[10 rows x 3 columns]<br/>\n",
              "</div>"
            ],
            "text/plain": [
              "Columns:\n",
              "\tmovieId\tint\n",
              "\ttitle\tstr\n",
              "\tgenres\tstr\n",
              "\n",
              "Rows: 10\n",
              "\n",
              "Data:\n",
              "+---------+-------------------------------+-------------------------------+\n",
              "| movieId |             title             |             genres            |\n",
              "+---------+-------------------------------+-------------------------------+\n",
              "|    1    |        Toy Story (1995)       | Adventure|Animation|Childr... |\n",
              "|    2    |         Jumanji (1995)        |   Adventure|Children|Fantasy  |\n",
              "|    3    |    Grumpier Old Men (1995)    |         Comedy|Romance        |\n",
              "|    4    |    Waiting to Exhale (1995)   |      Comedy|Drama|Romance     |\n",
              "|    5    | Father of the Bride Part I... |             Comedy            |\n",
              "|    6    |          Heat (1995)          |     Action|Crime|Thriller     |\n",
              "|    7    |         Sabrina (1995)        |         Comedy|Romance        |\n",
              "|    8    |      Tom and Huck (1995)      |       Adventure|Children      |\n",
              "|    9    |      Sudden Death (1995)      |             Action            |\n",
              "|    10   |        GoldenEye (1995)       |   Action|Adventure|Thriller   |\n",
              "+---------+-------------------------------+-------------------------------+\n",
              "[10 rows x 3 columns]"
            ]
          },
          "metadata": {
            "tags": []
          },
          "execution_count": 13
        }
      ]
    },
    {
      "cell_type": "code",
      "metadata": {
        "id": "GW7pzEkr9way"
      },
      "source": [
        "training_data, validation_data = tc.recommender.util.random_split_by_user(actions, 'userId', 'movieId')"
      ],
      "execution_count": null,
      "outputs": []
    },
    {
      "cell_type": "code",
      "metadata": {
        "id": "xlPTFClYnyAB",
        "outputId": "89289e18-c9f6-4cb3-a915-41e9b9a2ce03",
        "colab": {
          "base_uri": "https://localhost:8080/",
          "height": 1462
        }
      },
      "source": [
        "model = tc.recommender.create(training_data, 'userId', 'movieId')"
      ],
      "execution_count": null,
      "outputs": [
        {
          "output_type": "display_data",
          "data": {
            "text/html": [
              "<pre>Warning: Ignoring columns rating, timestamp;</pre>"
            ],
            "text/plain": [
              "Warning: Ignoring columns rating, timestamp;"
            ]
          },
          "metadata": {
            "tags": []
          }
        },
        {
          "output_type": "display_data",
          "data": {
            "text/html": [
              "<pre>    To use one of these as a target column, set target = <column_name></pre>"
            ],
            "text/plain": [
              "    To use one of these as a target column, set target = <column_name>"
            ]
          },
          "metadata": {
            "tags": []
          }
        },
        {
          "output_type": "display_data",
          "data": {
            "text/html": [
              "<pre>    and use a method that allows the use of a target.</pre>"
            ],
            "text/plain": [
              "    and use a method that allows the use of a target."
            ]
          },
          "metadata": {
            "tags": []
          }
        },
        {
          "output_type": "display_data",
          "data": {
            "text/html": [
              "<pre>Preparing data set.</pre>"
            ],
            "text/plain": [
              "Preparing data set."
            ]
          },
          "metadata": {
            "tags": []
          }
        },
        {
          "output_type": "display_data",
          "data": {
            "text/html": [
              "<pre>    Data has 19970212 observations with 138493 users and 26657 items.</pre>"
            ],
            "text/plain": [
              "    Data has 19970212 observations with 138493 users and 26657 items."
            ]
          },
          "metadata": {
            "tags": []
          }
        },
        {
          "output_type": "display_data",
          "data": {
            "text/html": [
              "<pre>    Data prepared in: 16.0448s</pre>"
            ],
            "text/plain": [
              "    Data prepared in: 16.0448s"
            ]
          },
          "metadata": {
            "tags": []
          }
        },
        {
          "output_type": "display_data",
          "data": {
            "text/html": [
              "<pre>Training model from provided data.</pre>"
            ],
            "text/plain": [
              "Training model from provided data."
            ]
          },
          "metadata": {
            "tags": []
          }
        },
        {
          "output_type": "display_data",
          "data": {
            "text/html": [
              "<pre>Gathering per-item and per-user statistics.</pre>"
            ],
            "text/plain": [
              "Gathering per-item and per-user statistics."
            ]
          },
          "metadata": {
            "tags": []
          }
        },
        {
          "output_type": "display_data",
          "data": {
            "text/html": [
              "<pre>+--------------------------------+------------+</pre>"
            ],
            "text/plain": [
              "+--------------------------------+------------+"
            ]
          },
          "metadata": {
            "tags": []
          }
        },
        {
          "output_type": "display_data",
          "data": {
            "text/html": [
              "<pre>| Elapsed Time (Item Statistics) | % Complete |</pre>"
            ],
            "text/plain": [
              "| Elapsed Time (Item Statistics) | % Complete |"
            ]
          },
          "metadata": {
            "tags": []
          }
        },
        {
          "output_type": "display_data",
          "data": {
            "text/html": [
              "<pre>+--------------------------------+------------+</pre>"
            ],
            "text/plain": [
              "+--------------------------------+------------+"
            ]
          },
          "metadata": {
            "tags": []
          }
        },
        {
          "output_type": "display_data",
          "data": {
            "text/html": [
              "<pre>| 11.215ms                       | 0.5        |</pre>"
            ],
            "text/plain": [
              "| 11.215ms                       | 0.5        |"
            ]
          },
          "metadata": {
            "tags": []
          }
        },
        {
          "output_type": "display_data",
          "data": {
            "text/html": [
              "<pre>| 558.65ms                       | 100        |</pre>"
            ],
            "text/plain": [
              "| 558.65ms                       | 100        |"
            ]
          },
          "metadata": {
            "tags": []
          }
        },
        {
          "output_type": "display_data",
          "data": {
            "text/html": [
              "<pre>+--------------------------------+------------+</pre>"
            ],
            "text/plain": [
              "+--------------------------------+------------+"
            ]
          },
          "metadata": {
            "tags": []
          }
        },
        {
          "output_type": "display_data",
          "data": {
            "text/html": [
              "<pre>Setting up lookup tables.</pre>"
            ],
            "text/plain": [
              "Setting up lookup tables."
            ]
          },
          "metadata": {
            "tags": []
          }
        },
        {
          "output_type": "display_data",
          "data": {
            "text/html": [
              "<pre>Processing data in one pass using dense lookup tables.</pre>"
            ],
            "text/plain": [
              "Processing data in one pass using dense lookup tables."
            ]
          },
          "metadata": {
            "tags": []
          }
        },
        {
          "output_type": "display_data",
          "data": {
            "text/html": [
              "<pre>+-------------------------------------+------------------+-----------------+</pre>"
            ],
            "text/plain": [
              "+-------------------------------------+------------------+-----------------+"
            ]
          },
          "metadata": {
            "tags": []
          }
        },
        {
          "output_type": "display_data",
          "data": {
            "text/html": [
              "<pre>| Elapsed Time (Constructing Lookups) | Total % Complete | Items Processed |</pre>"
            ],
            "text/plain": [
              "| Elapsed Time (Constructing Lookups) | Total % Complete | Items Processed |"
            ]
          },
          "metadata": {
            "tags": []
          }
        },
        {
          "output_type": "display_data",
          "data": {
            "text/html": [
              "<pre>+-------------------------------------+------------------+-----------------+</pre>"
            ],
            "text/plain": [
              "+-------------------------------------+------------------+-----------------+"
            ]
          },
          "metadata": {
            "tags": []
          }
        },
        {
          "output_type": "display_data",
          "data": {
            "text/html": [
              "<pre>| 2.00s                               | 0                | 0               |</pre>"
            ],
            "text/plain": [
              "| 2.00s                               | 0                | 0               |"
            ]
          },
          "metadata": {
            "tags": []
          }
        },
        {
          "output_type": "display_data",
          "data": {
            "text/html": [
              "<pre>| 5.00s                               | 2                | 548             |</pre>"
            ],
            "text/plain": [
              "| 5.00s                               | 2                | 548             |"
            ]
          },
          "metadata": {
            "tags": []
          }
        },
        {
          "output_type": "display_data",
          "data": {
            "text/html": [
              "<pre>| 8.00s                               | 3.5              | 996             |</pre>"
            ],
            "text/plain": [
              "| 8.00s                               | 3.5              | 996             |"
            ]
          },
          "metadata": {
            "tags": []
          }
        },
        {
          "output_type": "display_data",
          "data": {
            "text/html": [
              "<pre>| 11.04s                              | 5.5              | 1483            |</pre>"
            ],
            "text/plain": [
              "| 11.04s                              | 5.5              | 1483            |"
            ]
          },
          "metadata": {
            "tags": []
          }
        },
        {
          "output_type": "display_data",
          "data": {
            "text/html": [
              "<pre>| 14.05s                              | 7.25             | 1988            |</pre>"
            ],
            "text/plain": [
              "| 14.05s                              | 7.25             | 1988            |"
            ]
          },
          "metadata": {
            "tags": []
          }
        },
        {
          "output_type": "display_data",
          "data": {
            "text/html": [
              "<pre>| 17.00s                              | 8.75             | 2398            |</pre>"
            ],
            "text/plain": [
              "| 17.00s                              | 8.75             | 2398            |"
            ]
          },
          "metadata": {
            "tags": []
          }
        },
        {
          "output_type": "display_data",
          "data": {
            "text/html": [
              "<pre>| 20.00s                              | 10.5             | 2839            |</pre>"
            ],
            "text/plain": [
              "| 20.00s                              | 10.5             | 2839            |"
            ]
          },
          "metadata": {
            "tags": []
          }
        },
        {
          "output_type": "display_data",
          "data": {
            "text/html": [
              "<pre>| 23.00s                              | 12.25            | 3329            |</pre>"
            ],
            "text/plain": [
              "| 23.00s                              | 12.25            | 3329            |"
            ]
          },
          "metadata": {
            "tags": []
          }
        },
        {
          "output_type": "display_data",
          "data": {
            "text/html": [
              "<pre>| 26.00s                              | 14.25            | 3812            |</pre>"
            ],
            "text/plain": [
              "| 26.00s                              | 14.25            | 3812            |"
            ]
          },
          "metadata": {
            "tags": []
          }
        },
        {
          "output_type": "display_data",
          "data": {
            "text/html": [
              "<pre>| 29.00s                              | 15.75            | 4241            |</pre>"
            ],
            "text/plain": [
              "| 29.00s                              | 15.75            | 4241            |"
            ]
          },
          "metadata": {
            "tags": []
          }
        },
        {
          "output_type": "display_data",
          "data": {
            "text/html": [
              "<pre>| 32.06s                              | 17.5             | 4686            |</pre>"
            ],
            "text/plain": [
              "| 32.06s                              | 17.5             | 4686            |"
            ]
          },
          "metadata": {
            "tags": []
          }
        },
        {
          "output_type": "display_data",
          "data": {
            "text/html": [
              "<pre>| 35.00s                              | 19               | 5094            |</pre>"
            ],
            "text/plain": [
              "| 35.00s                              | 19               | 5094            |"
            ]
          },
          "metadata": {
            "tags": []
          }
        },
        {
          "output_type": "display_data",
          "data": {
            "text/html": [
              "<pre>| 38.00s                              | 20.75            | 5583            |</pre>"
            ],
            "text/plain": [
              "| 38.00s                              | 20.75            | 5583            |"
            ]
          },
          "metadata": {
            "tags": []
          }
        },
        {
          "output_type": "display_data",
          "data": {
            "text/html": [
              "<pre>| 41.00s                              | 22.5             | 6015            |</pre>"
            ],
            "text/plain": [
              "| 41.00s                              | 22.5             | 6015            |"
            ]
          },
          "metadata": {
            "tags": []
          }
        },
        {
          "output_type": "display_data",
          "data": {
            "text/html": [
              "<pre>| 44.00s                              | 24               | 6456            |</pre>"
            ],
            "text/plain": [
              "| 44.00s                              | 24               | 6456            |"
            ]
          },
          "metadata": {
            "tags": []
          }
        },
        {
          "output_type": "display_data",
          "data": {
            "text/html": [
              "<pre>| 47.03s                              | 25.75            | 6881            |</pre>"
            ],
            "text/plain": [
              "| 47.03s                              | 25.75            | 6881            |"
            ]
          },
          "metadata": {
            "tags": []
          }
        },
        {
          "output_type": "display_data",
          "data": {
            "text/html": [
              "<pre>| 50.00s                              | 27.25            | 7304            |</pre>"
            ],
            "text/plain": [
              "| 50.00s                              | 27.25            | 7304            |"
            ]
          },
          "metadata": {
            "tags": []
          }
        },
        {
          "output_type": "display_data",
          "data": {
            "text/html": [
              "<pre>| 53.00s                              | 29               | 7749            |</pre>"
            ],
            "text/plain": [
              "| 53.00s                              | 29               | 7749            |"
            ]
          },
          "metadata": {
            "tags": []
          }
        },
        {
          "output_type": "display_data",
          "data": {
            "text/html": [
              "<pre>| 56.00s                              | 30.5             | 8184            |</pre>"
            ],
            "text/plain": [
              "| 56.00s                              | 30.5             | 8184            |"
            ]
          },
          "metadata": {
            "tags": []
          }
        },
        {
          "output_type": "display_data",
          "data": {
            "text/html": [
              "<pre>| 59.00s                              | 32.25            | 8628            |</pre>"
            ],
            "text/plain": [
              "| 59.00s                              | 32.25            | 8628            |"
            ]
          },
          "metadata": {
            "tags": []
          }
        },
        {
          "output_type": "display_data",
          "data": {
            "text/html": [
              "<pre>| 1m 2s                               | 34               | 9097            |</pre>"
            ],
            "text/plain": [
              "| 1m 2s                               | 34               | 9097            |"
            ]
          },
          "metadata": {
            "tags": []
          }
        },
        {
          "output_type": "display_data",
          "data": {
            "text/html": [
              "<pre>| 1m 5s                               | 35.5             | 9513            |</pre>"
            ],
            "text/plain": [
              "| 1m 5s                               | 35.5             | 9513            |"
            ]
          },
          "metadata": {
            "tags": []
          }
        },
        {
          "output_type": "display_data",
          "data": {
            "text/html": [
              "<pre>| 1m 8s                               | 37.25            | 9954            |</pre>"
            ],
            "text/plain": [
              "| 1m 8s                               | 37.25            | 9954            |"
            ]
          },
          "metadata": {
            "tags": []
          }
        },
        {
          "output_type": "display_data",
          "data": {
            "text/html": [
              "<pre>| 1m 11s                              | 38.75            | 10362           |</pre>"
            ],
            "text/plain": [
              "| 1m 11s                              | 38.75            | 10362           |"
            ]
          },
          "metadata": {
            "tags": []
          }
        },
        {
          "output_type": "display_data",
          "data": {
            "text/html": [
              "<pre>| 1m 14s                              | 40.25            | 10794           |</pre>"
            ],
            "text/plain": [
              "| 1m 14s                              | 40.25            | 10794           |"
            ]
          },
          "metadata": {
            "tags": []
          }
        },
        {
          "output_type": "display_data",
          "data": {
            "text/html": [
              "<pre>| 1m 17s                              | 42               | 11218           |</pre>"
            ],
            "text/plain": [
              "| 1m 17s                              | 42               | 11218           |"
            ]
          },
          "metadata": {
            "tags": []
          }
        },
        {
          "output_type": "display_data",
          "data": {
            "text/html": [
              "<pre>| 1m 20s                              | 43.5             | 11639           |</pre>"
            ],
            "text/plain": [
              "| 1m 20s                              | 43.5             | 11639           |"
            ]
          },
          "metadata": {
            "tags": []
          }
        },
        {
          "output_type": "display_data",
          "data": {
            "text/html": [
              "<pre>| 1m 23s                              | 45               | 12060           |</pre>"
            ],
            "text/plain": [
              "| 1m 23s                              | 45               | 12060           |"
            ]
          },
          "metadata": {
            "tags": []
          }
        },
        {
          "output_type": "display_data",
          "data": {
            "text/html": [
              "<pre>| 1m 26s                              | 46.75            | 12490           |</pre>"
            ],
            "text/plain": [
              "| 1m 26s                              | 46.75            | 12490           |"
            ]
          },
          "metadata": {
            "tags": []
          }
        },
        {
          "output_type": "display_data",
          "data": {
            "text/html": [
              "<pre>| 1m 29s                              | 48.25            | 12921           |</pre>"
            ],
            "text/plain": [
              "| 1m 29s                              | 48.25            | 12921           |"
            ]
          },
          "metadata": {
            "tags": []
          }
        },
        {
          "output_type": "display_data",
          "data": {
            "text/html": [
              "<pre>| 1m 32s                              | 50               | 13372           |</pre>"
            ],
            "text/plain": [
              "| 1m 32s                              | 50               | 13372           |"
            ]
          },
          "metadata": {
            "tags": []
          }
        },
        {
          "output_type": "display_data",
          "data": {
            "text/html": [
              "<pre>| 1m 35s                              | 51.75            | 13845           |</pre>"
            ],
            "text/plain": [
              "| 1m 35s                              | 51.75            | 13845           |"
            ]
          },
          "metadata": {
            "tags": []
          }
        },
        {
          "output_type": "display_data",
          "data": {
            "text/html": [
              "<pre>| 1m 38s                              | 53.25            | 14259           |</pre>"
            ],
            "text/plain": [
              "| 1m 38s                              | 53.25            | 14259           |"
            ]
          },
          "metadata": {
            "tags": []
          }
        },
        {
          "output_type": "display_data",
          "data": {
            "text/html": [
              "<pre>| 1m 41s                              | 55               | 14697           |</pre>"
            ],
            "text/plain": [
              "| 1m 41s                              | 55               | 14697           |"
            ]
          },
          "metadata": {
            "tags": []
          }
        },
        {
          "output_type": "display_data",
          "data": {
            "text/html": [
              "<pre>| 1m 44s                              | 56.5             | 15111           |</pre>"
            ],
            "text/plain": [
              "| 1m 44s                              | 56.5             | 15111           |"
            ]
          },
          "metadata": {
            "tags": []
          }
        },
        {
          "output_type": "display_data",
          "data": {
            "text/html": [
              "<pre>| 1m 47s                              | 58.25            | 15545           |</pre>"
            ],
            "text/plain": [
              "| 1m 47s                              | 58.25            | 15545           |"
            ]
          },
          "metadata": {
            "tags": []
          }
        },
        {
          "output_type": "display_data",
          "data": {
            "text/html": [
              "<pre>| 1m 50s                              | 59.75            | 15960           |</pre>"
            ],
            "text/plain": [
              "| 1m 50s                              | 59.75            | 15960           |"
            ]
          },
          "metadata": {
            "tags": []
          }
        },
        {
          "output_type": "display_data",
          "data": {
            "text/html": [
              "<pre>| 1m 53s                              | 61.25            | 16380           |</pre>"
            ],
            "text/plain": [
              "| 1m 53s                              | 61.25            | 16380           |"
            ]
          },
          "metadata": {
            "tags": []
          }
        },
        {
          "output_type": "display_data",
          "data": {
            "text/html": [
              "<pre>| 1m 56s                              | 63               | 16811           |</pre>"
            ],
            "text/plain": [
              "| 1m 56s                              | 63               | 16811           |"
            ]
          },
          "metadata": {
            "tags": []
          }
        },
        {
          "output_type": "display_data",
          "data": {
            "text/html": [
              "<pre>| 1m 59s                              | 64.5             | 17227           |</pre>"
            ],
            "text/plain": [
              "| 1m 59s                              | 64.5             | 17227           |"
            ]
          },
          "metadata": {
            "tags": []
          }
        },
        {
          "output_type": "display_data",
          "data": {
            "text/html": [
              "<pre>| 2m 2s                               | 66               | 17643           |</pre>"
            ],
            "text/plain": [
              "| 2m 2s                               | 66               | 17643           |"
            ]
          },
          "metadata": {
            "tags": []
          }
        },
        {
          "output_type": "display_data",
          "data": {
            "text/html": [
              "<pre>| 2m 5s                               | 67.75            | 18073           |</pre>"
            ],
            "text/plain": [
              "| 2m 5s                               | 67.75            | 18073           |"
            ]
          },
          "metadata": {
            "tags": []
          }
        },
        {
          "output_type": "display_data",
          "data": {
            "text/html": [
              "<pre>| 2m 8s                               | 69.25            | 18499           |</pre>"
            ],
            "text/plain": [
              "| 2m 8s                               | 69.25            | 18499           |"
            ]
          },
          "metadata": {
            "tags": []
          }
        },
        {
          "output_type": "display_data",
          "data": {
            "text/html": [
              "<pre>| 2m 11s                              | 71.25            | 19004           |</pre>"
            ],
            "text/plain": [
              "| 2m 11s                              | 71.25            | 19004           |"
            ]
          },
          "metadata": {
            "tags": []
          }
        },
        {
          "output_type": "display_data",
          "data": {
            "text/html": [
              "<pre>| 2m 14s                              | 72.75            | 19424           |</pre>"
            ],
            "text/plain": [
              "| 2m 14s                              | 72.75            | 19424           |"
            ]
          },
          "metadata": {
            "tags": []
          }
        },
        {
          "output_type": "display_data",
          "data": {
            "text/html": [
              "<pre>| 2m 17s                              | 74.5             | 19894           |</pre>"
            ],
            "text/plain": [
              "| 2m 17s                              | 74.5             | 19894           |"
            ]
          },
          "metadata": {
            "tags": []
          }
        },
        {
          "output_type": "display_data",
          "data": {
            "text/html": [
              "<pre>| 2m 20s                              | 76.25            | 20333           |</pre>"
            ],
            "text/plain": [
              "| 2m 20s                              | 76.25            | 20333           |"
            ]
          },
          "metadata": {
            "tags": []
          }
        },
        {
          "output_type": "display_data",
          "data": {
            "text/html": [
              "<pre>| 2m 23s                              | 77.75            | 20758           |</pre>"
            ],
            "text/plain": [
              "| 2m 23s                              | 77.75            | 20758           |"
            ]
          },
          "metadata": {
            "tags": []
          }
        },
        {
          "output_type": "display_data",
          "data": {
            "text/html": [
              "<pre>| 2m 26s                              | 79.25            | 21186           |</pre>"
            ],
            "text/plain": [
              "| 2m 26s                              | 79.25            | 21186           |"
            ]
          },
          "metadata": {
            "tags": []
          }
        },
        {
          "output_type": "display_data",
          "data": {
            "text/html": [
              "<pre>| 2m 29s                              | 81               | 21607           |</pre>"
            ],
            "text/plain": [
              "| 2m 29s                              | 81               | 21607           |"
            ]
          },
          "metadata": {
            "tags": []
          }
        },
        {
          "output_type": "display_data",
          "data": {
            "text/html": [
              "<pre>| 2m 32s                              | 82.75            | 22059           |</pre>"
            ],
            "text/plain": [
              "| 2m 32s                              | 82.75            | 22059           |"
            ]
          },
          "metadata": {
            "tags": []
          }
        },
        {
          "output_type": "display_data",
          "data": {
            "text/html": [
              "<pre>| 2m 35s                              | 84.25            | 22478           |</pre>"
            ],
            "text/plain": [
              "| 2m 35s                              | 84.25            | 22478           |"
            ]
          },
          "metadata": {
            "tags": []
          }
        },
        {
          "output_type": "display_data",
          "data": {
            "text/html": [
              "<pre>| 2m 38s                              | 85.75            | 22922           |</pre>"
            ],
            "text/plain": [
              "| 2m 38s                              | 85.75            | 22922           |"
            ]
          },
          "metadata": {
            "tags": []
          }
        },
        {
          "output_type": "display_data",
          "data": {
            "text/html": [
              "<pre>| 2m 41s                              | 87.5             | 23337           |</pre>"
            ],
            "text/plain": [
              "| 2m 41s                              | 87.5             | 23337           |"
            ]
          },
          "metadata": {
            "tags": []
          }
        },
        {
          "output_type": "display_data",
          "data": {
            "text/html": [
              "<pre>| 2m 44s                              | 89               | 23780           |</pre>"
            ],
            "text/plain": [
              "| 2m 44s                              | 89               | 23780           |"
            ]
          },
          "metadata": {
            "tags": []
          }
        },
        {
          "output_type": "display_data",
          "data": {
            "text/html": [
              "<pre>| 2m 47s                              | 90.75            | 24251           |</pre>"
            ],
            "text/plain": [
              "| 2m 47s                              | 90.75            | 24251           |"
            ]
          },
          "metadata": {
            "tags": []
          }
        },
        {
          "output_type": "display_data",
          "data": {
            "text/html": [
              "<pre>| 2m 50s                              | 92.5             | 24681           |</pre>"
            ],
            "text/plain": [
              "| 2m 50s                              | 92.5             | 24681           |"
            ]
          },
          "metadata": {
            "tags": []
          }
        },
        {
          "output_type": "display_data",
          "data": {
            "text/html": [
              "<pre>| 2m 53s                              | 94               | 25119           |</pre>"
            ],
            "text/plain": [
              "| 2m 53s                              | 94               | 25119           |"
            ]
          },
          "metadata": {
            "tags": []
          }
        },
        {
          "output_type": "display_data",
          "data": {
            "text/html": [
              "<pre>| 2m 56s                              | 95.75            | 25540           |</pre>"
            ],
            "text/plain": [
              "| 2m 56s                              | 95.75            | 25540           |"
            ]
          },
          "metadata": {
            "tags": []
          }
        },
        {
          "output_type": "display_data",
          "data": {
            "text/html": [
              "<pre>| 2m 59s                              | 97.25            | 25983           |</pre>"
            ],
            "text/plain": [
              "| 2m 59s                              | 97.25            | 25983           |"
            ]
          },
          "metadata": {
            "tags": []
          }
        },
        {
          "output_type": "display_data",
          "data": {
            "text/html": [
              "<pre>| 3m 2s                               | 99               | 26429           |</pre>"
            ],
            "text/plain": [
              "| 3m 2s                               | 99               | 26429           |"
            ]
          },
          "metadata": {
            "tags": []
          }
        },
        {
          "output_type": "display_data",
          "data": {
            "text/html": [
              "<pre>| 3m 11s                              | 100              | 26657           |</pre>"
            ],
            "text/plain": [
              "| 3m 11s                              | 100              | 26657           |"
            ]
          },
          "metadata": {
            "tags": []
          }
        },
        {
          "output_type": "display_data",
          "data": {
            "text/html": [
              "<pre>+-------------------------------------+------------------+-----------------+</pre>"
            ],
            "text/plain": [
              "+-------------------------------------+------------------+-----------------+"
            ]
          },
          "metadata": {
            "tags": []
          }
        },
        {
          "output_type": "display_data",
          "data": {
            "text/html": [
              "<pre>Finalizing lookup tables.</pre>"
            ],
            "text/plain": [
              "Finalizing lookup tables."
            ]
          },
          "metadata": {
            "tags": []
          }
        },
        {
          "output_type": "display_data",
          "data": {
            "text/html": [
              "<pre>Generating candidate set for working with new users.</pre>"
            ],
            "text/plain": [
              "Generating candidate set for working with new users."
            ]
          },
          "metadata": {
            "tags": []
          }
        },
        {
          "output_type": "display_data",
          "data": {
            "text/html": [
              "<pre>Finished training in 193.673s</pre>"
            ],
            "text/plain": [
              "Finished training in 193.673s"
            ]
          },
          "metadata": {
            "tags": []
          }
        }
      ]
    },
    {
      "cell_type": "code",
      "metadata": {
        "id": "TpLOw4SN91YP",
        "outputId": "951e45e6-902d-4123-e3bc-857d61d26a6e",
        "colab": {
          "base_uri": "https://localhost:8080/",
          "height": 2363
        }
      },
      "source": [
        "results = model.recommend()"
      ],
      "execution_count": null,
      "outputs": [
        {
          "output_type": "display_data",
          "data": {
            "text/html": [
              "<pre>recommendations finished on 1000/138493 queries. users per second: 2917.41</pre>"
            ],
            "text/plain": [
              "recommendations finished on 1000/138493 queries. users per second: 2917.41"
            ]
          },
          "metadata": {
            "tags": []
          }
        },
        {
          "output_type": "display_data",
          "data": {
            "text/html": [
              "<pre>recommendations finished on 2000/138493 queries. users per second: 2921.47</pre>"
            ],
            "text/plain": [
              "recommendations finished on 2000/138493 queries. users per second: 2921.47"
            ]
          },
          "metadata": {
            "tags": []
          }
        },
        {
          "output_type": "display_data",
          "data": {
            "text/html": [
              "<pre>recommendations finished on 3000/138493 queries. users per second: 2936.69</pre>"
            ],
            "text/plain": [
              "recommendations finished on 3000/138493 queries. users per second: 2936.69"
            ]
          },
          "metadata": {
            "tags": []
          }
        },
        {
          "output_type": "display_data",
          "data": {
            "text/html": [
              "<pre>recommendations finished on 4000/138493 queries. users per second: 2935.25</pre>"
            ],
            "text/plain": [
              "recommendations finished on 4000/138493 queries. users per second: 2935.25"
            ]
          },
          "metadata": {
            "tags": []
          }
        },
        {
          "output_type": "display_data",
          "data": {
            "text/html": [
              "<pre>recommendations finished on 5000/138493 queries. users per second: 2932.59</pre>"
            ],
            "text/plain": [
              "recommendations finished on 5000/138493 queries. users per second: 2932.59"
            ]
          },
          "metadata": {
            "tags": []
          }
        },
        {
          "output_type": "display_data",
          "data": {
            "text/html": [
              "<pre>recommendations finished on 6000/138493 queries. users per second: 2785.59</pre>"
            ],
            "text/plain": [
              "recommendations finished on 6000/138493 queries. users per second: 2785.59"
            ]
          },
          "metadata": {
            "tags": []
          }
        },
        {
          "output_type": "display_data",
          "data": {
            "text/html": [
              "<pre>recommendations finished on 7000/138493 queries. users per second: 2665.66</pre>"
            ],
            "text/plain": [
              "recommendations finished on 7000/138493 queries. users per second: 2665.66"
            ]
          },
          "metadata": {
            "tags": []
          }
        },
        {
          "output_type": "display_data",
          "data": {
            "text/html": [
              "<pre>recommendations finished on 8000/138493 queries. users per second: 2581.26</pre>"
            ],
            "text/plain": [
              "recommendations finished on 8000/138493 queries. users per second: 2581.26"
            ]
          },
          "metadata": {
            "tags": []
          }
        },
        {
          "output_type": "display_data",
          "data": {
            "text/html": [
              "<pre>recommendations finished on 9000/138493 queries. users per second: 2519.03</pre>"
            ],
            "text/plain": [
              "recommendations finished on 9000/138493 queries. users per second: 2519.03"
            ]
          },
          "metadata": {
            "tags": []
          }
        },
        {
          "output_type": "display_data",
          "data": {
            "text/html": [
              "<pre>recommendations finished on 10000/138493 queries. users per second: 2474.95</pre>"
            ],
            "text/plain": [
              "recommendations finished on 10000/138493 queries. users per second: 2474.95"
            ]
          },
          "metadata": {
            "tags": []
          }
        },
        {
          "output_type": "display_data",
          "data": {
            "text/html": [
              "<pre>recommendations finished on 11000/138493 queries. users per second: 2438.44</pre>"
            ],
            "text/plain": [
              "recommendations finished on 11000/138493 queries. users per second: 2438.44"
            ]
          },
          "metadata": {
            "tags": []
          }
        },
        {
          "output_type": "display_data",
          "data": {
            "text/html": [
              "<pre>recommendations finished on 12000/138493 queries. users per second: 2408.19</pre>"
            ],
            "text/plain": [
              "recommendations finished on 12000/138493 queries. users per second: 2408.19"
            ]
          },
          "metadata": {
            "tags": []
          }
        },
        {
          "output_type": "display_data",
          "data": {
            "text/html": [
              "<pre>recommendations finished on 13000/138493 queries. users per second: 2385.1</pre>"
            ],
            "text/plain": [
              "recommendations finished on 13000/138493 queries. users per second: 2385.1"
            ]
          },
          "metadata": {
            "tags": []
          }
        },
        {
          "output_type": "display_data",
          "data": {
            "text/html": [
              "<pre>recommendations finished on 14000/138493 queries. users per second: 2360.14</pre>"
            ],
            "text/plain": [
              "recommendations finished on 14000/138493 queries. users per second: 2360.14"
            ]
          },
          "metadata": {
            "tags": []
          }
        },
        {
          "output_type": "display_data",
          "data": {
            "text/html": [
              "<pre>recommendations finished on 15000/138493 queries. users per second: 2344.09</pre>"
            ],
            "text/plain": [
              "recommendations finished on 15000/138493 queries. users per second: 2344.09"
            ]
          },
          "metadata": {
            "tags": []
          }
        },
        {
          "output_type": "display_data",
          "data": {
            "text/html": [
              "<pre>recommendations finished on 16000/138493 queries. users per second: 2326.82</pre>"
            ],
            "text/plain": [
              "recommendations finished on 16000/138493 queries. users per second: 2326.82"
            ]
          },
          "metadata": {
            "tags": []
          }
        },
        {
          "output_type": "display_data",
          "data": {
            "text/html": [
              "<pre>recommendations finished on 17000/138493 queries. users per second: 2314.04</pre>"
            ],
            "text/plain": [
              "recommendations finished on 17000/138493 queries. users per second: 2314.04"
            ]
          },
          "metadata": {
            "tags": []
          }
        },
        {
          "output_type": "display_data",
          "data": {
            "text/html": [
              "<pre>recommendations finished on 18000/138493 queries. users per second: 2301.04</pre>"
            ],
            "text/plain": [
              "recommendations finished on 18000/138493 queries. users per second: 2301.04"
            ]
          },
          "metadata": {
            "tags": []
          }
        },
        {
          "output_type": "display_data",
          "data": {
            "text/html": [
              "<pre>recommendations finished on 19000/138493 queries. users per second: 2290.58</pre>"
            ],
            "text/plain": [
              "recommendations finished on 19000/138493 queries. users per second: 2290.58"
            ]
          },
          "metadata": {
            "tags": []
          }
        },
        {
          "output_type": "display_data",
          "data": {
            "text/html": [
              "<pre>recommendations finished on 20000/138493 queries. users per second: 2277.58</pre>"
            ],
            "text/plain": [
              "recommendations finished on 20000/138493 queries. users per second: 2277.58"
            ]
          },
          "metadata": {
            "tags": []
          }
        },
        {
          "output_type": "display_data",
          "data": {
            "text/html": [
              "<pre>recommendations finished on 21000/138493 queries. users per second: 2269.54</pre>"
            ],
            "text/plain": [
              "recommendations finished on 21000/138493 queries. users per second: 2269.54"
            ]
          },
          "metadata": {
            "tags": []
          }
        },
        {
          "output_type": "display_data",
          "data": {
            "text/html": [
              "<pre>recommendations finished on 22000/138493 queries. users per second: 2261.27</pre>"
            ],
            "text/plain": [
              "recommendations finished on 22000/138493 queries. users per second: 2261.27"
            ]
          },
          "metadata": {
            "tags": []
          }
        },
        {
          "output_type": "display_data",
          "data": {
            "text/html": [
              "<pre>recommendations finished on 23000/138493 queries. users per second: 2255.25</pre>"
            ],
            "text/plain": [
              "recommendations finished on 23000/138493 queries. users per second: 2255.25"
            ]
          },
          "metadata": {
            "tags": []
          }
        },
        {
          "output_type": "display_data",
          "data": {
            "text/html": [
              "<pre>recommendations finished on 24000/138493 queries. users per second: 2248.61</pre>"
            ],
            "text/plain": [
              "recommendations finished on 24000/138493 queries. users per second: 2248.61"
            ]
          },
          "metadata": {
            "tags": []
          }
        },
        {
          "output_type": "display_data",
          "data": {
            "text/html": [
              "<pre>recommendations finished on 25000/138493 queries. users per second: 2243.23</pre>"
            ],
            "text/plain": [
              "recommendations finished on 25000/138493 queries. users per second: 2243.23"
            ]
          },
          "metadata": {
            "tags": []
          }
        },
        {
          "output_type": "display_data",
          "data": {
            "text/html": [
              "<pre>recommendations finished on 26000/138493 queries. users per second: 2238.76</pre>"
            ],
            "text/plain": [
              "recommendations finished on 26000/138493 queries. users per second: 2238.76"
            ]
          },
          "metadata": {
            "tags": []
          }
        },
        {
          "output_type": "display_data",
          "data": {
            "text/html": [
              "<pre>recommendations finished on 27000/138493 queries. users per second: 2231.74</pre>"
            ],
            "text/plain": [
              "recommendations finished on 27000/138493 queries. users per second: 2231.74"
            ]
          },
          "metadata": {
            "tags": []
          }
        },
        {
          "output_type": "display_data",
          "data": {
            "text/html": [
              "<pre>recommendations finished on 28000/138493 queries. users per second: 2227.56</pre>"
            ],
            "text/plain": [
              "recommendations finished on 28000/138493 queries. users per second: 2227.56"
            ]
          },
          "metadata": {
            "tags": []
          }
        },
        {
          "output_type": "display_data",
          "data": {
            "text/html": [
              "<pre>recommendations finished on 29000/138493 queries. users per second: 2222.45</pre>"
            ],
            "text/plain": [
              "recommendations finished on 29000/138493 queries. users per second: 2222.45"
            ]
          },
          "metadata": {
            "tags": []
          }
        },
        {
          "output_type": "display_data",
          "data": {
            "text/html": [
              "<pre>recommendations finished on 30000/138493 queries. users per second: 2219.62</pre>"
            ],
            "text/plain": [
              "recommendations finished on 30000/138493 queries. users per second: 2219.62"
            ]
          },
          "metadata": {
            "tags": []
          }
        },
        {
          "output_type": "display_data",
          "data": {
            "text/html": [
              "<pre>recommendations finished on 31000/138493 queries. users per second: 2214.86</pre>"
            ],
            "text/plain": [
              "recommendations finished on 31000/138493 queries. users per second: 2214.86"
            ]
          },
          "metadata": {
            "tags": []
          }
        },
        {
          "output_type": "display_data",
          "data": {
            "text/html": [
              "<pre>recommendations finished on 32000/138493 queries. users per second: 2211.36</pre>"
            ],
            "text/plain": [
              "recommendations finished on 32000/138493 queries. users per second: 2211.36"
            ]
          },
          "metadata": {
            "tags": []
          }
        },
        {
          "output_type": "display_data",
          "data": {
            "text/html": [
              "<pre>recommendations finished on 33000/138493 queries. users per second: 2207.9</pre>"
            ],
            "text/plain": [
              "recommendations finished on 33000/138493 queries. users per second: 2207.9"
            ]
          },
          "metadata": {
            "tags": []
          }
        },
        {
          "output_type": "display_data",
          "data": {
            "text/html": [
              "<pre>recommendations finished on 34000/138493 queries. users per second: 2204.56</pre>"
            ],
            "text/plain": [
              "recommendations finished on 34000/138493 queries. users per second: 2204.56"
            ]
          },
          "metadata": {
            "tags": []
          }
        },
        {
          "output_type": "display_data",
          "data": {
            "text/html": [
              "<pre>recommendations finished on 35000/138493 queries. users per second: 2201.24</pre>"
            ],
            "text/plain": [
              "recommendations finished on 35000/138493 queries. users per second: 2201.24"
            ]
          },
          "metadata": {
            "tags": []
          }
        },
        {
          "output_type": "display_data",
          "data": {
            "text/html": [
              "<pre>recommendations finished on 36000/138493 queries. users per second: 2199.36</pre>"
            ],
            "text/plain": [
              "recommendations finished on 36000/138493 queries. users per second: 2199.36"
            ]
          },
          "metadata": {
            "tags": []
          }
        },
        {
          "output_type": "display_data",
          "data": {
            "text/html": [
              "<pre>recommendations finished on 37000/138493 queries. users per second: 2194.95</pre>"
            ],
            "text/plain": [
              "recommendations finished on 37000/138493 queries. users per second: 2194.95"
            ]
          },
          "metadata": {
            "tags": []
          }
        },
        {
          "output_type": "display_data",
          "data": {
            "text/html": [
              "<pre>recommendations finished on 38000/138493 queries. users per second: 2192.64</pre>"
            ],
            "text/plain": [
              "recommendations finished on 38000/138493 queries. users per second: 2192.64"
            ]
          },
          "metadata": {
            "tags": []
          }
        },
        {
          "output_type": "display_data",
          "data": {
            "text/html": [
              "<pre>recommendations finished on 39000/138493 queries. users per second: 2190.81</pre>"
            ],
            "text/plain": [
              "recommendations finished on 39000/138493 queries. users per second: 2190.81"
            ]
          },
          "metadata": {
            "tags": []
          }
        },
        {
          "output_type": "display_data",
          "data": {
            "text/html": [
              "<pre>recommendations finished on 40000/138493 queries. users per second: 2188.31</pre>"
            ],
            "text/plain": [
              "recommendations finished on 40000/138493 queries. users per second: 2188.31"
            ]
          },
          "metadata": {
            "tags": []
          }
        },
        {
          "output_type": "display_data",
          "data": {
            "text/html": [
              "<pre>recommendations finished on 41000/138493 queries. users per second: 2186.06</pre>"
            ],
            "text/plain": [
              "recommendations finished on 41000/138493 queries. users per second: 2186.06"
            ]
          },
          "metadata": {
            "tags": []
          }
        },
        {
          "output_type": "display_data",
          "data": {
            "text/html": [
              "<pre>recommendations finished on 42000/138493 queries. users per second: 2184.11</pre>"
            ],
            "text/plain": [
              "recommendations finished on 42000/138493 queries. users per second: 2184.11"
            ]
          },
          "metadata": {
            "tags": []
          }
        },
        {
          "output_type": "display_data",
          "data": {
            "text/html": [
              "<pre>recommendations finished on 43000/138493 queries. users per second: 2182.76</pre>"
            ],
            "text/plain": [
              "recommendations finished on 43000/138493 queries. users per second: 2182.76"
            ]
          },
          "metadata": {
            "tags": []
          }
        },
        {
          "output_type": "display_data",
          "data": {
            "text/html": [
              "<pre>recommendations finished on 44000/138493 queries. users per second: 2180.54</pre>"
            ],
            "text/plain": [
              "recommendations finished on 44000/138493 queries. users per second: 2180.54"
            ]
          },
          "metadata": {
            "tags": []
          }
        },
        {
          "output_type": "display_data",
          "data": {
            "text/html": [
              "<pre>recommendations finished on 45000/138493 queries. users per second: 2179.63</pre>"
            ],
            "text/plain": [
              "recommendations finished on 45000/138493 queries. users per second: 2179.63"
            ]
          },
          "metadata": {
            "tags": []
          }
        },
        {
          "output_type": "display_data",
          "data": {
            "text/html": [
              "<pre>recommendations finished on 46000/138493 queries. users per second: 2177.19</pre>"
            ],
            "text/plain": [
              "recommendations finished on 46000/138493 queries. users per second: 2177.19"
            ]
          },
          "metadata": {
            "tags": []
          }
        },
        {
          "output_type": "display_data",
          "data": {
            "text/html": [
              "<pre>recommendations finished on 47000/138493 queries. users per second: 2175.32</pre>"
            ],
            "text/plain": [
              "recommendations finished on 47000/138493 queries. users per second: 2175.32"
            ]
          },
          "metadata": {
            "tags": []
          }
        },
        {
          "output_type": "display_data",
          "data": {
            "text/html": [
              "<pre>recommendations finished on 48000/138493 queries. users per second: 2173.31</pre>"
            ],
            "text/plain": [
              "recommendations finished on 48000/138493 queries. users per second: 2173.31"
            ]
          },
          "metadata": {
            "tags": []
          }
        },
        {
          "output_type": "display_data",
          "data": {
            "text/html": [
              "<pre>recommendations finished on 49000/138493 queries. users per second: 2171.22</pre>"
            ],
            "text/plain": [
              "recommendations finished on 49000/138493 queries. users per second: 2171.22"
            ]
          },
          "metadata": {
            "tags": []
          }
        },
        {
          "output_type": "display_data",
          "data": {
            "text/html": [
              "<pre>recommendations finished on 50000/138493 queries. users per second: 2168.25</pre>"
            ],
            "text/plain": [
              "recommendations finished on 50000/138493 queries. users per second: 2168.25"
            ]
          },
          "metadata": {
            "tags": []
          }
        },
        {
          "output_type": "display_data",
          "data": {
            "text/html": [
              "<pre>recommendations finished on 51000/138493 queries. users per second: 2167.99</pre>"
            ],
            "text/plain": [
              "recommendations finished on 51000/138493 queries. users per second: 2167.99"
            ]
          },
          "metadata": {
            "tags": []
          }
        },
        {
          "output_type": "display_data",
          "data": {
            "text/html": [
              "<pre>recommendations finished on 52000/138493 queries. users per second: 2166.51</pre>"
            ],
            "text/plain": [
              "recommendations finished on 52000/138493 queries. users per second: 2166.51"
            ]
          },
          "metadata": {
            "tags": []
          }
        },
        {
          "output_type": "display_data",
          "data": {
            "text/html": [
              "<pre>recommendations finished on 53000/138493 queries. users per second: 2164.74</pre>"
            ],
            "text/plain": [
              "recommendations finished on 53000/138493 queries. users per second: 2164.74"
            ]
          },
          "metadata": {
            "tags": []
          }
        },
        {
          "output_type": "display_data",
          "data": {
            "text/html": [
              "<pre>recommendations finished on 54000/138493 queries. users per second: 2164.14</pre>"
            ],
            "text/plain": [
              "recommendations finished on 54000/138493 queries. users per second: 2164.14"
            ]
          },
          "metadata": {
            "tags": []
          }
        },
        {
          "output_type": "display_data",
          "data": {
            "text/html": [
              "<pre>recommendations finished on 55000/138493 queries. users per second: 2163.03</pre>"
            ],
            "text/plain": [
              "recommendations finished on 55000/138493 queries. users per second: 2163.03"
            ]
          },
          "metadata": {
            "tags": []
          }
        },
        {
          "output_type": "display_data",
          "data": {
            "text/html": [
              "<pre>recommendations finished on 56000/138493 queries. users per second: 2162.71</pre>"
            ],
            "text/plain": [
              "recommendations finished on 56000/138493 queries. users per second: 2162.71"
            ]
          },
          "metadata": {
            "tags": []
          }
        },
        {
          "output_type": "display_data",
          "data": {
            "text/html": [
              "<pre>recommendations finished on 57000/138493 queries. users per second: 2161.44</pre>"
            ],
            "text/plain": [
              "recommendations finished on 57000/138493 queries. users per second: 2161.44"
            ]
          },
          "metadata": {
            "tags": []
          }
        },
        {
          "output_type": "display_data",
          "data": {
            "text/html": [
              "<pre>recommendations finished on 58000/138493 queries. users per second: 2160.08</pre>"
            ],
            "text/plain": [
              "recommendations finished on 58000/138493 queries. users per second: 2160.08"
            ]
          },
          "metadata": {
            "tags": []
          }
        },
        {
          "output_type": "display_data",
          "data": {
            "text/html": [
              "<pre>recommendations finished on 59000/138493 queries. users per second: 2158.62</pre>"
            ],
            "text/plain": [
              "recommendations finished on 59000/138493 queries. users per second: 2158.62"
            ]
          },
          "metadata": {
            "tags": []
          }
        },
        {
          "output_type": "display_data",
          "data": {
            "text/html": [
              "<pre>recommendations finished on 60000/138493 queries. users per second: 2158.36</pre>"
            ],
            "text/plain": [
              "recommendations finished on 60000/138493 queries. users per second: 2158.36"
            ]
          },
          "metadata": {
            "tags": []
          }
        },
        {
          "output_type": "display_data",
          "data": {
            "text/html": [
              "<pre>recommendations finished on 61000/138493 queries. users per second: 2157.56</pre>"
            ],
            "text/plain": [
              "recommendations finished on 61000/138493 queries. users per second: 2157.56"
            ]
          },
          "metadata": {
            "tags": []
          }
        },
        {
          "output_type": "display_data",
          "data": {
            "text/html": [
              "<pre>recommendations finished on 62000/138493 queries. users per second: 2156.8</pre>"
            ],
            "text/plain": [
              "recommendations finished on 62000/138493 queries. users per second: 2156.8"
            ]
          },
          "metadata": {
            "tags": []
          }
        },
        {
          "output_type": "display_data",
          "data": {
            "text/html": [
              "<pre>recommendations finished on 63000/138493 queries. users per second: 2153.8</pre>"
            ],
            "text/plain": [
              "recommendations finished on 63000/138493 queries. users per second: 2153.8"
            ]
          },
          "metadata": {
            "tags": []
          }
        },
        {
          "output_type": "display_data",
          "data": {
            "text/html": [
              "<pre>recommendations finished on 64000/138493 queries. users per second: 2153</pre>"
            ],
            "text/plain": [
              "recommendations finished on 64000/138493 queries. users per second: 2153"
            ]
          },
          "metadata": {
            "tags": []
          }
        },
        {
          "output_type": "display_data",
          "data": {
            "text/html": [
              "<pre>recommendations finished on 65000/138493 queries. users per second: 2151.5</pre>"
            ],
            "text/plain": [
              "recommendations finished on 65000/138493 queries. users per second: 2151.5"
            ]
          },
          "metadata": {
            "tags": []
          }
        },
        {
          "output_type": "display_data",
          "data": {
            "text/html": [
              "<pre>recommendations finished on 66000/138493 queries. users per second: 2151.45</pre>"
            ],
            "text/plain": [
              "recommendations finished on 66000/138493 queries. users per second: 2151.45"
            ]
          },
          "metadata": {
            "tags": []
          }
        },
        {
          "output_type": "display_data",
          "data": {
            "text/html": [
              "<pre>recommendations finished on 67000/138493 queries. users per second: 2150.64</pre>"
            ],
            "text/plain": [
              "recommendations finished on 67000/138493 queries. users per second: 2150.64"
            ]
          },
          "metadata": {
            "tags": []
          }
        },
        {
          "output_type": "display_data",
          "data": {
            "text/html": [
              "<pre>recommendations finished on 68000/138493 queries. users per second: 2150.14</pre>"
            ],
            "text/plain": [
              "recommendations finished on 68000/138493 queries. users per second: 2150.14"
            ]
          },
          "metadata": {
            "tags": []
          }
        },
        {
          "output_type": "display_data",
          "data": {
            "text/html": [
              "<pre>recommendations finished on 69000/138493 queries. users per second: 2149.05</pre>"
            ],
            "text/plain": [
              "recommendations finished on 69000/138493 queries. users per second: 2149.05"
            ]
          },
          "metadata": {
            "tags": []
          }
        },
        {
          "output_type": "display_data",
          "data": {
            "text/html": [
              "<pre>recommendations finished on 70000/138493 queries. users per second: 2148.22</pre>"
            ],
            "text/plain": [
              "recommendations finished on 70000/138493 queries. users per second: 2148.22"
            ]
          },
          "metadata": {
            "tags": []
          }
        },
        {
          "output_type": "display_data",
          "data": {
            "text/html": [
              "<pre>recommendations finished on 71000/138493 queries. users per second: 2147.95</pre>"
            ],
            "text/plain": [
              "recommendations finished on 71000/138493 queries. users per second: 2147.95"
            ]
          },
          "metadata": {
            "tags": []
          }
        },
        {
          "output_type": "display_data",
          "data": {
            "text/html": [
              "<pre>recommendations finished on 72000/138493 queries. users per second: 2147.08</pre>"
            ],
            "text/plain": [
              "recommendations finished on 72000/138493 queries. users per second: 2147.08"
            ]
          },
          "metadata": {
            "tags": []
          }
        },
        {
          "output_type": "display_data",
          "data": {
            "text/html": [
              "<pre>recommendations finished on 73000/138493 queries. users per second: 2146.86</pre>"
            ],
            "text/plain": [
              "recommendations finished on 73000/138493 queries. users per second: 2146.86"
            ]
          },
          "metadata": {
            "tags": []
          }
        },
        {
          "output_type": "display_data",
          "data": {
            "text/html": [
              "<pre>recommendations finished on 74000/138493 queries. users per second: 2145.81</pre>"
            ],
            "text/plain": [
              "recommendations finished on 74000/138493 queries. users per second: 2145.81"
            ]
          },
          "metadata": {
            "tags": []
          }
        },
        {
          "output_type": "display_data",
          "data": {
            "text/html": [
              "<pre>recommendations finished on 75000/138493 queries. users per second: 2144.59</pre>"
            ],
            "text/plain": [
              "recommendations finished on 75000/138493 queries. users per second: 2144.59"
            ]
          },
          "metadata": {
            "tags": []
          }
        },
        {
          "output_type": "display_data",
          "data": {
            "text/html": [
              "<pre>recommendations finished on 76000/138493 queries. users per second: 2143.81</pre>"
            ],
            "text/plain": [
              "recommendations finished on 76000/138493 queries. users per second: 2143.81"
            ]
          },
          "metadata": {
            "tags": []
          }
        },
        {
          "output_type": "display_data",
          "data": {
            "text/html": [
              "<pre>recommendations finished on 77000/138493 queries. users per second: 2142.88</pre>"
            ],
            "text/plain": [
              "recommendations finished on 77000/138493 queries. users per second: 2142.88"
            ]
          },
          "metadata": {
            "tags": []
          }
        },
        {
          "output_type": "display_data",
          "data": {
            "text/html": [
              "<pre>recommendations finished on 78000/138493 queries. users per second: 2141.74</pre>"
            ],
            "text/plain": [
              "recommendations finished on 78000/138493 queries. users per second: 2141.74"
            ]
          },
          "metadata": {
            "tags": []
          }
        },
        {
          "output_type": "display_data",
          "data": {
            "text/html": [
              "<pre>recommendations finished on 79000/138493 queries. users per second: 2141.3</pre>"
            ],
            "text/plain": [
              "recommendations finished on 79000/138493 queries. users per second: 2141.3"
            ]
          },
          "metadata": {
            "tags": []
          }
        },
        {
          "output_type": "display_data",
          "data": {
            "text/html": [
              "<pre>recommendations finished on 80000/138493 queries. users per second: 2140.56</pre>"
            ],
            "text/plain": [
              "recommendations finished on 80000/138493 queries. users per second: 2140.56"
            ]
          },
          "metadata": {
            "tags": []
          }
        },
        {
          "output_type": "display_data",
          "data": {
            "text/html": [
              "<pre>recommendations finished on 81000/138493 queries. users per second: 2140.43</pre>"
            ],
            "text/plain": [
              "recommendations finished on 81000/138493 queries. users per second: 2140.43"
            ]
          },
          "metadata": {
            "tags": []
          }
        },
        {
          "output_type": "display_data",
          "data": {
            "text/html": [
              "<pre>recommendations finished on 82000/138493 queries. users per second: 2139.86</pre>"
            ],
            "text/plain": [
              "recommendations finished on 82000/138493 queries. users per second: 2139.86"
            ]
          },
          "metadata": {
            "tags": []
          }
        },
        {
          "output_type": "display_data",
          "data": {
            "text/html": [
              "<pre>recommendations finished on 83000/138493 queries. users per second: 2139.97</pre>"
            ],
            "text/plain": [
              "recommendations finished on 83000/138493 queries. users per second: 2139.97"
            ]
          },
          "metadata": {
            "tags": []
          }
        },
        {
          "output_type": "display_data",
          "data": {
            "text/html": [
              "<pre>recommendations finished on 84000/138493 queries. users per second: 2140.17</pre>"
            ],
            "text/plain": [
              "recommendations finished on 84000/138493 queries. users per second: 2140.17"
            ]
          },
          "metadata": {
            "tags": []
          }
        },
        {
          "output_type": "display_data",
          "data": {
            "text/html": [
              "<pre>recommendations finished on 85000/138493 queries. users per second: 2139.6</pre>"
            ],
            "text/plain": [
              "recommendations finished on 85000/138493 queries. users per second: 2139.6"
            ]
          },
          "metadata": {
            "tags": []
          }
        },
        {
          "output_type": "display_data",
          "data": {
            "text/html": [
              "<pre>recommendations finished on 86000/138493 queries. users per second: 2139.52</pre>"
            ],
            "text/plain": [
              "recommendations finished on 86000/138493 queries. users per second: 2139.52"
            ]
          },
          "metadata": {
            "tags": []
          }
        },
        {
          "output_type": "display_data",
          "data": {
            "text/html": [
              "<pre>recommendations finished on 87000/138493 queries. users per second: 2139.17</pre>"
            ],
            "text/plain": [
              "recommendations finished on 87000/138493 queries. users per second: 2139.17"
            ]
          },
          "metadata": {
            "tags": []
          }
        },
        {
          "output_type": "display_data",
          "data": {
            "text/html": [
              "<pre>recommendations finished on 88000/138493 queries. users per second: 2139.13</pre>"
            ],
            "text/plain": [
              "recommendations finished on 88000/138493 queries. users per second: 2139.13"
            ]
          },
          "metadata": {
            "tags": []
          }
        },
        {
          "output_type": "display_data",
          "data": {
            "text/html": [
              "<pre>recommendations finished on 89000/138493 queries. users per second: 2138.75</pre>"
            ],
            "text/plain": [
              "recommendations finished on 89000/138493 queries. users per second: 2138.75"
            ]
          },
          "metadata": {
            "tags": []
          }
        },
        {
          "output_type": "display_data",
          "data": {
            "text/html": [
              "<pre>recommendations finished on 90000/138493 queries. users per second: 2138.63</pre>"
            ],
            "text/plain": [
              "recommendations finished on 90000/138493 queries. users per second: 2138.63"
            ]
          },
          "metadata": {
            "tags": []
          }
        },
        {
          "output_type": "display_data",
          "data": {
            "text/html": [
              "<pre>recommendations finished on 91000/138493 queries. users per second: 2138.19</pre>"
            ],
            "text/plain": [
              "recommendations finished on 91000/138493 queries. users per second: 2138.19"
            ]
          },
          "metadata": {
            "tags": []
          }
        },
        {
          "output_type": "display_data",
          "data": {
            "text/html": [
              "<pre>recommendations finished on 92000/138493 queries. users per second: 2138.15</pre>"
            ],
            "text/plain": [
              "recommendations finished on 92000/138493 queries. users per second: 2138.15"
            ]
          },
          "metadata": {
            "tags": []
          }
        },
        {
          "output_type": "display_data",
          "data": {
            "text/html": [
              "<pre>recommendations finished on 93000/138493 queries. users per second: 2137.53</pre>"
            ],
            "text/plain": [
              "recommendations finished on 93000/138493 queries. users per second: 2137.53"
            ]
          },
          "metadata": {
            "tags": []
          }
        },
        {
          "output_type": "display_data",
          "data": {
            "text/html": [
              "<pre>recommendations finished on 94000/138493 queries. users per second: 2137.2</pre>"
            ],
            "text/plain": [
              "recommendations finished on 94000/138493 queries. users per second: 2137.2"
            ]
          },
          "metadata": {
            "tags": []
          }
        },
        {
          "output_type": "display_data",
          "data": {
            "text/html": [
              "<pre>recommendations finished on 95000/138493 queries. users per second: 2136.04</pre>"
            ],
            "text/plain": [
              "recommendations finished on 95000/138493 queries. users per second: 2136.04"
            ]
          },
          "metadata": {
            "tags": []
          }
        },
        {
          "output_type": "display_data",
          "data": {
            "text/html": [
              "<pre>recommendations finished on 96000/138493 queries. users per second: 2136.03</pre>"
            ],
            "text/plain": [
              "recommendations finished on 96000/138493 queries. users per second: 2136.03"
            ]
          },
          "metadata": {
            "tags": []
          }
        },
        {
          "output_type": "display_data",
          "data": {
            "text/html": [
              "<pre>recommendations finished on 97000/138493 queries. users per second: 2136.05</pre>"
            ],
            "text/plain": [
              "recommendations finished on 97000/138493 queries. users per second: 2136.05"
            ]
          },
          "metadata": {
            "tags": []
          }
        },
        {
          "output_type": "display_data",
          "data": {
            "text/html": [
              "<pre>recommendations finished on 98000/138493 queries. users per second: 2135.78</pre>"
            ],
            "text/plain": [
              "recommendations finished on 98000/138493 queries. users per second: 2135.78"
            ]
          },
          "metadata": {
            "tags": []
          }
        },
        {
          "output_type": "display_data",
          "data": {
            "text/html": [
              "<pre>recommendations finished on 99000/138493 queries. users per second: 2135.41</pre>"
            ],
            "text/plain": [
              "recommendations finished on 99000/138493 queries. users per second: 2135.41"
            ]
          },
          "metadata": {
            "tags": []
          }
        },
        {
          "output_type": "display_data",
          "data": {
            "text/html": [
              "<pre>recommendations finished on 100000/138493 queries. users per second: 2134.96</pre>"
            ],
            "text/plain": [
              "recommendations finished on 100000/138493 queries. users per second: 2134.96"
            ]
          },
          "metadata": {
            "tags": []
          }
        },
        {
          "output_type": "display_data",
          "data": {
            "text/html": [
              "<pre>recommendations finished on 101000/138493 queries. users per second: 2134.65</pre>"
            ],
            "text/plain": [
              "recommendations finished on 101000/138493 queries. users per second: 2134.65"
            ]
          },
          "metadata": {
            "tags": []
          }
        },
        {
          "output_type": "display_data",
          "data": {
            "text/html": [
              "<pre>recommendations finished on 102000/138493 queries. users per second: 2134.28</pre>"
            ],
            "text/plain": [
              "recommendations finished on 102000/138493 queries. users per second: 2134.28"
            ]
          },
          "metadata": {
            "tags": []
          }
        },
        {
          "output_type": "display_data",
          "data": {
            "text/html": [
              "<pre>recommendations finished on 103000/138493 queries. users per second: 2134.28</pre>"
            ],
            "text/plain": [
              "recommendations finished on 103000/138493 queries. users per second: 2134.28"
            ]
          },
          "metadata": {
            "tags": []
          }
        },
        {
          "output_type": "display_data",
          "data": {
            "text/html": [
              "<pre>recommendations finished on 104000/138493 queries. users per second: 2133.86</pre>"
            ],
            "text/plain": [
              "recommendations finished on 104000/138493 queries. users per second: 2133.86"
            ]
          },
          "metadata": {
            "tags": []
          }
        },
        {
          "output_type": "display_data",
          "data": {
            "text/html": [
              "<pre>recommendations finished on 105000/138493 queries. users per second: 2133.76</pre>"
            ],
            "text/plain": [
              "recommendations finished on 105000/138493 queries. users per second: 2133.76"
            ]
          },
          "metadata": {
            "tags": []
          }
        },
        {
          "output_type": "display_data",
          "data": {
            "text/html": [
              "<pre>recommendations finished on 106000/138493 queries. users per second: 2133.42</pre>"
            ],
            "text/plain": [
              "recommendations finished on 106000/138493 queries. users per second: 2133.42"
            ]
          },
          "metadata": {
            "tags": []
          }
        },
        {
          "output_type": "display_data",
          "data": {
            "text/html": [
              "<pre>recommendations finished on 107000/138493 queries. users per second: 2133.42</pre>"
            ],
            "text/plain": [
              "recommendations finished on 107000/138493 queries. users per second: 2133.42"
            ]
          },
          "metadata": {
            "tags": []
          }
        },
        {
          "output_type": "display_data",
          "data": {
            "text/html": [
              "<pre>recommendations finished on 108000/138493 queries. users per second: 2133.04</pre>"
            ],
            "text/plain": [
              "recommendations finished on 108000/138493 queries. users per second: 2133.04"
            ]
          },
          "metadata": {
            "tags": []
          }
        },
        {
          "output_type": "display_data",
          "data": {
            "text/html": [
              "<pre>recommendations finished on 109000/138493 queries. users per second: 2132.41</pre>"
            ],
            "text/plain": [
              "recommendations finished on 109000/138493 queries. users per second: 2132.41"
            ]
          },
          "metadata": {
            "tags": []
          }
        },
        {
          "output_type": "display_data",
          "data": {
            "text/html": [
              "<pre>recommendations finished on 110000/138493 queries. users per second: 2132.49</pre>"
            ],
            "text/plain": [
              "recommendations finished on 110000/138493 queries. users per second: 2132.49"
            ]
          },
          "metadata": {
            "tags": []
          }
        },
        {
          "output_type": "display_data",
          "data": {
            "text/html": [
              "<pre>recommendations finished on 111000/138493 queries. users per second: 2132.01</pre>"
            ],
            "text/plain": [
              "recommendations finished on 111000/138493 queries. users per second: 2132.01"
            ]
          },
          "metadata": {
            "tags": []
          }
        },
        {
          "output_type": "display_data",
          "data": {
            "text/html": [
              "<pre>recommendations finished on 112000/138493 queries. users per second: 2131.81</pre>"
            ],
            "text/plain": [
              "recommendations finished on 112000/138493 queries. users per second: 2131.81"
            ]
          },
          "metadata": {
            "tags": []
          }
        },
        {
          "output_type": "display_data",
          "data": {
            "text/html": [
              "<pre>recommendations finished on 113000/138493 queries. users per second: 2131.38</pre>"
            ],
            "text/plain": [
              "recommendations finished on 113000/138493 queries. users per second: 2131.38"
            ]
          },
          "metadata": {
            "tags": []
          }
        },
        {
          "output_type": "display_data",
          "data": {
            "text/html": [
              "<pre>recommendations finished on 114000/138493 queries. users per second: 2130.93</pre>"
            ],
            "text/plain": [
              "recommendations finished on 114000/138493 queries. users per second: 2130.93"
            ]
          },
          "metadata": {
            "tags": []
          }
        },
        {
          "output_type": "display_data",
          "data": {
            "text/html": [
              "<pre>recommendations finished on 115000/138493 queries. users per second: 2130.39</pre>"
            ],
            "text/plain": [
              "recommendations finished on 115000/138493 queries. users per second: 2130.39"
            ]
          },
          "metadata": {
            "tags": []
          }
        },
        {
          "output_type": "display_data",
          "data": {
            "text/html": [
              "<pre>recommendations finished on 116000/138493 queries. users per second: 2130.29</pre>"
            ],
            "text/plain": [
              "recommendations finished on 116000/138493 queries. users per second: 2130.29"
            ]
          },
          "metadata": {
            "tags": []
          }
        },
        {
          "output_type": "display_data",
          "data": {
            "text/html": [
              "<pre>recommendations finished on 117000/138493 queries. users per second: 2129.88</pre>"
            ],
            "text/plain": [
              "recommendations finished on 117000/138493 queries. users per second: 2129.88"
            ]
          },
          "metadata": {
            "tags": []
          }
        },
        {
          "output_type": "display_data",
          "data": {
            "text/html": [
              "<pre>recommendations finished on 118000/138493 queries. users per second: 2129.95</pre>"
            ],
            "text/plain": [
              "recommendations finished on 118000/138493 queries. users per second: 2129.95"
            ]
          },
          "metadata": {
            "tags": []
          }
        },
        {
          "output_type": "display_data",
          "data": {
            "text/html": [
              "<pre>recommendations finished on 119000/138493 queries. users per second: 2129.63</pre>"
            ],
            "text/plain": [
              "recommendations finished on 119000/138493 queries. users per second: 2129.63"
            ]
          },
          "metadata": {
            "tags": []
          }
        },
        {
          "output_type": "display_data",
          "data": {
            "text/html": [
              "<pre>recommendations finished on 120000/138493 queries. users per second: 2129.73</pre>"
            ],
            "text/plain": [
              "recommendations finished on 120000/138493 queries. users per second: 2129.73"
            ]
          },
          "metadata": {
            "tags": []
          }
        },
        {
          "output_type": "display_data",
          "data": {
            "text/html": [
              "<pre>recommendations finished on 121000/138493 queries. users per second: 2129.54</pre>"
            ],
            "text/plain": [
              "recommendations finished on 121000/138493 queries. users per second: 2129.54"
            ]
          },
          "metadata": {
            "tags": []
          }
        },
        {
          "output_type": "display_data",
          "data": {
            "text/html": [
              "<pre>recommendations finished on 122000/138493 queries. users per second: 2129.4</pre>"
            ],
            "text/plain": [
              "recommendations finished on 122000/138493 queries. users per second: 2129.4"
            ]
          },
          "metadata": {
            "tags": []
          }
        },
        {
          "output_type": "display_data",
          "data": {
            "text/html": [
              "<pre>recommendations finished on 123000/138493 queries. users per second: 2129.27</pre>"
            ],
            "text/plain": [
              "recommendations finished on 123000/138493 queries. users per second: 2129.27"
            ]
          },
          "metadata": {
            "tags": []
          }
        },
        {
          "output_type": "display_data",
          "data": {
            "text/html": [
              "<pre>recommendations finished on 124000/138493 queries. users per second: 2129.2</pre>"
            ],
            "text/plain": [
              "recommendations finished on 124000/138493 queries. users per second: 2129.2"
            ]
          },
          "metadata": {
            "tags": []
          }
        },
        {
          "output_type": "display_data",
          "data": {
            "text/html": [
              "<pre>recommendations finished on 125000/138493 queries. users per second: 2129.18</pre>"
            ],
            "text/plain": [
              "recommendations finished on 125000/138493 queries. users per second: 2129.18"
            ]
          },
          "metadata": {
            "tags": []
          }
        },
        {
          "output_type": "display_data",
          "data": {
            "text/html": [
              "<pre>recommendations finished on 126000/138493 queries. users per second: 2129.13</pre>"
            ],
            "text/plain": [
              "recommendations finished on 126000/138493 queries. users per second: 2129.13"
            ]
          },
          "metadata": {
            "tags": []
          }
        },
        {
          "output_type": "display_data",
          "data": {
            "text/html": [
              "<pre>recommendations finished on 127000/138493 queries. users per second: 2128.97</pre>"
            ],
            "text/plain": [
              "recommendations finished on 127000/138493 queries. users per second: 2128.97"
            ]
          },
          "metadata": {
            "tags": []
          }
        },
        {
          "output_type": "display_data",
          "data": {
            "text/html": [
              "<pre>recommendations finished on 128000/138493 queries. users per second: 2129.13</pre>"
            ],
            "text/plain": [
              "recommendations finished on 128000/138493 queries. users per second: 2129.13"
            ]
          },
          "metadata": {
            "tags": []
          }
        },
        {
          "output_type": "display_data",
          "data": {
            "text/html": [
              "<pre>recommendations finished on 129000/138493 queries. users per second: 2129.2</pre>"
            ],
            "text/plain": [
              "recommendations finished on 129000/138493 queries. users per second: 2129.2"
            ]
          },
          "metadata": {
            "tags": []
          }
        },
        {
          "output_type": "display_data",
          "data": {
            "text/html": [
              "<pre>recommendations finished on 130000/138493 queries. users per second: 2128.85</pre>"
            ],
            "text/plain": [
              "recommendations finished on 130000/138493 queries. users per second: 2128.85"
            ]
          },
          "metadata": {
            "tags": []
          }
        },
        {
          "output_type": "display_data",
          "data": {
            "text/html": [
              "<pre>recommendations finished on 131000/138493 queries. users per second: 2128.83</pre>"
            ],
            "text/plain": [
              "recommendations finished on 131000/138493 queries. users per second: 2128.83"
            ]
          },
          "metadata": {
            "tags": []
          }
        },
        {
          "output_type": "display_data",
          "data": {
            "text/html": [
              "<pre>recommendations finished on 132000/138493 queries. users per second: 2128.71</pre>"
            ],
            "text/plain": [
              "recommendations finished on 132000/138493 queries. users per second: 2128.71"
            ]
          },
          "metadata": {
            "tags": []
          }
        },
        {
          "output_type": "display_data",
          "data": {
            "text/html": [
              "<pre>recommendations finished on 133000/138493 queries. users per second: 2128.64</pre>"
            ],
            "text/plain": [
              "recommendations finished on 133000/138493 queries. users per second: 2128.64"
            ]
          },
          "metadata": {
            "tags": []
          }
        },
        {
          "output_type": "display_data",
          "data": {
            "text/html": [
              "<pre>recommendations finished on 134000/138493 queries. users per second: 2128.39</pre>"
            ],
            "text/plain": [
              "recommendations finished on 134000/138493 queries. users per second: 2128.39"
            ]
          },
          "metadata": {
            "tags": []
          }
        },
        {
          "output_type": "display_data",
          "data": {
            "text/html": [
              "<pre>recommendations finished on 135000/138493 queries. users per second: 2128.28</pre>"
            ],
            "text/plain": [
              "recommendations finished on 135000/138493 queries. users per second: 2128.28"
            ]
          },
          "metadata": {
            "tags": []
          }
        },
        {
          "output_type": "display_data",
          "data": {
            "text/html": [
              "<pre>recommendations finished on 136000/138493 queries. users per second: 2128.13</pre>"
            ],
            "text/plain": [
              "recommendations finished on 136000/138493 queries. users per second: 2128.13"
            ]
          },
          "metadata": {
            "tags": []
          }
        },
        {
          "output_type": "display_data",
          "data": {
            "text/html": [
              "<pre>recommendations finished on 137000/138493 queries. users per second: 2128.09</pre>"
            ],
            "text/plain": [
              "recommendations finished on 137000/138493 queries. users per second: 2128.09"
            ]
          },
          "metadata": {
            "tags": []
          }
        },
        {
          "output_type": "display_data",
          "data": {
            "text/html": [
              "<pre>recommendations finished on 138000/138493 queries. users per second: 2125.04</pre>"
            ],
            "text/plain": [
              "recommendations finished on 138000/138493 queries. users per second: 2125.04"
            ]
          },
          "metadata": {
            "tags": []
          }
        }
      ]
    },
    {
      "cell_type": "code",
      "metadata": {
        "id": "6uIfIguZqMfQ",
        "outputId": "5607b053-920b-476d-e57e-529de37a501d",
        "colab": {
          "base_uri": "https://localhost:8080/",
          "height": 306
        }
      },
      "source": [
        "print(results)"
      ],
      "execution_count": null,
      "outputs": [
        {
          "output_type": "stream",
          "text": [
            "+--------+---------+---------------------+------+\n",
            "| userId | movieId |        score        | rank |\n",
            "+--------+---------+---------------------+------+\n",
            "|   1    |   1682  | 0.08997823068073818 |  1   |\n",
            "|   1    |   2115  | 0.08676331315721784 |  2   |\n",
            "|   1    |   1265  |  0.0837453978402274 |  3   |\n",
            "|   1    |   3578  | 0.08367979458400181 |  4   |\n",
            "|   1    |   1580  | 0.08304152931485857 |  5   |\n",
            "|   1    |   1527  | 0.08159975562776837 |  6   |\n",
            "|   1    |   2571  | 0.07946000269481114 |  7   |\n",
            "|   1    |   1270  | 0.07488769633429392 |  8   |\n",
            "|   1    |   3793  | 0.07287938560758318 |  9   |\n",
            "|   1    |   5349  |  0.070350136416299  |  10  |\n",
            "+--------+---------+---------------------+------+\n",
            "[1384930 rows x 4 columns]\n",
            "Note: Only the head of the SFrame is printed.\n",
            "You can use print_rows(num_rows=m, num_columns=n) to print more rows and columns.\n"
          ],
          "name": "stdout"
        }
      ]
    },
    {
      "cell_type": "code",
      "metadata": {
        "id": "liHsY4ALqO8F",
        "outputId": "bdfef53c-7709-4101-c57c-2444c7ae8e91",
        "colab": {
          "base_uri": "https://localhost:8080/",
          "height": 1377
        }
      },
      "source": [
        "for i in range(10):\n",
        "  print(items[results[\"movieId\"][i]==items[\"movieId\"]])\n"
      ],
      "execution_count": null,
      "outputs": [
        {
          "output_type": "stream",
          "text": [
            "+---------+-------------------------+---------------------+\n",
            "| movieId |          title          |        genres       |\n",
            "+---------+-------------------------+---------------------+\n",
            "|   1682  | Truman Show, The (1998) | Comedy|Drama|Sci-Fi |\n",
            "+---------+-------------------------+---------------------+\n",
            "[? rows x 3 columns]\n",
            "Note: Only the head of the SFrame is printed. This SFrame is lazily evaluated.\n",
            "You can use sf.materialize() to force materialization.\n",
            "+---------+-------------------------------+--------------------------+\n",
            "| movieId |             title             |          genres          |\n",
            "+---------+-------------------------------+--------------------------+\n",
            "|   2115  | Indiana Jones and the Temp... | Action|Adventure|Fantasy |\n",
            "+---------+-------------------------------+--------------------------+\n",
            "[? rows x 3 columns]\n",
            "Note: Only the head of the SFrame is printed. This SFrame is lazily evaluated.\n",
            "You can use sf.materialize() to force materialization.\n",
            "+---------+----------------------+------------------------+\n",
            "| movieId |        title         |         genres         |\n",
            "+---------+----------------------+------------------------+\n",
            "|   1265  | Groundhog Day (1993) | Comedy|Fantasy|Romance |\n",
            "+---------+----------------------+------------------------+\n",
            "[? rows x 3 columns]\n",
            "Note: Only the head of the SFrame is printed. This SFrame is lazily evaluated.\n",
            "You can use sf.materialize() to force materialization.\n",
            "+---------+------------------+------------------------+\n",
            "| movieId |      title       |         genres         |\n",
            "+---------+------------------+------------------------+\n",
            "|   3578  | Gladiator (2000) | Action|Adventure|Drama |\n",
            "+---------+------------------+------------------------+\n",
            "[? rows x 3 columns]\n",
            "Note: Only the head of the SFrame is printed. This SFrame is lazily evaluated.\n",
            "You can use sf.materialize() to force materialization.\n",
            "+---------+-------------------------------+----------------------+\n",
            "| movieId |             title             |        genres        |\n",
            "+---------+-------------------------------+----------------------+\n",
            "|   1580  | Men in Black (a.k.a. MIB) ... | Action|Comedy|Sci-Fi |\n",
            "+---------+-------------------------------+----------------------+\n",
            "[? rows x 3 columns]\n",
            "Note: Only the head of the SFrame is printed. This SFrame is lazily evaluated.\n",
            "You can use sf.materialize() to force materialization.\n",
            "+---------+---------------------------+--------------------------------+\n",
            "| movieId |           title           |             genres             |\n",
            "+---------+---------------------------+--------------------------------+\n",
            "|   1527  | Fifth Element, The (1997) | Action|Adventure|Comedy|Sci-Fi |\n",
            "+---------+---------------------------+--------------------------------+\n",
            "[? rows x 3 columns]\n",
            "Note: Only the head of the SFrame is printed. This SFrame is lazily evaluated.\n",
            "You can use sf.materialize() to force materialization.\n",
            "+---------+--------------------+------------------------+\n",
            "| movieId |       title        |         genres         |\n",
            "+---------+--------------------+------------------------+\n",
            "|   2571  | Matrix, The (1999) | Action|Sci-Fi|Thriller |\n",
            "+---------+--------------------+------------------------+\n",
            "[? rows x 3 columns]\n",
            "Note: Only the head of the SFrame is printed. This SFrame is lazily evaluated.\n",
            "You can use sf.materialize() to force materialization.\n",
            "+---------+---------------------------+-------------------------+\n",
            "| movieId |           title           |          genres         |\n",
            "+---------+---------------------------+-------------------------+\n",
            "|   1270  | Back to the Future (1985) | Adventure|Comedy|Sci-Fi |\n",
            "+---------+---------------------------+-------------------------+\n",
            "[? rows x 3 columns]\n",
            "Note: Only the head of the SFrame is printed. This SFrame is lazily evaluated.\n",
            "You can use sf.materialize() to force materialization.\n",
            "+---------+--------------+-------------------------+\n",
            "| movieId |    title     |          genres         |\n",
            "+---------+--------------+-------------------------+\n",
            "|   3793  | X-Men (2000) | Action|Adventure|Sci-Fi |\n",
            "+---------+--------------+-------------------------+\n",
            "[? rows x 3 columns]\n",
            "Note: Only the head of the SFrame is printed. This SFrame is lazily evaluated.\n",
            "You can use sf.materialize() to force materialization.\n",
            "+---------+-------------------+-------------------------------+\n",
            "| movieId |       title       |             genres            |\n",
            "+---------+-------------------+-------------------------------+\n",
            "|   5349  | Spider-Man (2002) | Action|Adventure|Sci-Fi|Th... |\n",
            "+---------+-------------------+-------------------------------+\n",
            "[? rows x 3 columns]\n",
            "Note: Only the head of the SFrame is printed. This SFrame is lazily evaluated.\n",
            "You can use sf.materialize() to force materialization.\n"
          ],
          "name": "stdout"
        }
      ]
    },
    {
      "cell_type": "code",
      "metadata": {
        "id": "FzoYwzhpwyJX"
      },
      "source": [
        "def print_favorite_movie(row):\n",
        "  if row[\"rating\"] > 4.0:\n",
        "    print(items[row[\"movieId\"]==items[\"movieId\"]])\n",
        "\n",
        "def print_movie(row):\n",
        "  print(items[row[\"movieId\"]==items[\"movieId\"]])"
      ],
      "execution_count": null,
      "outputs": []
    },
    {
      "cell_type": "code",
      "metadata": {
        "id": "KmkQAwyez6op"
      },
      "source": [
        "test_user_id = 7"
      ],
      "execution_count": null,
      "outputs": []
    },
    {
      "cell_type": "code",
      "metadata": {
        "id": "IgXR9YI6zZTl",
        "outputId": "22b1db72-1cd1-416c-a7e3-637cf1f3ca17",
        "colab": {
          "base_uri": "https://localhost:8080/",
          "height": 1720
        }
      },
      "source": [
        "test_user_actions = actions[actions[\"userId\"]==test_user_id].sort(\"rating\", ascending = False)\n",
        "print(test_user_actions.head())\n",
        "test_user_actions.apply(print_favorite_movie)"
      ],
      "execution_count": null,
      "outputs": [
        {
          "output_type": "stream",
          "text": [
            "+--------+---------+--------+------------+\n",
            "| userId | movieId | rating | timestamp  |\n",
            "+--------+---------+--------+------------+\n",
            "|   7    |   2028  |  5.0   | 1011205481 |\n",
            "|   7    |   480   |  5.0   | 1011206779 |\n",
            "|   7    |   1721  |  5.0   | 1011207965 |\n",
            "|   7    |   3479  |  5.0   | 1011207916 |\n",
            "|   7    |   912   |  5.0   | 1011204596 |\n",
            "|   7    |   587   |  5.0   | 1011208220 |\n",
            "|   7    |   589   |  5.0   | 1011206456 |\n",
            "|   7    |   2942  |  5.0   | 1011206321 |\n",
            "|   7    |   3417  |  5.0   | 1011206698 |\n",
            "|   7    |   1077  |  5.0   | 1011206898 |\n",
            "+--------+---------+--------+------------+\n",
            "[10 rows x 4 columns]\n",
            "\n",
            "+---------+----------------------------+------------------+\n",
            "| movieId |           title            |      genres      |\n",
            "+---------+----------------------------+------------------+\n",
            "|   2028  | Saving Private Ryan (1998) | Action|Drama|War |\n",
            "+---------+----------------------------+------------------+\n",
            "[? rows x 3 columns]\n",
            "Note: Only the head of the SFrame is printed. This SFrame is lazily evaluated.\n",
            "You can use sf.materialize() to force materialization.\n",
            "+---------+----------------------+-------------------------------+\n",
            "| movieId |        title         |             genres            |\n",
            "+---------+----------------------+-------------------------------+\n",
            "|   480   | Jurassic Park (1993) | Action|Adventure|Sci-Fi|Th... |\n",
            "+---------+----------------------+-------------------------------+\n",
            "[? rows x 3 columns]\n",
            "Note: Only the head of the SFrame is printed. This SFrame is lazily evaluated.\n",
            "You can use sf.materialize() to force materialization.\n",
            "+---------+----------------+---------------+\n",
            "| movieId |     title      |     genres    |\n",
            "+---------+----------------+---------------+\n",
            "|   1721  | Titanic (1997) | Drama|Romance |\n",
            "+---------+----------------+---------------+\n",
            "[? rows x 3 columns]\n",
            "Note: Only the head of the SFrame is printed. This SFrame is lazily evaluated.\n",
            "You can use sf.materialize() to force materialization.\n",
            "+---------+------------------+---------------------------+\n",
            "| movieId |      title       |           genres          |\n",
            "+---------+------------------+---------------------------+\n",
            "|   3479  | Ladyhawke (1985) | Adventure|Fantasy|Romance |\n",
            "+---------+------------------+---------------------------+\n",
            "[? rows x 3 columns]\n",
            "Note: Only the head of the SFrame is printed. This SFrame is lazily evaluated.\n",
            "You can use sf.materialize() to force materialization.\n",
            "+---------+-------------------+---------------+\n",
            "| movieId |       title       |     genres    |\n",
            "+---------+-------------------+---------------+\n",
            "|   912   | Casablanca (1942) | Drama|Romance |\n",
            "+---------+-------------------+---------------+\n",
            "[? rows x 3 columns]\n",
            "Note: Only the head of the SFrame is printed. This SFrame is lazily evaluated.\n",
            "You can use sf.materialize() to force materialization.\n",
            "+---------+--------------+-------------------------------+\n",
            "| movieId |    title     |             genres            |\n",
            "+---------+--------------+-------------------------------+\n",
            "|   587   | Ghost (1990) | Comedy|Drama|Fantasy|Roman... |\n",
            "+---------+--------------+-------------------------------+\n",
            "[? rows x 3 columns]\n",
            "Note: Only the head of the SFrame is printed. This SFrame is lazily evaluated.\n",
            "You can use sf.materialize() to force materialization.\n",
            "+---------+-------------------------------+---------------+\n",
            "| movieId |             title             |     genres    |\n",
            "+---------+-------------------------------+---------------+\n",
            "|   589   | Terminator 2: Judgment Day... | Action|Sci-Fi |\n",
            "+---------+-------------------------------+---------------+\n",
            "[? rows x 3 columns]\n",
            "Note: Only the head of the SFrame is printed. This SFrame is lazily evaluated.\n",
            "You can use sf.materialize() to force materialization.\n",
            "+---------+-------------------+---------------+\n",
            "| movieId |       title       |     genres    |\n",
            "+---------+-------------------+---------------+\n",
            "|   2942  | Flashdance (1983) | Drama|Romance |\n",
            "+---------+-------------------+---------------+\n",
            "[? rows x 3 columns]\n",
            "Note: Only the head of the SFrame is printed. This SFrame is lazily evaluated.\n",
            "You can use sf.materialize() to force materialization.\n",
            "+---------+----------------------------+------------------+\n",
            "| movieId |           title            |      genres      |\n",
            "+---------+----------------------------+------------------+\n",
            "|   3417  | Crimson Pirate, The (1952) | Adventure|Comedy |\n",
            "+---------+----------------------------+------------------+\n",
            "[? rows x 3 columns]\n",
            "Note: Only the head of the SFrame is printed. This SFrame is lazily evaluated.\n",
            "You can use sf.materialize() to force materialization.\n",
            "+---------+----------------+---------------+\n",
            "| movieId |     title      |     genres    |\n",
            "+---------+----------------+---------------+\n",
            "|   1077  | Sleeper (1973) | Comedy|Sci-Fi |\n",
            "+---------+----------------+---------------+\n",
            "[? rows x 3 columns]\n",
            "Note: Only the head of the SFrame is printed. This SFrame is lazily evaluated.\n",
            "You can use sf.materialize() to force materialization.\n"
          ],
          "name": "stdout"
        },
        {
          "output_type": "execute_result",
          "data": {
            "text/plain": [
              "dtype: float\n",
              "Rows: 276\n",
              "[None, None, None, None, None, None, None, None, None, None, None, None, None, None, None, None, None, None, None, None, None, None, None, None, None, None, None, None, None, None, None, None, None, None, None, None, None, None, None, None, None, None, None, None, None, None, None, None, None, None, None, None, None, None, None, None, None, None, None, None, None, None, None, None, None, None, None, None, None, None, None, None, None, None, None, None, None, None, None, None, None, None, None, None, None, None, None, None, None, None, None, None, None, None, None, None, None, None, None, None, ... ]"
            ]
          },
          "metadata": {
            "tags": []
          },
          "execution_count": 22
        }
      ]
    },
    {
      "cell_type": "code",
      "metadata": {
        "id": "NK8CswuruRS6",
        "outputId": "2b9b0b20-8a40-41ca-bb8a-8950e25a6fcd",
        "colab": {
          "base_uri": "https://localhost:8080/",
          "height": 1428
        }
      },
      "source": [
        "test_user_recommendations = model.recommend(users=[test_user_id])\n",
        "test_user_recommendations.apply(print_movie)"
      ],
      "execution_count": null,
      "outputs": [
        {
          "output_type": "stream",
          "text": [
            "+---------+------------------------+------------------------+\n",
            "| movieId |         title          |         genres         |\n",
            "+---------+------------------------+------------------------+\n",
            "|   1240  | Terminator, The (1984) | Action|Sci-Fi|Thriller |\n",
            "+---------+------------------------+------------------------+\n",
            "[? rows x 3 columns]\n",
            "Note: Only the head of the SFrame is printed. This SFrame is lazily evaluated.\n",
            "You can use sf.materialize() to force materialization.\n",
            "+---------+-------------------------------+------------------+\n",
            "| movieId |             title             |      genres      |\n",
            "+---------+-------------------------------+------------------+\n",
            "|   1291  | Indiana Jones and the Last... | Action|Adventure |\n",
            "+---------+-------------------------------+------------------+\n",
            "[? rows x 3 columns]\n",
            "Note: Only the head of the SFrame is printed. This SFrame is lazily evaluated.\n",
            "You can use sf.materialize() to force materialization.\n",
            "+---------+-------------------------------+--------------------------+\n",
            "| movieId |             title             |          genres          |\n",
            "+---------+-------------------------------+--------------------------+\n",
            "|   2115  | Indiana Jones and the Temp... | Action|Adventure|Fantasy |\n",
            "+---------+-------------------------------+--------------------------+\n",
            "[? rows x 3 columns]\n",
            "Note: Only the head of the SFrame is printed. This SFrame is lazily evaluated.\n",
            "You can use sf.materialize() to force materialization.\n",
            "+---------+-----------------+-----------------------+\n",
            "| movieId |      title      |         genres        |\n",
            "+---------+-----------------+-----------------------+\n",
            "|   1036  | Die Hard (1988) | Action|Crime|Thriller |\n",
            "+---------+-----------------+-----------------------+\n",
            "[? rows x 3 columns]\n",
            "Note: Only the head of the SFrame is printed. This SFrame is lazily evaluated.\n",
            "You can use sf.materialize() to force materialization.\n",
            "+---------+---------------------------+--------------------------------+\n",
            "| movieId |           title           |             genres             |\n",
            "+---------+---------------------------+--------------------------------+\n",
            "|   1527  | Fifth Element, The (1997) | Action|Adventure|Comedy|Sci-Fi |\n",
            "+---------+---------------------------+--------------------------------+\n",
            "[? rows x 3 columns]\n",
            "Note: Only the head of the SFrame is printed. This SFrame is lazily evaluated.\n",
            "You can use sf.materialize() to force materialization.\n",
            "+---------+-------------------------------+------------------+\n",
            "| movieId |             title             |      genres      |\n",
            "+---------+-------------------------------+------------------+\n",
            "|   1198  | Raiders of the Lost Ark (I... | Action|Adventure |\n",
            "+---------+-------------------------------+------------------+\n",
            "[? rows x 3 columns]\n",
            "Note: Only the head of the SFrame is printed. This SFrame is lazily evaluated.\n",
            "You can use sf.materialize() to force materialization.\n",
            "+---------+-------------------------------+----------------+\n",
            "| movieId |             title             |     genres     |\n",
            "+---------+-------------------------------+----------------+\n",
            "|   1923  | There's Something About Ma... | Comedy|Romance |\n",
            "+---------+-------------------------------+----------------+\n",
            "[? rows x 3 columns]\n",
            "Note: Only the head of the SFrame is printed. This SFrame is lazily evaluated.\n",
            "You can use sf.materialize() to force materialization.\n",
            "+---------+--------------------+------------------------+\n",
            "| movieId |       title        |         genres         |\n",
            "+---------+--------------------+------------------------+\n",
            "|   2571  | Matrix, The (1999) | Action|Sci-Fi|Thriller |\n",
            "+---------+--------------------+------------------------+\n",
            "[? rows x 3 columns]\n",
            "Note: Only the head of the SFrame is printed. This SFrame is lazily evaluated.\n",
            "You can use sf.materialize() to force materialization.\n",
            "+---------+--------------+---------------+\n",
            "| movieId |    title     |     genres    |\n",
            "+---------+--------------+---------------+\n",
            "|   1214  | Alien (1979) | Horror|Sci-Fi |\n",
            "+---------+--------------+---------------+\n",
            "[? rows x 3 columns]\n",
            "Note: Only the head of the SFrame is printed. This SFrame is lazily evaluated.\n",
            "You can use sf.materialize() to force materialization.\n",
            "+---------+-------------+---------------+\n",
            "| movieId |    title    |     genres    |\n",
            "+---------+-------------+---------------+\n",
            "|   1387  | Jaws (1975) | Action|Horror |\n",
            "+---------+-------------+---------------+\n",
            "[? rows x 3 columns]\n",
            "Note: Only the head of the SFrame is printed. This SFrame is lazily evaluated.\n",
            "You can use sf.materialize() to force materialization.\n"
          ],
          "name": "stdout"
        },
        {
          "output_type": "execute_result",
          "data": {
            "text/plain": [
              "dtype: float\n",
              "Rows: 10\n",
              "[None, None, None, None, None, None, None, None, None, None]"
            ]
          },
          "metadata": {
            "tags": []
          },
          "execution_count": 23
        }
      ]
    },
    {
      "cell_type": "code",
      "metadata": {
        "id": "LEB31pPltYmT"
      },
      "source": [
        "model.save(\"Recommender.model\")"
      ],
      "execution_count": null,
      "outputs": []
    },
    {
      "cell_type": "code",
      "metadata": {
        "id": "m32DbB-ltYpV"
      },
      "source": [
        "model = tc.load_model(\"Recommender.model\")"
      ],
      "execution_count": null,
      "outputs": []
    },
    {
      "cell_type": "code",
      "metadata": {
        "id": "sSPXYdsbtuS3",
        "outputId": "e09c0017-8c56-4888-e0eb-e30e79a5a2b1",
        "colab": {
          "base_uri": "https://localhost:8080/",
          "height": 85
        }
      },
      "source": [
        "# Export for use in Core ML\n",
        "model.export_coreml('Recommender.mlmodel')"
      ],
      "execution_count": null,
      "outputs": [
        {
          "output_type": "stream",
          "text": [
            "This model is exported as a custom Core ML model. In order to use it in your\n",
            "application, you must also include \"libRecommender.dylib\". For additional\n",
            "details see:\n",
            "https://apple.github.io/turicreate/docs/userguide/recommender/coreml-deployment.html\n"
          ],
          "name": "stdout"
        }
      ]
    },
    {
      "cell_type": "code",
      "metadata": {
        "id": "uqHi56XHtzy6",
        "outputId": "f3ad622d-b64c-4376-8984-525662799b80",
        "colab": {
          "base_uri": "https://localhost:8080/",
          "height": 442
        }
      },
      "source": [
        "# download mlmodel locally\n",
        "from google.colab import files\n",
        "files.download(\"Recommender.mlmodel\")"
      ],
      "execution_count": null,
      "outputs": [
        {
          "output_type": "stream",
          "text": [
            "----------------------------------------\n",
            "Exception happened during processing of request from ('::ffff:127.0.0.1', 55174, 0, 0)\n",
            "Traceback (most recent call last):\n",
            "  File \"/usr/lib/python3.6/socketserver.py\", line 317, in _handle_request_noblock\n",
            "    self.process_request(request, client_address)\n",
            "  File \"/usr/lib/python3.6/socketserver.py\", line 348, in process_request\n",
            "    self.finish_request(request, client_address)\n",
            "  File \"/usr/lib/python3.6/socketserver.py\", line 361, in finish_request\n",
            "    self.RequestHandlerClass(request, client_address, self)\n",
            "  File \"/usr/lib/python3.6/socketserver.py\", line 721, in __init__\n",
            "    self.handle()\n",
            "  File \"/usr/lib/python3.6/http/server.py\", line 418, in handle\n",
            "    self.handle_one_request()\n",
            "  File \"/usr/lib/python3.6/http/server.py\", line 406, in handle_one_request\n",
            "    method()\n",
            "  File \"/usr/lib/python3.6/http/server.py\", line 639, in do_GET\n",
            "    self.copyfile(f, self.wfile)\n",
            "  File \"/usr/lib/python3.6/http/server.py\", line 800, in copyfile\n",
            "    shutil.copyfileobj(source, outputfile)\n",
            "  File \"/usr/lib/python3.6/shutil.py\", line 82, in copyfileobj\n",
            "    fdst.write(buf)\n",
            "  File \"/usr/lib/python3.6/socketserver.py\", line 800, in write\n",
            "    self._sock.sendall(b)\n",
            "ConnectionResetError: [Errno 104] Connection reset by peer\n",
            "----------------------------------------\n"
          ],
          "name": "stderr"
        }
      ]
    },
    {
      "cell_type": "code",
      "metadata": {
        "id": "7WdZ52Kpt4OE"
      },
      "source": [
        "# copy model to Google Drive\n",
        "from shutil import copy\n",
        "copy(\"/content/Recommender.mlmodel\", \"/content/drive/My Drive/Colab Notebooks/data/models/Recommender.mlmodel\")"
      ],
      "execution_count": null,
      "outputs": []
    },
    {
      "cell_type": "code",
      "metadata": {
        "id": "aew_bDGWt4zh"
      },
      "source": [
        "# copy model to Google Drive\n",
        "from shutil import copytree\n",
        "copytree(\"/content/Recommender.model\", \"/content/drive/My Drive/Colab Notebooks/data/models/Recommender.model\")"
      ],
      "execution_count": null,
      "outputs": []
    },
    {
      "cell_type": "code",
      "metadata": {
        "id": "i7r1uOpB-IjS",
        "outputId": "5e3f91e5-1981-4f98-d400-f616114744ef",
        "colab": {
          "base_uri": "https://localhost:8080/",
          "height": 169
        }
      },
      "source": [
        "data = tc.SFrame({'user_id': [\"Ann\", \"Ann\", \"Ann\", \"Brian\", \"Brian\", \"Brian\"],\n",
        "                          'item_id': [\"Item1\", \"Item2\", \"Item4\", \"Item2\", \"Item3\", \"Item5\"],\n",
        "                          'rating': [1, 3, 2, 5, 4, 2]})\n",
        "data"
      ],
      "execution_count": null,
      "outputs": [
        {
          "output_type": "execute_result",
          "data": {
            "text/html": [
              "<div style=\"max-height:1000px;max-width:1500px;overflow:auto;\"><table frame=\"box\" rules=\"cols\">\n",
              "    <tr>\n",
              "        <th style=\"padding-left: 1em; padding-right: 1em; text-align: center\">item_id</th>\n",
              "        <th style=\"padding-left: 1em; padding-right: 1em; text-align: center\">rating</th>\n",
              "        <th style=\"padding-left: 1em; padding-right: 1em; text-align: center\">user_id</th>\n",
              "    </tr>\n",
              "    <tr>\n",
              "        <td style=\"padding-left: 1em; padding-right: 1em; text-align: center; vertical-align: top\">Item1</td>\n",
              "        <td style=\"padding-left: 1em; padding-right: 1em; text-align: center; vertical-align: top\">1</td>\n",
              "        <td style=\"padding-left: 1em; padding-right: 1em; text-align: center; vertical-align: top\">Ann</td>\n",
              "    </tr>\n",
              "    <tr>\n",
              "        <td style=\"padding-left: 1em; padding-right: 1em; text-align: center; vertical-align: top\">Item2</td>\n",
              "        <td style=\"padding-left: 1em; padding-right: 1em; text-align: center; vertical-align: top\">3</td>\n",
              "        <td style=\"padding-left: 1em; padding-right: 1em; text-align: center; vertical-align: top\">Ann</td>\n",
              "    </tr>\n",
              "    <tr>\n",
              "        <td style=\"padding-left: 1em; padding-right: 1em; text-align: center; vertical-align: top\">Item4</td>\n",
              "        <td style=\"padding-left: 1em; padding-right: 1em; text-align: center; vertical-align: top\">2</td>\n",
              "        <td style=\"padding-left: 1em; padding-right: 1em; text-align: center; vertical-align: top\">Ann</td>\n",
              "    </tr>\n",
              "    <tr>\n",
              "        <td style=\"padding-left: 1em; padding-right: 1em; text-align: center; vertical-align: top\">Item2</td>\n",
              "        <td style=\"padding-left: 1em; padding-right: 1em; text-align: center; vertical-align: top\">5</td>\n",
              "        <td style=\"padding-left: 1em; padding-right: 1em; text-align: center; vertical-align: top\">Brian</td>\n",
              "    </tr>\n",
              "    <tr>\n",
              "        <td style=\"padding-left: 1em; padding-right: 1em; text-align: center; vertical-align: top\">Item3</td>\n",
              "        <td style=\"padding-left: 1em; padding-right: 1em; text-align: center; vertical-align: top\">4</td>\n",
              "        <td style=\"padding-left: 1em; padding-right: 1em; text-align: center; vertical-align: top\">Brian</td>\n",
              "    </tr>\n",
              "    <tr>\n",
              "        <td style=\"padding-left: 1em; padding-right: 1em; text-align: center; vertical-align: top\">Item5</td>\n",
              "        <td style=\"padding-left: 1em; padding-right: 1em; text-align: center; vertical-align: top\">2</td>\n",
              "        <td style=\"padding-left: 1em; padding-right: 1em; text-align: center; vertical-align: top\">Brian</td>\n",
              "    </tr>\n",
              "</table>\n",
              "[6 rows x 3 columns]<br/>\n",
              "</div>"
            ],
            "text/plain": [
              "Columns:\n",
              "\titem_id\tstr\n",
              "\trating\tint\n",
              "\tuser_id\tstr\n",
              "\n",
              "Rows: 6\n",
              "\n",
              "Data:\n",
              "+---------+--------+---------+\n",
              "| item_id | rating | user_id |\n",
              "+---------+--------+---------+\n",
              "|  Item1  |   1    |   Ann   |\n",
              "|  Item2  |   3    |   Ann   |\n",
              "|  Item4  |   2    |   Ann   |\n",
              "|  Item2  |   5    |  Brian  |\n",
              "|  Item3  |   4    |  Brian  |\n",
              "|  Item5  |   2    |  Brian  |\n",
              "+---------+--------+---------+\n",
              "[6 rows x 3 columns]"
            ]
          },
          "metadata": {
            "tags": []
          },
          "execution_count": 29
        }
      ]
    },
    {
      "cell_type": "code",
      "metadata": {
        "id": "aXXt_FrIoVjE",
        "outputId": "4fa99a67-dd09-43b6-9130-846d24307089",
        "colab": {
          "base_uri": "https://localhost:8080/",
          "height": 765
        }
      },
      "source": [
        "m = tc.factorization_recommender.create(data, target='rating')"
      ],
      "execution_count": null,
      "outputs": [
        {
          "output_type": "display_data",
          "data": {
            "text/html": [
              "<pre>Preparing data set.</pre>"
            ],
            "text/plain": [
              "Preparing data set."
            ]
          },
          "metadata": {
            "tags": []
          }
        },
        {
          "output_type": "display_data",
          "data": {
            "text/html": [
              "<pre>    Data has 6 observations with 2 users and 5 items.</pre>"
            ],
            "text/plain": [
              "    Data has 6 observations with 2 users and 5 items."
            ]
          },
          "metadata": {
            "tags": []
          }
        },
        {
          "output_type": "display_data",
          "data": {
            "text/html": [
              "<pre>    Data prepared in: 0.004367s</pre>"
            ],
            "text/plain": [
              "    Data prepared in: 0.004367s"
            ]
          },
          "metadata": {
            "tags": []
          }
        },
        {
          "output_type": "display_data",
          "data": {
            "text/html": [
              "<pre>Training factorization_recommender for recommendations.</pre>"
            ],
            "text/plain": [
              "Training factorization_recommender for recommendations."
            ]
          },
          "metadata": {
            "tags": []
          }
        },
        {
          "output_type": "display_data",
          "data": {
            "text/html": [
              "<pre>+--------------------------------+--------------------------------------------------+----------+</pre>"
            ],
            "text/plain": [
              "+--------------------------------+--------------------------------------------------+----------+"
            ]
          },
          "metadata": {
            "tags": []
          }
        },
        {
          "output_type": "display_data",
          "data": {
            "text/html": [
              "<pre>| Parameter                      | Description                                      | Value    |</pre>"
            ],
            "text/plain": [
              "| Parameter                      | Description                                      | Value    |"
            ]
          },
          "metadata": {
            "tags": []
          }
        },
        {
          "output_type": "display_data",
          "data": {
            "text/html": [
              "<pre>+--------------------------------+--------------------------------------------------+----------+</pre>"
            ],
            "text/plain": [
              "+--------------------------------+--------------------------------------------------+----------+"
            ]
          },
          "metadata": {
            "tags": []
          }
        },
        {
          "output_type": "display_data",
          "data": {
            "text/html": [
              "<pre>| num_factors                    | Factor Dimension                                 | 8        |</pre>"
            ],
            "text/plain": [
              "| num_factors                    | Factor Dimension                                 | 8        |"
            ]
          },
          "metadata": {
            "tags": []
          }
        },
        {
          "output_type": "display_data",
          "data": {
            "text/html": [
              "<pre>| regularization                 | L2 Regularization on Factors                     | 1e-08    |</pre>"
            ],
            "text/plain": [
              "| regularization                 | L2 Regularization on Factors                     | 1e-08    |"
            ]
          },
          "metadata": {
            "tags": []
          }
        },
        {
          "output_type": "display_data",
          "data": {
            "text/html": [
              "<pre>| solver                         | Solver used for training                         | sgd      |</pre>"
            ],
            "text/plain": [
              "| solver                         | Solver used for training                         | sgd      |"
            ]
          },
          "metadata": {
            "tags": []
          }
        },
        {
          "output_type": "display_data",
          "data": {
            "text/html": [
              "<pre>| linear_regularization          | L2 Regularization on Linear Coefficients         | 1e-10    |</pre>"
            ],
            "text/plain": [
              "| linear_regularization          | L2 Regularization on Linear Coefficients         | 1e-10    |"
            ]
          },
          "metadata": {
            "tags": []
          }
        },
        {
          "output_type": "display_data",
          "data": {
            "text/html": [
              "<pre>| max_iterations                 | Maximum Number of Iterations                     | 50       |</pre>"
            ],
            "text/plain": [
              "| max_iterations                 | Maximum Number of Iterations                     | 50       |"
            ]
          },
          "metadata": {
            "tags": []
          }
        },
        {
          "output_type": "display_data",
          "data": {
            "text/html": [
              "<pre>+--------------------------------+--------------------------------------------------+----------+</pre>"
            ],
            "text/plain": [
              "+--------------------------------+--------------------------------------------------+----------+"
            ]
          },
          "metadata": {
            "tags": []
          }
        },
        {
          "output_type": "display_data",
          "data": {
            "text/html": [
              "<pre>  Optimizing model using SGD; tuning step size.</pre>"
            ],
            "text/plain": [
              "  Optimizing model using SGD; tuning step size."
            ]
          },
          "metadata": {
            "tags": []
          }
        },
        {
          "output_type": "display_data",
          "data": {
            "text/html": [
              "<pre>  Using 6 / 6 points for tuning the step size.</pre>"
            ],
            "text/plain": [
              "  Using 6 / 6 points for tuning the step size."
            ]
          },
          "metadata": {
            "tags": []
          }
        },
        {
          "output_type": "display_data",
          "data": {
            "text/html": [
              "<pre>+---------+-------------------+------------------------------------------+</pre>"
            ],
            "text/plain": [
              "+---------+-------------------+------------------------------------------+"
            ]
          },
          "metadata": {
            "tags": []
          }
        },
        {
          "output_type": "display_data",
          "data": {
            "text/html": [
              "<pre>| Attempt | Initial Step Size | Estimated Objective Value                |</pre>"
            ],
            "text/plain": [
              "| Attempt | Initial Step Size | Estimated Objective Value                |"
            ]
          },
          "metadata": {
            "tags": []
          }
        },
        {
          "output_type": "display_data",
          "data": {
            "text/html": [
              "<pre>+---------+-------------------+------------------------------------------+</pre>"
            ],
            "text/plain": [
              "+---------+-------------------+------------------------------------------+"
            ]
          },
          "metadata": {
            "tags": []
          }
        },
        {
          "output_type": "display_data",
          "data": {
            "text/html": [
              "<pre>| 0       | 25                | Not Viable                               |</pre>"
            ],
            "text/plain": [
              "| 0       | 25                | Not Viable                               |"
            ]
          },
          "metadata": {
            "tags": []
          }
        },
        {
          "output_type": "display_data",
          "data": {
            "text/html": [
              "<pre>| 1       | 6.25              | Not Viable                               |</pre>"
            ],
            "text/plain": [
              "| 1       | 6.25              | Not Viable                               |"
            ]
          },
          "metadata": {
            "tags": []
          }
        },
        {
          "output_type": "display_data",
          "data": {
            "text/html": [
              "<pre>| 2       | 1.5625            | 0.306612                                 |</pre>"
            ],
            "text/plain": [
              "| 2       | 1.5625            | 0.306612                                 |"
            ]
          },
          "metadata": {
            "tags": []
          }
        },
        {
          "output_type": "display_data",
          "data": {
            "text/html": [
              "<pre>| 3       | 0.78125           | 0.0113219                                |</pre>"
            ],
            "text/plain": [
              "| 3       | 0.78125           | 0.0113219                                |"
            ]
          },
          "metadata": {
            "tags": []
          }
        },
        {
          "output_type": "display_data",
          "data": {
            "text/html": [
              "<pre>| 4       | 0.390625          | 0.0357904                                |</pre>"
            ],
            "text/plain": [
              "| 4       | 0.390625          | 0.0357904                                |"
            ]
          },
          "metadata": {
            "tags": []
          }
        },
        {
          "output_type": "display_data",
          "data": {
            "text/html": [
              "<pre>+---------+-------------------+------------------------------------------+</pre>"
            ],
            "text/plain": [
              "+---------+-------------------+------------------------------------------+"
            ]
          },
          "metadata": {
            "tags": []
          }
        },
        {
          "output_type": "display_data",
          "data": {
            "text/html": [
              "<pre>| Final   | 0.78125           | 0.0113219                                |</pre>"
            ],
            "text/plain": [
              "| Final   | 0.78125           | 0.0113219                                |"
            ]
          },
          "metadata": {
            "tags": []
          }
        },
        {
          "output_type": "display_data",
          "data": {
            "text/html": [
              "<pre>+---------+-------------------+------------------------------------------+</pre>"
            ],
            "text/plain": [
              "+---------+-------------------+------------------------------------------+"
            ]
          },
          "metadata": {
            "tags": []
          }
        },
        {
          "output_type": "display_data",
          "data": {
            "text/html": [
              "<pre>Starting Optimization.</pre>"
            ],
            "text/plain": [
              "Starting Optimization."
            ]
          },
          "metadata": {
            "tags": []
          }
        },
        {
          "output_type": "display_data",
          "data": {
            "text/html": [
              "<pre>+---------+--------------+-------------------+-----------------------+-------------+</pre>"
            ],
            "text/plain": [
              "+---------+--------------+-------------------+-----------------------+-------------+"
            ]
          },
          "metadata": {
            "tags": []
          }
        },
        {
          "output_type": "display_data",
          "data": {
            "text/html": [
              "<pre>| Iter.   | Elapsed Time | Approx. Objective | Approx. Training RMSE | Step Size   |</pre>"
            ],
            "text/plain": [
              "| Iter.   | Elapsed Time | Approx. Objective | Approx. Training RMSE | Step Size   |"
            ]
          },
          "metadata": {
            "tags": []
          }
        },
        {
          "output_type": "display_data",
          "data": {
            "text/html": [
              "<pre>+---------+--------------+-------------------+-----------------------+-------------+</pre>"
            ],
            "text/plain": [
              "+---------+--------------+-------------------+-----------------------+-------------+"
            ]
          },
          "metadata": {
            "tags": []
          }
        },
        {
          "output_type": "display_data",
          "data": {
            "text/html": [
              "<pre>| Initial | 52us         | 1.80685           | 1.34419               |             |</pre>"
            ],
            "text/plain": [
              "| Initial | 52us         | 1.80685           | 1.34419               |             |"
            ]
          },
          "metadata": {
            "tags": []
          }
        },
        {
          "output_type": "display_data",
          "data": {
            "text/html": [
              "<pre>+---------+--------------+-------------------+-----------------------+-------------+</pre>"
            ],
            "text/plain": [
              "+---------+--------------+-------------------+-----------------------+-------------+"
            ]
          },
          "metadata": {
            "tags": []
          }
        },
        {
          "output_type": "display_data",
          "data": {
            "text/html": [
              "<pre>| 1       | 999us        | 2.47335           | 1.57269               | 0.78125     |</pre>"
            ],
            "text/plain": [
              "| 1       | 999us        | 2.47335           | 1.57269               | 0.78125     |"
            ]
          },
          "metadata": {
            "tags": []
          }
        },
        {
          "output_type": "display_data",
          "data": {
            "text/html": [
              "<pre>| 2       | 1.388ms      | 0.46653           | 0.68303               | 0.464534    |</pre>"
            ],
            "text/plain": [
              "| 2       | 1.388ms      | 0.46653           | 0.68303               | 0.464534    |"
            ]
          },
          "metadata": {
            "tags": []
          }
        },
        {
          "output_type": "display_data",
          "data": {
            "text/html": [
              "<pre>| 3       | 1.711ms      | 0.406073          | 0.637238              | 0.342728    |</pre>"
            ],
            "text/plain": [
              "| 3       | 1.711ms      | 0.406073          | 0.637238              | 0.342728    |"
            ]
          },
          "metadata": {
            "tags": []
          }
        },
        {
          "output_type": "display_data",
          "data": {
            "text/html": [
              "<pre>| 4       | 2.022ms      | 0.174395          | 0.417607              | 0.232267    |</pre>"
            ],
            "text/plain": [
              "| 4       | 2.022ms      | 0.174395          | 0.417607              | 0.232267    |"
            ]
          },
          "metadata": {
            "tags": []
          }
        },
        {
          "output_type": "display_data",
          "data": {
            "text/html": [
              "<pre>| 5       | 2.307ms      | 0.125779          | 0.354654              | 0.196474    |</pre>"
            ],
            "text/plain": [
              "| 5       | 2.307ms      | 0.125779          | 0.354654              | 0.196474    |"
            ]
          },
          "metadata": {
            "tags": []
          }
        },
        {
          "output_type": "display_data",
          "data": {
            "text/html": [
              "<pre>| 10      | 3.523ms      | 0.019744          | 0.140513              | 0.116824    |</pre>"
            ],
            "text/plain": [
              "| 10      | 3.523ms      | 0.019744          | 0.140513              | 0.116824    |"
            ]
          },
          "metadata": {
            "tags": []
          }
        },
        {
          "output_type": "display_data",
          "data": {
            "text/html": [
              "<pre>| 50      | 24.44ms      | 0.000839951       | 0.0289819             | 0.0349386   |</pre>"
            ],
            "text/plain": [
              "| 50      | 24.44ms      | 0.000839951       | 0.0289819             | 0.0349386   |"
            ]
          },
          "metadata": {
            "tags": []
          }
        },
        {
          "output_type": "display_data",
          "data": {
            "text/html": [
              "<pre>+---------+--------------+-------------------+-----------------------+-------------+</pre>"
            ],
            "text/plain": [
              "+---------+--------------+-------------------+-----------------------+-------------+"
            ]
          },
          "metadata": {
            "tags": []
          }
        },
        {
          "output_type": "display_data",
          "data": {
            "text/html": [
              "<pre>Optimization Complete: Maximum number of passes through the data reached.</pre>"
            ],
            "text/plain": [
              "Optimization Complete: Maximum number of passes through the data reached."
            ]
          },
          "metadata": {
            "tags": []
          }
        },
        {
          "output_type": "display_data",
          "data": {
            "text/html": [
              "<pre>Computing final objective value and training RMSE.</pre>"
            ],
            "text/plain": [
              "Computing final objective value and training RMSE."
            ]
          },
          "metadata": {
            "tags": []
          }
        },
        {
          "output_type": "display_data",
          "data": {
            "text/html": [
              "<pre>       Final objective value: 0.000716606</pre>"
            ],
            "text/plain": [
              "       Final objective value: 0.000716606"
            ]
          },
          "metadata": {
            "tags": []
          }
        },
        {
          "output_type": "display_data",
          "data": {
            "text/html": [
              "<pre>       Final training RMSE: 0.0267695</pre>"
            ],
            "text/plain": [
              "       Final training RMSE: 0.0267695"
            ]
          },
          "metadata": {
            "tags": []
          }
        }
      ]
    },
    {
      "cell_type": "code",
      "metadata": {
        "id": "J7kMYOqqoc19",
        "outputId": "7f23e00f-178c-465e-d103-4d2c0b383f6b",
        "colab": {
          "base_uri": "https://localhost:8080/",
          "height": 187
        }
      },
      "source": [
        "recommendations = m.recommend()\n",
        "print(recommendations)"
      ],
      "execution_count": null,
      "outputs": [
        {
          "output_type": "stream",
          "text": [
            "+---------+---------+---------------------+------+\n",
            "| user_id | item_id |        score        | rank |\n",
            "+---------+---------+---------------------+------+\n",
            "|   Ann   |  Item3  |  2.096829762061437  |  1   |\n",
            "|   Ann   |  Item5  | 0.09722884496053075 |  2   |\n",
            "|  Brian  |  Item4  |  3.9026970167954764 |  1   |\n",
            "|  Brian  |  Item1  |  2.902050276597341  |  2   |\n",
            "+---------+---------+---------------------+------+\n",
            "[4 rows x 4 columns]\n",
            "\n"
          ],
          "name": "stdout"
        }
      ]
    },
    {
      "cell_type": "code",
      "metadata": {
        "id": "63DAjbMA-QzM",
        "outputId": "5843a994-c291-4596-c28c-a3959abb4feb",
        "colab": {
          "base_uri": "https://localhost:8080/",
          "height": 153
        }
      },
      "source": [
        "recommendations = m.recommend(users=['Brian'])\n",
        "print(recommendations)"
      ],
      "execution_count": null,
      "outputs": [
        {
          "output_type": "stream",
          "text": [
            "+---------+---------+--------------------+------+\n",
            "| user_id | item_id |       score        | rank |\n",
            "+---------+---------+--------------------+------+\n",
            "|  Brian  |  Item4  | 3.9026970167954764 |  1   |\n",
            "|  Brian  |  Item1  | 2.902050276597341  |  2   |\n",
            "+---------+---------+--------------------+------+\n",
            "[2 rows x 4 columns]\n",
            "\n"
          ],
          "name": "stdout"
        }
      ]
    },
    {
      "cell_type": "code",
      "metadata": {
        "id": "iKFSQQm9-W3O",
        "outputId": "7f002033-3152-4351-e43a-79a22f54ea0f",
        "colab": {
          "base_uri": "https://localhost:8080/",
          "height": 197
        }
      },
      "source": [
        "# need to create users and items with 'country' column to experiment\n",
        "country = 'United States'\n",
        "m.recommend(users=users['user_id'][users['country']==country].unique(),\n",
        "            items=items['item_id'][items['country']==country])"
      ],
      "execution_count": null,
      "outputs": [
        {
          "output_type": "error",
          "ename": "NameError",
          "evalue": "ignored",
          "traceback": [
            "\u001b[0;31m---------------------------------------------------------------------------\u001b[0m",
            "\u001b[0;31mNameError\u001b[0m                                 Traceback (most recent call last)",
            "\u001b[0;32m<ipython-input-33-104faf17e870>\u001b[0m in \u001b[0;36m<module>\u001b[0;34m()\u001b[0m\n\u001b[1;32m      1\u001b[0m \u001b[0mcountry\u001b[0m \u001b[0;34m=\u001b[0m \u001b[0;34m'United States'\u001b[0m\u001b[0;34m\u001b[0m\u001b[0;34m\u001b[0m\u001b[0m\n\u001b[0;32m----> 2\u001b[0;31m m.recommend(users=users['user_id'][users['country']==country].unique(),\n\u001b[0m\u001b[1;32m      3\u001b[0m             items=items['item_id'][items['country']==country])\n",
            "\u001b[0;31mNameError\u001b[0m: name 'users' is not defined"
          ]
        }
      ]
    },
    {
      "cell_type": "code",
      "metadata": {
        "id": "Rbi6g9vo-bpu",
        "outputId": "92657e8e-4bff-40db-967d-f6845a978878",
        "colab": {
          "base_uri": "https://localhost:8080/",
          "height": 150
        }
      },
      "source": [
        "m.recommend(['Charlie'])"
      ],
      "execution_count": null,
      "outputs": [
        {
          "output_type": "execute_result",
          "data": {
            "text/html": [
              "<div style=\"max-height:1000px;max-width:1500px;overflow:auto;\"><table frame=\"box\" rules=\"cols\">\n",
              "    <tr>\n",
              "        <th style=\"padding-left: 1em; padding-right: 1em; text-align: center\">user_id</th>\n",
              "        <th style=\"padding-left: 1em; padding-right: 1em; text-align: center\">item_id</th>\n",
              "        <th style=\"padding-left: 1em; padding-right: 1em; text-align: center\">score</th>\n",
              "        <th style=\"padding-left: 1em; padding-right: 1em; text-align: center\">rank</th>\n",
              "    </tr>\n",
              "    <tr>\n",
              "        <td style=\"padding-left: 1em; padding-right: 1em; text-align: center; vertical-align: top\">Charlie</td>\n",
              "        <td style=\"padding-left: 1em; padding-right: 1em; text-align: center; vertical-align: top\">Item2</td>\n",
              "        <td style=\"padding-left: 1em; padding-right: 1em; text-align: center; vertical-align: top\">4.165772279103598</td>\n",
              "        <td style=\"padding-left: 1em; padding-right: 1em; text-align: center; vertical-align: top\">1</td>\n",
              "    </tr>\n",
              "    <tr>\n",
              "        <td style=\"padding-left: 1em; padding-right: 1em; text-align: center; vertical-align: top\">Charlie</td>\n",
              "        <td style=\"padding-left: 1em; padding-right: 1em; text-align: center; vertical-align: top\">Item3</td>\n",
              "        <td style=\"padding-left: 1em; padding-right: 1em; text-align: center; vertical-align: top\">3.2227219541867576</td>\n",
              "        <td style=\"padding-left: 1em; padding-right: 1em; text-align: center; vertical-align: top\">2</td>\n",
              "    </tr>\n",
              "    <tr>\n",
              "        <td style=\"padding-left: 1em; padding-right: 1em; text-align: center; vertical-align: top\">Charlie</td>\n",
              "        <td style=\"padding-left: 1em; padding-right: 1em; text-align: center; vertical-align: top\">Item4</td>\n",
              "        <td style=\"padding-left: 1em; padding-right: 1em; text-align: center; vertical-align: top\">3.1106966038544974</td>\n",
              "        <td style=\"padding-left: 1em; padding-right: 1em; text-align: center; vertical-align: top\">3</td>\n",
              "    </tr>\n",
              "    <tr>\n",
              "        <td style=\"padding-left: 1em; padding-right: 1em; text-align: center; vertical-align: top\">Charlie</td>\n",
              "        <td style=\"padding-left: 1em; padding-right: 1em; text-align: center; vertical-align: top\">Item1</td>\n",
              "        <td style=\"padding-left: 1em; padding-right: 1em; text-align: center; vertical-align: top\">2.110046168168386</td>\n",
              "        <td style=\"padding-left: 1em; padding-right: 1em; text-align: center; vertical-align: top\">4</td>\n",
              "    </tr>\n",
              "    <tr>\n",
              "        <td style=\"padding-left: 1em; padding-right: 1em; text-align: center; vertical-align: top\">Charlie</td>\n",
              "        <td style=\"padding-left: 1em; padding-right: 1em; text-align: center; vertical-align: top\">Item5</td>\n",
              "        <td style=\"padding-left: 1em; padding-right: 1em; text-align: center; vertical-align: top\">1.2231244643529258</td>\n",
              "        <td style=\"padding-left: 1em; padding-right: 1em; text-align: center; vertical-align: top\">5</td>\n",
              "    </tr>\n",
              "</table>\n",
              "[5 rows x 4 columns]<br/>\n",
              "</div>"
            ],
            "text/plain": [
              "Columns:\n",
              "\tuser_id\tstr\n",
              "\titem_id\tstr\n",
              "\tscore\tfloat\n",
              "\trank\tint\n",
              "\n",
              "Rows: 5\n",
              "\n",
              "Data:\n",
              "+---------+---------+--------------------+------+\n",
              "| user_id | item_id |       score        | rank |\n",
              "+---------+---------+--------------------+------+\n",
              "| Charlie |  Item2  | 4.165772279103598  |  1   |\n",
              "| Charlie |  Item3  | 3.2227219541867576 |  2   |\n",
              "| Charlie |  Item4  | 3.1106966038544974 |  3   |\n",
              "| Charlie |  Item1  | 2.110046168168386  |  4   |\n",
              "| Charlie |  Item5  | 1.2231244643529258 |  5   |\n",
              "+---------+---------+--------------------+------+\n",
              "[5 rows x 4 columns]"
            ]
          },
          "metadata": {
            "tags": []
          },
          "execution_count": 34
        }
      ]
    },
    {
      "cell_type": "code",
      "metadata": {
        "id": "kK783wQ2-qIY"
      },
      "source": [
        "user_info = turicreate.SFrame({'user_id': ['Ann', 'Brian'],\n",
        "                                'age_category': ['2', '3']})\n",
        "m_side_info = turicreate.factorization_recommender.create(data, target='rating',\n",
        "                                                             user_data=user_info)"
      ],
      "execution_count": null,
      "outputs": []
    },
    {
      "cell_type": "code",
      "metadata": {
        "id": "YAhAD4f7-wqs"
      },
      "source": [
        "new_user_info = turicreate.SFrame({'user_id' : ['Charlie'],\n",
        "                                 'age_category' : ['2']})\n",
        "recommendations = m_side_info.recommend(['Charlie'],\n",
        "                                        new_user_data = new_user_info)"
      ],
      "execution_count": null,
      "outputs": []
    },
    {
      "cell_type": "code",
      "metadata": {
        "id": "USVw3fEP-7TP"
      },
      "source": [
        "m_item_sim = turicreate.item_similarity_recommender.create(data)\n",
        "new_obs_data = turicreate.SFrame({'user_id' : ['Charlie', 'Charlie'],\n",
        "                                'item_id' : ['Item1', 'Item5']})\n",
        "recommendations = m_item_sim.recommend(['Charlie'], new_observation_data = new_obs_data)"
      ],
      "execution_count": null,
      "outputs": []
    },
    {
      "cell_type": "code",
      "metadata": {
        "id": "VIY8jxWl_ACp"
      },
      "source": [
        "recommendations = m.recommend(k = 5)"
      ],
      "execution_count": null,
      "outputs": []
    },
    {
      "cell_type": "code",
      "metadata": {
        "id": "zCXirKgD_Gsk"
      },
      "source": [
        "exclude_pairs = turicreate.SFrame({'user_id' : ['Ann'],\n",
        "                                    'item_id' : ['Item3']})\n",
        "\n",
        "recommendations = m.recommend(['Ann'], k = 5, exclude = exclude_pairs)"
      ],
      "execution_count": null,
      "outputs": []
    },
    {
      "cell_type": "code",
      "metadata": {
        "id": "ulAIP7vn_KZ3"
      },
      "source": [
        "recommendations = m.recommend(exclude_known = False)"
      ],
      "execution_count": null,
      "outputs": []
    },
    {
      "cell_type": "code",
      "metadata": {
        "id": "dGooCUDE_PDO"
      },
      "source": [
        "item_subset = turicreate.SArray([\"Item3\", \"Item5\", \"Item2\"])\n",
        "recommendations = m.recommend(['Ann'], items = item_subset)"
      ],
      "execution_count": null,
      "outputs": []
    },
    {
      "cell_type": "code",
      "metadata": {
        "id": "l38Wroep_WlO"
      },
      "source": [
        "similar_items = model.get_similar_items(my_list_of_items, k=20)"
      ],
      "execution_count": null,
      "outputs": []
    },
    {
      "cell_type": "code",
      "metadata": {
        "id": "HP4fmOGUHhVm",
        "outputId": "a6a7d24c-23e0-4ebb-cdcd-94893fdb6f31",
        "colab": {
          "base_uri": "https://localhost:8080/",
          "height": 17
        }
      },
      "source": [
        "import numpy as np\n",
        "import pandas as pd\n",
        "import os\n",
        "import sys\n",
        "import pickle\n",
        "import time\n",
        "import datetime\n",
        "import matplotlib.pyplot as plt\n",
        "import seaborn as sns\n",
        "from importlib import reload\n",
        "%matplotlib inline\n",
        "from IPython.core.display import display, HTML, clear_output\n",
        "display(HTML(\"<style>.container { width:80% !important; }</style>\"))"
      ],
      "execution_count": null,
      "outputs": [
        {
          "output_type": "display_data",
          "data": {
            "text/html": [
              "<style>.container { width:80% !important; }</style>"
            ],
            "text/plain": [
              "<IPython.core.display.HTML object>"
            ]
          },
          "metadata": {
            "tags": []
          }
        }
      ]
    },
    {
      "cell_type": "code",
      "metadata": {
        "id": "YXuwO2ZBHr5J"
      },
      "source": [
        "pd.options.display.max_rows = 999\n",
        "pd.options.display.max_columns = 999\n",
        "pd.options.display.max_colwidth = 999"
      ],
      "execution_count": null,
      "outputs": []
    },
    {
      "cell_type": "code",
      "metadata": {
        "id": "VaCWkBp2HuTn"
      },
      "source": [
        "cwd = os.getcwd()\n",
        "ratings = pd.read_csv(\"ml-20m/ratings.csv\")\n",
        "ratings.drop('timestamp', axis=1, inplace=True)\n",
        "movies = pd.read_csv(\"ml-20m/movies.csv\")"
      ],
      "execution_count": null,
      "outputs": []
    },
    {
      "cell_type": "code",
      "metadata": {
        "id": "sNSq6D8gJDI6"
      },
      "source": [
        "ratings = pd.merge(left=movies, right=ratings, on='movieId', how=\"right\")"
      ],
      "execution_count": null,
      "outputs": []
    },
    {
      "cell_type": "code",
      "metadata": {
        "id": "S7p_9ACZJJlr",
        "outputId": "060f1e2c-0a03-44d7-de31-3c43ac5e5a1c",
        "colab": {
          "base_uri": "https://localhost:8080/",
          "height": 204
        }
      },
      "source": [
        "ratings.head()"
      ],
      "execution_count": null,
      "outputs": [
        {
          "output_type": "execute_result",
          "data": {
            "text/html": [
              "<div>\n",
              "<style scoped>\n",
              "    .dataframe tbody tr th:only-of-type {\n",
              "        vertical-align: middle;\n",
              "    }\n",
              "\n",
              "    .dataframe tbody tr th {\n",
              "        vertical-align: top;\n",
              "    }\n",
              "\n",
              "    .dataframe thead th {\n",
              "        text-align: right;\n",
              "    }\n",
              "</style>\n",
              "<table border=\"1\" class=\"dataframe\">\n",
              "  <thead>\n",
              "    <tr style=\"text-align: right;\">\n",
              "      <th></th>\n",
              "      <th>movieId</th>\n",
              "      <th>title</th>\n",
              "      <th>genres</th>\n",
              "      <th>userId</th>\n",
              "      <th>rating</th>\n",
              "    </tr>\n",
              "  </thead>\n",
              "  <tbody>\n",
              "    <tr>\n",
              "      <th>0</th>\n",
              "      <td>1</td>\n",
              "      <td>Toy Story (1995)</td>\n",
              "      <td>Adventure|Animation|Children|Comedy|Fantasy</td>\n",
              "      <td>3</td>\n",
              "      <td>4.0</td>\n",
              "    </tr>\n",
              "    <tr>\n",
              "      <th>1</th>\n",
              "      <td>1</td>\n",
              "      <td>Toy Story (1995)</td>\n",
              "      <td>Adventure|Animation|Children|Comedy|Fantasy</td>\n",
              "      <td>6</td>\n",
              "      <td>5.0</td>\n",
              "    </tr>\n",
              "    <tr>\n",
              "      <th>2</th>\n",
              "      <td>1</td>\n",
              "      <td>Toy Story (1995)</td>\n",
              "      <td>Adventure|Animation|Children|Comedy|Fantasy</td>\n",
              "      <td>8</td>\n",
              "      <td>4.0</td>\n",
              "    </tr>\n",
              "    <tr>\n",
              "      <th>3</th>\n",
              "      <td>1</td>\n",
              "      <td>Toy Story (1995)</td>\n",
              "      <td>Adventure|Animation|Children|Comedy|Fantasy</td>\n",
              "      <td>10</td>\n",
              "      <td>4.0</td>\n",
              "    </tr>\n",
              "    <tr>\n",
              "      <th>4</th>\n",
              "      <td>1</td>\n",
              "      <td>Toy Story (1995)</td>\n",
              "      <td>Adventure|Animation|Children|Comedy|Fantasy</td>\n",
              "      <td>11</td>\n",
              "      <td>4.5</td>\n",
              "    </tr>\n",
              "  </tbody>\n",
              "</table>\n",
              "</div>"
            ],
            "text/plain": [
              "   movieId             title                                       genres  \\\n",
              "0        1  Toy Story (1995)  Adventure|Animation|Children|Comedy|Fantasy   \n",
              "1        1  Toy Story (1995)  Adventure|Animation|Children|Comedy|Fantasy   \n",
              "2        1  Toy Story (1995)  Adventure|Animation|Children|Comedy|Fantasy   \n",
              "3        1  Toy Story (1995)  Adventure|Animation|Children|Comedy|Fantasy   \n",
              "4        1  Toy Story (1995)  Adventure|Animation|Children|Comedy|Fantasy   \n",
              "\n",
              "   userId  rating  \n",
              "0       3     4.0  \n",
              "1       6     5.0  \n",
              "2       8     4.0  \n",
              "3      10     4.0  \n",
              "4      11     4.5  "
            ]
          },
          "metadata": {
            "tags": []
          },
          "execution_count": 58
        }
      ]
    },
    {
      "cell_type": "code",
      "metadata": {
        "id": "oBX9S9qqJN8F"
      },
      "source": [
        "popularity = pd.DataFrame(ratings[['userId', 'title', 'movieId']].groupby(['title', 'movieId']).agg(['count']))\n",
        "popularity.reset_index(inplace=True)\n",
        "popularity.columns = ['title', 'movieId', 'ratings_count']\n",
        "popularity.sort_values('ratings_count', ascending=False, inplace=True)"
      ],
      "execution_count": null,
      "outputs": []
    },
    {
      "cell_type": "code",
      "metadata": {
        "id": "87cecqC2JQAw",
        "outputId": "35feedba-46bd-49cd-af00-85a9ada9522a",
        "colab": {
          "base_uri": "https://localhost:8080/",
          "height": 204
        }
      },
      "source": [
        "popularity.head()"
      ],
      "execution_count": null,
      "outputs": [
        {
          "output_type": "execute_result",
          "data": {
            "text/html": [
              "<div>\n",
              "<style scoped>\n",
              "    .dataframe tbody tr th:only-of-type {\n",
              "        vertical-align: middle;\n",
              "    }\n",
              "\n",
              "    .dataframe tbody tr th {\n",
              "        vertical-align: top;\n",
              "    }\n",
              "\n",
              "    .dataframe thead th {\n",
              "        text-align: right;\n",
              "    }\n",
              "</style>\n",
              "<table border=\"1\" class=\"dataframe\">\n",
              "  <thead>\n",
              "    <tr style=\"text-align: right;\">\n",
              "      <th></th>\n",
              "      <th>title</th>\n",
              "      <th>movieId</th>\n",
              "      <th>ratings_count</th>\n",
              "    </tr>\n",
              "  </thead>\n",
              "  <tbody>\n",
              "    <tr>\n",
              "      <th>18839</th>\n",
              "      <td>Pulp Fiction (1994)</td>\n",
              "      <td>296</td>\n",
              "      <td>67310</td>\n",
              "    </tr>\n",
              "    <tr>\n",
              "      <th>8726</th>\n",
              "      <td>Forrest Gump (1994)</td>\n",
              "      <td>356</td>\n",
              "      <td>66172</td>\n",
              "    </tr>\n",
              "    <tr>\n",
              "      <th>20794</th>\n",
              "      <td>Shawshank Redemption, The (1994)</td>\n",
              "      <td>318</td>\n",
              "      <td>63366</td>\n",
              "    </tr>\n",
              "    <tr>\n",
              "      <th>21009</th>\n",
              "      <td>Silence of the Lambs, The (1991)</td>\n",
              "      <td>593</td>\n",
              "      <td>63299</td>\n",
              "    </tr>\n",
              "    <tr>\n",
              "      <th>12657</th>\n",
              "      <td>Jurassic Park (1993)</td>\n",
              "      <td>480</td>\n",
              "      <td>59715</td>\n",
              "    </tr>\n",
              "  </tbody>\n",
              "</table>\n",
              "</div>"
            ],
            "text/plain": [
              "                                  title  movieId  ratings_count\n",
              "18839               Pulp Fiction (1994)      296          67310\n",
              "8726                Forrest Gump (1994)      356          66172\n",
              "20794  Shawshank Redemption, The (1994)      318          63366\n",
              "21009  Silence of the Lambs, The (1991)      593          63299\n",
              "12657              Jurassic Park (1993)      480          59715"
            ]
          },
          "metadata": {
            "tags": []
          },
          "execution_count": 60
        }
      ]
    },
    {
      "cell_type": "code",
      "metadata": {
        "id": "2T7chNriJYPR",
        "outputId": "984144f5-fb56-47b6-997c-7f3187e473ab",
        "colab": {
          "base_uri": "https://localhost:8080/",
          "height": 359
        }
      },
      "source": [
        "popularity.sample(10)"
      ],
      "execution_count": null,
      "outputs": [
        {
          "output_type": "execute_result",
          "data": {
            "text/html": [
              "<div>\n",
              "<style scoped>\n",
              "    .dataframe tbody tr th:only-of-type {\n",
              "        vertical-align: middle;\n",
              "    }\n",
              "\n",
              "    .dataframe tbody tr th {\n",
              "        vertical-align: top;\n",
              "    }\n",
              "\n",
              "    .dataframe thead th {\n",
              "        text-align: right;\n",
              "    }\n",
              "</style>\n",
              "<table border=\"1\" class=\"dataframe\">\n",
              "  <thead>\n",
              "    <tr style=\"text-align: right;\">\n",
              "      <th></th>\n",
              "      <th>title</th>\n",
              "      <th>movieId</th>\n",
              "      <th>ratings_count</th>\n",
              "    </tr>\n",
              "  </thead>\n",
              "  <tbody>\n",
              "    <tr>\n",
              "      <th>3411</th>\n",
              "      <td>Box, The (2007)</td>\n",
              "      <td>81364</td>\n",
              "      <td>47</td>\n",
              "    </tr>\n",
              "    <tr>\n",
              "      <th>17519</th>\n",
              "      <td>Other F Word, The (2011)</td>\n",
              "      <td>113632</td>\n",
              "      <td>3</td>\n",
              "    </tr>\n",
              "    <tr>\n",
              "      <th>21960</th>\n",
              "      <td>Stations of the Cross (2014)</td>\n",
              "      <td>127226</td>\n",
              "      <td>1</td>\n",
              "    </tr>\n",
              "    <tr>\n",
              "      <th>11492</th>\n",
              "      <td>I Spy (2002)</td>\n",
              "      <td>5803</td>\n",
              "      <td>1046</td>\n",
              "    </tr>\n",
              "    <tr>\n",
              "      <th>1960</th>\n",
              "      <td>Bad Boy (Story of Danny Lester, The) (1949)</td>\n",
              "      <td>111846</td>\n",
              "      <td>1</td>\n",
              "    </tr>\n",
              "    <tr>\n",
              "      <th>7324</th>\n",
              "      <td>Edge of the City (1957)</td>\n",
              "      <td>78438</td>\n",
              "      <td>9</td>\n",
              "    </tr>\n",
              "    <tr>\n",
              "      <th>6060</th>\n",
              "      <td>Days of Glory (Indigènes) (2006)</td>\n",
              "      <td>51007</td>\n",
              "      <td>130</td>\n",
              "    </tr>\n",
              "    <tr>\n",
              "      <th>25527</th>\n",
              "      <td>Way You Wanted Me, The (Sellaisena kuin sinä minut halusit) (1944)</td>\n",
              "      <td>75428</td>\n",
              "      <td>7</td>\n",
              "    </tr>\n",
              "    <tr>\n",
              "      <th>5840</th>\n",
              "      <td>Dancing Outlaw II: Jesco Goes to Hollywood (1999)</td>\n",
              "      <td>117840</td>\n",
              "      <td>1</td>\n",
              "    </tr>\n",
              "    <tr>\n",
              "      <th>6236</th>\n",
              "      <td>Death of the Incredible Hulk, The (1990)</td>\n",
              "      <td>103821</td>\n",
              "      <td>4</td>\n",
              "    </tr>\n",
              "  </tbody>\n",
              "</table>\n",
              "</div>"
            ],
            "text/plain": [
              "                                                                    title  \\\n",
              "3411                                                      Box, The (2007)   \n",
              "17519                                            Other F Word, The (2011)   \n",
              "21960                                        Stations of the Cross (2014)   \n",
              "11492                                                        I Spy (2002)   \n",
              "1960                          Bad Boy (Story of Danny Lester, The) (1949)   \n",
              "7324                                              Edge of the City (1957)   \n",
              "6060                                     Days of Glory (Indigènes) (2006)   \n",
              "25527  Way You Wanted Me, The (Sellaisena kuin sinä minut halusit) (1944)   \n",
              "5840                    Dancing Outlaw II: Jesco Goes to Hollywood (1999)   \n",
              "6236                             Death of the Incredible Hulk, The (1990)   \n",
              "\n",
              "       movieId  ratings_count  \n",
              "3411     81364             47  \n",
              "17519   113632              3  \n",
              "21960   127226              1  \n",
              "11492     5803           1046  \n",
              "1960    111846              1  \n",
              "7324     78438              9  \n",
              "6060     51007            130  \n",
              "25527    75428              7  \n",
              "5840    117840              1  \n",
              "6236    103821              4  "
            ]
          },
          "metadata": {
            "tags": []
          },
          "execution_count": 61
        }
      ]
    },
    {
      "cell_type": "code",
      "metadata": {
        "id": "cR10kjHdJclO",
        "outputId": "882d6d6e-44d2-4527-f65b-14a2b2ab12a6",
        "colab": {
          "base_uri": "https://localhost:8080/",
          "height": 80
        }
      },
      "source": [
        "popularity.query('title == \"Primer (2004)\"')"
      ],
      "execution_count": null,
      "outputs": [
        {
          "output_type": "execute_result",
          "data": {
            "text/html": [
              "<div>\n",
              "<style scoped>\n",
              "    .dataframe tbody tr th:only-of-type {\n",
              "        vertical-align: middle;\n",
              "    }\n",
              "\n",
              "    .dataframe tbody tr th {\n",
              "        vertical-align: top;\n",
              "    }\n",
              "\n",
              "    .dataframe thead th {\n",
              "        text-align: right;\n",
              "    }\n",
              "</style>\n",
              "<table border=\"1\" class=\"dataframe\">\n",
              "  <thead>\n",
              "    <tr style=\"text-align: right;\">\n",
              "      <th></th>\n",
              "      <th>title</th>\n",
              "      <th>movieId</th>\n",
              "      <th>ratings_count</th>\n",
              "    </tr>\n",
              "  </thead>\n",
              "  <tbody>\n",
              "    <tr>\n",
              "      <th>18637</th>\n",
              "      <td>Primer (2004)</td>\n",
              "      <td>8914</td>\n",
              "      <td>2643</td>\n",
              "    </tr>\n",
              "  </tbody>\n",
              "</table>\n",
              "</div>"
            ],
            "text/plain": [
              "               title  movieId  ratings_count\n",
              "18637  Primer (2004)     8914           2643"
            ]
          },
          "metadata": {
            "tags": []
          },
          "execution_count": 62
        }
      ]
    },
    {
      "cell_type": "code",
      "metadata": {
        "id": "iohT09zyJhSd",
        "outputId": "1c4d3a12-59b3-40a4-ddd9-e0ab50c68a46",
        "colab": {
          "base_uri": "https://localhost:8080/",
          "height": 142
        }
      },
      "source": [
        "sample_movies = popularity[popularity['title'].isin([\"Primer (2004)\", \"Inception (2010)\", \"Lord of the Rings: The Fellowship of the Ring, The (2001)\"])]\n",
        "sample_movies"
      ],
      "execution_count": null,
      "outputs": [
        {
          "output_type": "execute_result",
          "data": {
            "text/html": [
              "<div>\n",
              "<style scoped>\n",
              "    .dataframe tbody tr th:only-of-type {\n",
              "        vertical-align: middle;\n",
              "    }\n",
              "\n",
              "    .dataframe tbody tr th {\n",
              "        vertical-align: top;\n",
              "    }\n",
              "\n",
              "    .dataframe thead th {\n",
              "        text-align: right;\n",
              "    }\n",
              "</style>\n",
              "<table border=\"1\" class=\"dataframe\">\n",
              "  <thead>\n",
              "    <tr style=\"text-align: right;\">\n",
              "      <th></th>\n",
              "      <th>title</th>\n",
              "      <th>movieId</th>\n",
              "      <th>ratings_count</th>\n",
              "    </tr>\n",
              "  </thead>\n",
              "  <tbody>\n",
              "    <tr>\n",
              "      <th>14264</th>\n",
              "      <td>Lord of the Rings: The Fellowship of the Ring, The (2001)</td>\n",
              "      <td>4993</td>\n",
              "      <td>37553</td>\n",
              "    </tr>\n",
              "    <tr>\n",
              "      <th>11834</th>\n",
              "      <td>Inception (2010)</td>\n",
              "      <td>79132</td>\n",
              "      <td>14023</td>\n",
              "    </tr>\n",
              "    <tr>\n",
              "      <th>18637</th>\n",
              "      <td>Primer (2004)</td>\n",
              "      <td>8914</td>\n",
              "      <td>2643</td>\n",
              "    </tr>\n",
              "  </tbody>\n",
              "</table>\n",
              "</div>"
            ],
            "text/plain": [
              "                                                           title  movieId  \\\n",
              "14264  Lord of the Rings: The Fellowship of the Ring, The (2001)     4993   \n",
              "11834                                           Inception (2010)    79132   \n",
              "18637                                              Primer (2004)     8914   \n",
              "\n",
              "       ratings_count  \n",
              "14264          37553  \n",
              "11834          14023  \n",
              "18637           2643  "
            ]
          },
          "metadata": {
            "tags": []
          },
          "execution_count": 63
        }
      ]
    },
    {
      "cell_type": "code",
      "metadata": {
        "id": "LwsC4EJeJpev",
        "outputId": "83499786-3454-48de-caf4-20f076735794",
        "colab": {
          "base_uri": "https://localhost:8080/",
          "height": 384
        }
      },
      "source": [
        "sns.barplot(x=sample_movies.title, \n",
        "            y=sample_movies.ratings_count)"
      ],
      "execution_count": null,
      "outputs": [
        {
          "output_type": "stream",
          "text": [
            "/usr/local/lib/python3.6/dist-packages/seaborn/categorical.py:342: DeprecationWarning: pandas.core.common.is_categorical_dtype is deprecated. import from the public API: pandas.api.types.is_categorical_dtype instead\n",
            "  elif is_categorical(y):\n",
            "/usr/local/lib/python3.6/dist-packages/seaborn/categorical.py:1428: FutureWarning: remove_na is deprecated and is a private function. Do not use.\n",
            "  stat_data = remove_na(group_data)\n"
          ],
          "name": "stderr"
        },
        {
          "output_type": "execute_result",
          "data": {
            "text/plain": [
              "<matplotlib.axes._subplots.AxesSubplot at 0x7fdb44e42940>"
            ]
          },
          "metadata": {
            "tags": []
          },
          "execution_count": 64
        },
        {
          "output_type": "display_data",
          "data": {
            "image/png": "[encoded data removed]",
            "text/plain": [
              "<Figure size 432x288 with 1 Axes>"
            ]
          },
          "metadata": {
            "tags": []
          }
        }
      ]
    },
    {
      "cell_type": "code",
      "metadata": {
        "id": "bZ7e02CSJtfA",
        "outputId": "fb404b6e-dce1-4c95-f3d0-36c17f51d568",
        "colab": {
          "base_uri": "https://localhost:8080/",
          "height": 238
        }
      },
      "source": [
        "long_tail_data = popularity.copy()\n",
        "long_tail_data = long_tail_data.sort_values('ratings_count', ascending=False)\n",
        "print(long_tail_data.shape)\n",
        "print(len(long_tail_data.movieId.unique()))\n",
        "long_tail_data.head()"
      ],
      "execution_count": null,
      "outputs": [
        {
          "output_type": "stream",
          "text": [
            "(26744, 3)\n",
            "26744\n"
          ],
          "name": "stdout"
        },
        {
          "output_type": "execute_result",
          "data": {
            "text/html": [
              "<div>\n",
              "<style scoped>\n",
              "    .dataframe tbody tr th:only-of-type {\n",
              "        vertical-align: middle;\n",
              "    }\n",
              "\n",
              "    .dataframe tbody tr th {\n",
              "        vertical-align: top;\n",
              "    }\n",
              "\n",
              "    .dataframe thead th {\n",
              "        text-align: right;\n",
              "    }\n",
              "</style>\n",
              "<table border=\"1\" class=\"dataframe\">\n",
              "  <thead>\n",
              "    <tr style=\"text-align: right;\">\n",
              "      <th></th>\n",
              "      <th>title</th>\n",
              "      <th>movieId</th>\n",
              "      <th>ratings_count</th>\n",
              "    </tr>\n",
              "  </thead>\n",
              "  <tbody>\n",
              "    <tr>\n",
              "      <th>18839</th>\n",
              "      <td>Pulp Fiction (1994)</td>\n",
              "      <td>296</td>\n",
              "      <td>67310</td>\n",
              "    </tr>\n",
              "    <tr>\n",
              "      <th>8726</th>\n",
              "      <td>Forrest Gump (1994)</td>\n",
              "      <td>356</td>\n",
              "      <td>66172</td>\n",
              "    </tr>\n",
              "    <tr>\n",
              "      <th>20794</th>\n",
              "      <td>Shawshank Redemption, The (1994)</td>\n",
              "      <td>318</td>\n",
              "      <td>63366</td>\n",
              "    </tr>\n",
              "    <tr>\n",
              "      <th>21009</th>\n",
              "      <td>Silence of the Lambs, The (1991)</td>\n",
              "      <td>593</td>\n",
              "      <td>63299</td>\n",
              "    </tr>\n",
              "    <tr>\n",
              "      <th>12657</th>\n",
              "      <td>Jurassic Park (1993)</td>\n",
              "      <td>480</td>\n",
              "      <td>59715</td>\n",
              "    </tr>\n",
              "  </tbody>\n",
              "</table>\n",
              "</div>"
            ],
            "text/plain": [
              "                                  title  movieId  ratings_count\n",
              "18839               Pulp Fiction (1994)      296          67310\n",
              "8726                Forrest Gump (1994)      356          66172\n",
              "20794  Shawshank Redemption, The (1994)      318          63366\n",
              "21009  Silence of the Lambs, The (1991)      593          63299\n",
              "12657              Jurassic Park (1993)      480          59715"
            ]
          },
          "metadata": {
            "tags": []
          },
          "execution_count": 65
        }
      ]
    },
    {
      "cell_type": "code",
      "metadata": {
        "id": "OL7MAJPjKAmK"
      },
      "source": [
        "ratings = pd.read_csv(\"ml-20m/ratings.csv\")\n",
        "ratings.drop('timestamp', axis=1, inplace=True)"
      ],
      "execution_count": null,
      "outputs": []
    },
    {
      "cell_type": "code",
      "metadata": {
        "id": "JV1UtQR9KMKl",
        "outputId": "7ac0d391-6645-4765-ea13-a21d03fe23d7",
        "colab": {
          "base_uri": "https://localhost:8080/",
          "height": 204
        }
      },
      "source": [
        "ratings.head()"
      ],
      "execution_count": null,
      "outputs": [
        {
          "output_type": "execute_result",
          "data": {
            "text/html": [
              "<div>\n",
              "<style scoped>\n",
              "    .dataframe tbody tr th:only-of-type {\n",
              "        vertical-align: middle;\n",
              "    }\n",
              "\n",
              "    .dataframe tbody tr th {\n",
              "        vertical-align: top;\n",
              "    }\n",
              "\n",
              "    .dataframe thead th {\n",
              "        text-align: right;\n",
              "    }\n",
              "</style>\n",
              "<table border=\"1\" class=\"dataframe\">\n",
              "  <thead>\n",
              "    <tr style=\"text-align: right;\">\n",
              "      <th></th>\n",
              "      <th>userId</th>\n",
              "      <th>movieId</th>\n",
              "      <th>rating</th>\n",
              "    </tr>\n",
              "  </thead>\n",
              "  <tbody>\n",
              "    <tr>\n",
              "      <th>0</th>\n",
              "      <td>1</td>\n",
              "      <td>2</td>\n",
              "      <td>3.5</td>\n",
              "    </tr>\n",
              "    <tr>\n",
              "      <th>1</th>\n",
              "      <td>1</td>\n",
              "      <td>29</td>\n",
              "      <td>3.5</td>\n",
              "    </tr>\n",
              "    <tr>\n",
              "      <th>2</th>\n",
              "      <td>1</td>\n",
              "      <td>32</td>\n",
              "      <td>3.5</td>\n",
              "    </tr>\n",
              "    <tr>\n",
              "      <th>3</th>\n",
              "      <td>1</td>\n",
              "      <td>47</td>\n",
              "      <td>3.5</td>\n",
              "    </tr>\n",
              "    <tr>\n",
              "      <th>4</th>\n",
              "      <td>1</td>\n",
              "      <td>50</td>\n",
              "      <td>3.5</td>\n",
              "    </tr>\n",
              "  </tbody>\n",
              "</table>\n",
              "</div>"
            ],
            "text/plain": [
              "   userId  movieId  rating\n",
              "0       1        2     3.5\n",
              "1       1       29     3.5\n",
              "2       1       32     3.5\n",
              "3       1       47     3.5\n",
              "4       1       50     3.5"
            ]
          },
          "metadata": {
            "tags": []
          },
          "execution_count": 69
        }
      ]
    },
    {
      "cell_type": "code",
      "metadata": {
        "id": "1qmgE54nKPyN"
      },
      "source": [
        "n_users = ratings['userId'].nunique()\n",
        "n_movies = ratings['movieId'].nunique()"
      ],
      "execution_count": null,
      "outputs": []
    },
    {
      "cell_type": "code",
      "metadata": {
        "id": "ifs_X4kFKTZw",
        "outputId": "a91724ed-18de-4871-fc48-117a82cd817e",
        "colab": {
          "base_uri": "https://localhost:8080/",
          "height": 51
        }
      },
      "source": [
        "print('number of users: {}\\nnumber of movies: {}'.format(n_users, n_movies))"
      ],
      "execution_count": null,
      "outputs": [
        {
          "output_type": "stream",
          "text": [
            "number of users: 138493\n",
            "number of movies: 26744\n"
          ],
          "name": "stdout"
        }
      ]
    },
    {
      "cell_type": "code",
      "metadata": {
        "id": "bNiiGfkHKWCA",
        "outputId": "60b3262c-b536-4d43-de3c-d83efcba064a",
        "colab": {
          "base_uri": "https://localhost:8080/",
          "height": 34
        }
      },
      "source": [
        "print('sparsity level is {}%'.format(round((1.0 - len(ratings)/float(n_users*n_movies))*100, 4)))"
      ],
      "execution_count": null,
      "outputs": [
        {
          "output_type": "stream",
          "text": [
            "sparsity level is 99.46%\n"
          ],
          "name": "stdout"
        }
      ]
    },
    {
      "cell_type": "code",
      "metadata": {
        "id": "Jyb-F7K9KYR8"
      },
      "source": [
        "movie_summary = pd.DataFrame(ratings.groupby('movieId')['rating'].mean())"
      ],
      "execution_count": null,
      "outputs": []
    },
    {
      "cell_type": "code",
      "metadata": {
        "id": "xN2WkdKDKaMr",
        "outputId": "ecf9b0f3-b1e4-4463-8172-86167bd6e107",
        "colab": {
          "base_uri": "https://localhost:8080/",
          "height": 235
        }
      },
      "source": [
        "movie_summary.head()"
      ],
      "execution_count": null,
      "outputs": [
        {
          "output_type": "execute_result",
          "data": {
            "text/html": [
              "<div>\n",
              "<style scoped>\n",
              "    .dataframe tbody tr th:only-of-type {\n",
              "        vertical-align: middle;\n",
              "    }\n",
              "\n",
              "    .dataframe tbody tr th {\n",
              "        vertical-align: top;\n",
              "    }\n",
              "\n",
              "    .dataframe thead th {\n",
              "        text-align: right;\n",
              "    }\n",
              "</style>\n",
              "<table border=\"1\" class=\"dataframe\">\n",
              "  <thead>\n",
              "    <tr style=\"text-align: right;\">\n",
              "      <th></th>\n",
              "      <th>rating</th>\n",
              "    </tr>\n",
              "    <tr>\n",
              "      <th>movieId</th>\n",
              "      <th></th>\n",
              "    </tr>\n",
              "  </thead>\n",
              "  <tbody>\n",
              "    <tr>\n",
              "      <th>1</th>\n",
              "      <td>3.921240</td>\n",
              "    </tr>\n",
              "    <tr>\n",
              "      <th>2</th>\n",
              "      <td>3.211977</td>\n",
              "    </tr>\n",
              "    <tr>\n",
              "      <th>3</th>\n",
              "      <td>3.151040</td>\n",
              "    </tr>\n",
              "    <tr>\n",
              "      <th>4</th>\n",
              "      <td>2.861393</td>\n",
              "    </tr>\n",
              "    <tr>\n",
              "      <th>5</th>\n",
              "      <td>3.064592</td>\n",
              "    </tr>\n",
              "  </tbody>\n",
              "</table>\n",
              "</div>"
            ],
            "text/plain": [
              "           rating\n",
              "movieId          \n",
              "1        3.921240\n",
              "2        3.211977\n",
              "3        3.151040\n",
              "4        2.861393\n",
              "5        3.064592"
            ]
          },
          "metadata": {
            "tags": []
          },
          "execution_count": 74
        }
      ]
    },
    {
      "cell_type": "code",
      "metadata": {
        "id": "Kc9nU6ppKdVP"
      },
      "source": [
        "movie_summary['num_ratings'] = ratings.groupby('movieId')['rating'].count()"
      ],
      "execution_count": null,
      "outputs": []
    },
    {
      "cell_type": "code",
      "metadata": {
        "id": "1tu7AIfXKhTH",
        "outputId": "0cb0557b-b242-4389-fd70-1244331054a7",
        "colab": {
          "base_uri": "https://localhost:8080/",
          "height": 235
        }
      },
      "source": [
        "movie_summary.head()"
      ],
      "execution_count": null,
      "outputs": [
        {
          "output_type": "execute_result",
          "data": {
            "text/html": [
              "<div>\n",
              "<style scoped>\n",
              "    .dataframe tbody tr th:only-of-type {\n",
              "        vertical-align: middle;\n",
              "    }\n",
              "\n",
              "    .dataframe tbody tr th {\n",
              "        vertical-align: top;\n",
              "    }\n",
              "\n",
              "    .dataframe thead th {\n",
              "        text-align: right;\n",
              "    }\n",
              "</style>\n",
              "<table border=\"1\" class=\"dataframe\">\n",
              "  <thead>\n",
              "    <tr style=\"text-align: right;\">\n",
              "      <th></th>\n",
              "      <th>rating</th>\n",
              "      <th>num_ratings</th>\n",
              "    </tr>\n",
              "    <tr>\n",
              "      <th>movieId</th>\n",
              "      <th></th>\n",
              "      <th></th>\n",
              "    </tr>\n",
              "  </thead>\n",
              "  <tbody>\n",
              "    <tr>\n",
              "      <th>1</th>\n",
              "      <td>3.921240</td>\n",
              "      <td>49695</td>\n",
              "    </tr>\n",
              "    <tr>\n",
              "      <th>2</th>\n",
              "      <td>3.211977</td>\n",
              "      <td>22243</td>\n",
              "    </tr>\n",
              "    <tr>\n",
              "      <th>3</th>\n",
              "      <td>3.151040</td>\n",
              "      <td>12735</td>\n",
              "    </tr>\n",
              "    <tr>\n",
              "      <th>4</th>\n",
              "      <td>2.861393</td>\n",
              "      <td>2756</td>\n",
              "    </tr>\n",
              "    <tr>\n",
              "      <th>5</th>\n",
              "      <td>3.064592</td>\n",
              "      <td>12161</td>\n",
              "    </tr>\n",
              "  </tbody>\n",
              "</table>\n",
              "</div>"
            ],
            "text/plain": [
              "           rating  num_ratings\n",
              "movieId                       \n",
              "1        3.921240        49695\n",
              "2        3.211977        22243\n",
              "3        3.151040        12735\n",
              "4        2.861393         2756\n",
              "5        3.064592        12161"
            ]
          },
          "metadata": {
            "tags": []
          },
          "execution_count": 76
        }
      ]
    },
    {
      "cell_type": "code",
      "metadata": {
        "id": "ODWh380yKjmn",
        "outputId": "d886b52f-3977-4f0f-8079-830a5e7e281d",
        "colab": {
          "base_uri": "https://localhost:8080/",
          "height": 170
        }
      },
      "source": [
        "movie_summary['num_ratings'].describe()"
      ],
      "execution_count": null,
      "outputs": [
        {
          "output_type": "execute_result",
          "data": {
            "text/plain": [
              "count    26744.000000\n",
              "mean       747.841123\n",
              "std       3085.818268\n",
              "min          1.000000\n",
              "25%          3.000000\n",
              "50%         18.000000\n",
              "75%        205.000000\n",
              "max      67310.000000\n",
              "Name: num_ratings, dtype: float64"
            ]
          },
          "metadata": {
            "tags": []
          },
          "execution_count": 77
        }
      ]
    },
    {
      "cell_type": "code",
      "metadata": {
        "id": "lDNn6KD1Kl-E",
        "outputId": "fb598e0f-1866-4e15-8b81-c56d893e731c",
        "colab": {
          "base_uri": "https://localhost:8080/",
          "height": 282
        }
      },
      "source": [
        "plt.figure(figsize=(15,4))\n",
        "movie_summary['num_ratings'].hist(bins=70)"
      ],
      "execution_count": null,
      "outputs": [
        {
          "output_type": "execute_result",
          "data": {
            "text/plain": [
              "<matplotlib.axes._subplots.AxesSubplot at 0x7fdb41d6bd68>"
            ]
          },
          "metadata": {
            "tags": []
          },
          "execution_count": 78
        },
        {
          "output_type": "display_data",
          "data": {
            "image/png": "[encoded data removed]",
            "text/plain": [
              "<Figure size 1080x288 with 1 Axes>"
            ]
          },
          "metadata": {
            "tags": []
          }
        }
      ]
    },
    {
      "cell_type": "code",
      "metadata": {
        "id": "g_Io6leoKoqc",
        "outputId": "fbfef4d8-9bb0-4000-861a-49a0250b8fb5",
        "colab": {
          "base_uri": "https://localhost:8080/",
          "height": 282
        }
      },
      "source": [
        "plt.figure(figsize=(15,4))\n",
        "movie_summary[movie_summary['num_ratings'] < 5000]['num_ratings'].hist(bins=200)"
      ],
      "execution_count": null,
      "outputs": [
        {
          "output_type": "execute_result",
          "data": {
            "text/plain": [
              "<matplotlib.axes._subplots.AxesSubplot at 0x7fdb41d5fcc0>"
            ]
          },
          "metadata": {
            "tags": []
          },
          "execution_count": 79
        },
        {
          "output_type": "display_data",
          "data": {
            "image/png": "[encoded data removed]",
            "text/plain": [
              "<Figure size 1080x288 with 1 Axes>"
            ]
          },
          "metadata": {
            "tags": []
          }
        }
      ]
    },
    {
      "cell_type": "code",
      "metadata": {
        "id": "staolpcTKrBZ",
        "outputId": "9b48376f-7c04-4873-80b0-90a726736721",
        "colab": {
          "base_uri": "https://localhost:8080/",
          "height": 282
        }
      },
      "source": [
        "plt.figure(figsize=(15,4))\n",
        "movie_summary[movie_summary['num_ratings'] < 1000]['num_ratings'].hist(bins=200)"
      ],
      "execution_count": null,
      "outputs": [
        {
          "output_type": "execute_result",
          "data": {
            "text/plain": [
              "<matplotlib.axes._subplots.AxesSubplot at 0x7fdb41cccda0>"
            ]
          },
          "metadata": {
            "tags": []
          },
          "execution_count": 80
        },
        {
          "output_type": "display_data",
          "data": {
            "image/png": "[encoded data removed]",
            "text/plain": [
              "<Figure size 1080x288 with 1 Axes>"
            ]
          },
          "metadata": {
            "tags": []
          }
        }
      ]
    },
    {
      "cell_type": "code",
      "metadata": {
        "id": "hUzysHZrKtzD",
        "outputId": "b7871064-388b-4a66-e30e-3ef785a4cef3",
        "colab": {
          "base_uri": "https://localhost:8080/",
          "height": 34
        }
      },
      "source": [
        "(movie_summary['num_ratings'] < 100).sum()"
      ],
      "execution_count": null,
      "outputs": [
        {
          "output_type": "execute_result",
          "data": {
            "text/plain": [
              "18198"
            ]
          },
          "metadata": {
            "tags": []
          },
          "execution_count": 81
        }
      ]
    },
    {
      "cell_type": "code",
      "metadata": {
        "id": "bCGoPqsVKwHP",
        "outputId": "965f5d96-e894-46b8-e822-b76bfb393f48",
        "colab": {
          "base_uri": "https://localhost:8080/",
          "height": 282
        }
      },
      "source": [
        "plt.figure(figsize=(15,4))\n",
        "movie_summary[movie_summary['num_ratings'] < 200]['num_ratings'].hist(bins=200)"
      ],
      "execution_count": null,
      "outputs": [
        {
          "output_type": "execute_result",
          "data": {
            "text/plain": [
              "<matplotlib.axes._subplots.AxesSubplot at 0x7fdb45618a20>"
            ]
          },
          "metadata": {
            "tags": []
          },
          "execution_count": 82
        },
        {
          "output_type": "display_data",
          "data": {
            "image/png": "[encoded data removed]",
            "text/plain": [
              "<Figure size 1080x288 with 1 Axes>"
            ]
          },
          "metadata": {
            "tags": []
          }
        }
      ]
    },
    {
      "cell_type": "code",
      "metadata": {
        "id": "DyrafrDoKzj5",
        "outputId": "8a0d562f-a753-449e-b5c3-c191c9d1a1a0",
        "colab": {
          "base_uri": "https://localhost:8080/",
          "height": 51
        }
      },
      "source": [
        "# how many movies have only 1 rating, could drop all these\n",
        "print('num movies with 1 rating  = {}'.format((movie_summary['num_ratings'] == 1).sum()))\n",
        "print('num movies with 0 ratings = {}'.format((movie_summary['num_ratings'] == 0).sum()))"
      ],
      "execution_count": null,
      "outputs": [
        {
          "output_type": "stream",
          "text": [
            "num movies with 1 rating  = 3972\n",
            "num movies with 0 ratings = 0\n"
          ],
          "name": "stdout"
        }
      ]
    },
    {
      "cell_type": "code",
      "metadata": {
        "id": "mbJbHpcWK3Hl",
        "outputId": "26f739ba-8a23-45e9-a386-ad515f0002c9",
        "colab": {
          "base_uri": "https://localhost:8080/",
          "height": 282
        }
      },
      "source": [
        "plt.figure(figsize=(15,4))\n",
        "movie_summary[movie_summary['num_ratings'] < 20]['num_ratings'].hist(bins=18)"
      ],
      "execution_count": null,
      "outputs": [
        {
          "output_type": "execute_result",
          "data": {
            "text/plain": [
              "<matplotlib.axes._subplots.AxesSubplot at 0x7fdb41b817f0>"
            ]
          },
          "metadata": {
            "tags": []
          },
          "execution_count": 84
        },
        {
          "output_type": "display_data",
          "data": {
            "image/png": "[encoded data removed]",
            "text/plain": [
              "<Figure size 1080x288 with 1 Axes>"
            ]
          },
          "metadata": {
            "tags": []
          }
        }
      ]
    },
    {
      "cell_type": "code",
      "metadata": {
        "id": "Ke-a8Z5QK6HA",
        "outputId": "7786f918-d642-4772-fdb2-bc0fa4bab51c",
        "colab": {
          "base_uri": "https://localhost:8080/",
          "height": 282
        }
      },
      "source": [
        "plt.figure(figsize=(15,4))\n",
        "movie_summary['rating'].hist(bins=70)"
      ],
      "execution_count": null,
      "outputs": [
        {
          "output_type": "execute_result",
          "data": {
            "text/plain": [
              "<matplotlib.axes._subplots.AxesSubplot at 0x7fdb41540550>"
            ]
          },
          "metadata": {
            "tags": []
          },
          "execution_count": 85
        },
        {
          "output_type": "display_data",
          "data": {
            "image/png": "[encoded data removed]",
            "text/plain": [
              "<Figure size 1080x288 with 1 Axes>"
            ]
          },
          "metadata": {
            "tags": []
          }
        }
      ]
    },
    {
      "cell_type": "code",
      "metadata": {
        "id": "xROum5spK9_n",
        "outputId": "2af7f398-7300-4805-fa79-8a7bd0bf8a1a",
        "colab": {
          "base_uri": "https://localhost:8080/",
          "height": 793
        }
      },
      "source": [
        "sns.jointplot(x='rating',y='num_ratings',data=movie_summary,alpha=0.25, size=10)"
      ],
      "execution_count": null,
      "outputs": [
        {
          "output_type": "stream",
          "text": [
            "/usr/local/lib/python3.6/dist-packages/matplotlib/axes/_axes.py:6521: MatplotlibDeprecationWarning: \n",
            "The 'normed' kwarg was deprecated in Matplotlib 2.1 and will be removed in 3.1. Use 'density' instead.\n",
            "  alternative=\"'density'\", removal=\"3.1\")\n"
          ],
          "name": "stderr"
        },
        {
          "output_type": "execute_result",
          "data": {
            "text/plain": [
              "<seaborn.axisgrid.JointGrid at 0x7fdb414e54a8>"
            ]
          },
          "metadata": {
            "tags": []
          },
          "execution_count": 86
        },
        {
          "output_type": "display_data",
          "data": {
            "image/png": "[encoded data removed]",
            "text/plain": [
              "<Figure size 720x720 with 3 Axes>"
            ]
          },
          "metadata": {
            "tags": []
          }
        }
      ]
    },
    {
      "cell_type": "code",
      "metadata": {
        "id": "P_wqTLfRLB0V"
      },
      "source": [
        "user_summary = pd.DataFrame(ratings.groupby('userId')['rating'].count())"
      ],
      "execution_count": null,
      "outputs": []
    },
    {
      "cell_type": "code",
      "metadata": {
        "id": "j9C_STy0LDrA"
      },
      "source": [
        "user_summary.columns = ['rating_freq']"
      ],
      "execution_count": null,
      "outputs": []
    },
    {
      "cell_type": "code",
      "metadata": {
        "id": "WZwDRCMTLFYR"
      },
      "source": [
        "user_summary['rating_mean'] = ratings.groupby('userId')['rating'].mean()"
      ],
      "execution_count": null,
      "outputs": []
    },
    {
      "cell_type": "code",
      "metadata": {
        "id": "M1tn1_GALG-_",
        "outputId": "58ee3145-fa96-4ae0-d3ac-f5f22b59f25c",
        "colab": {
          "base_uri": "https://localhost:8080/",
          "height": 235
        }
      },
      "source": [
        "\n",
        "user_summary.head()"
      ],
      "execution_count": null,
      "outputs": [
        {
          "output_type": "execute_result",
          "data": {
            "text/html": [
              "<div>\n",
              "<style scoped>\n",
              "    .dataframe tbody tr th:only-of-type {\n",
              "        vertical-align: middle;\n",
              "    }\n",
              "\n",
              "    .dataframe tbody tr th {\n",
              "        vertical-align: top;\n",
              "    }\n",
              "\n",
              "    .dataframe thead th {\n",
              "        text-align: right;\n",
              "    }\n",
              "</style>\n",
              "<table border=\"1\" class=\"dataframe\">\n",
              "  <thead>\n",
              "    <tr style=\"text-align: right;\">\n",
              "      <th></th>\n",
              "      <th>rating_freq</th>\n",
              "      <th>rating_mean</th>\n",
              "    </tr>\n",
              "    <tr>\n",
              "      <th>userId</th>\n",
              "      <th></th>\n",
              "      <th></th>\n",
              "    </tr>\n",
              "  </thead>\n",
              "  <tbody>\n",
              "    <tr>\n",
              "      <th>1</th>\n",
              "      <td>175</td>\n",
              "      <td>3.742857</td>\n",
              "    </tr>\n",
              "    <tr>\n",
              "      <th>2</th>\n",
              "      <td>61</td>\n",
              "      <td>4.000000</td>\n",
              "    </tr>\n",
              "    <tr>\n",
              "      <th>3</th>\n",
              "      <td>187</td>\n",
              "      <td>4.122995</td>\n",
              "    </tr>\n",
              "    <tr>\n",
              "      <th>4</th>\n",
              "      <td>28</td>\n",
              "      <td>3.571429</td>\n",
              "    </tr>\n",
              "    <tr>\n",
              "      <th>5</th>\n",
              "      <td>66</td>\n",
              "      <td>4.272727</td>\n",
              "    </tr>\n",
              "  </tbody>\n",
              "</table>\n",
              "</div>"
            ],
            "text/plain": [
              "        rating_freq  rating_mean\n",
              "userId                          \n",
              "1               175     3.742857\n",
              "2                61     4.000000\n",
              "3               187     4.122995\n",
              "4                28     3.571429\n",
              "5                66     4.272727"
            ]
          },
          "metadata": {
            "tags": []
          },
          "execution_count": 90
        }
      ]
    },
    {
      "cell_type": "code",
      "metadata": {
        "id": "bS1TJrs3LI5k",
        "outputId": "305ff550-ca3a-48f8-dada-e567dc69a66c",
        "colab": {
          "base_uri": "https://localhost:8080/",
          "height": 297
        }
      },
      "source": [
        "user_summary.describe()"
      ],
      "execution_count": null,
      "outputs": [
        {
          "output_type": "execute_result",
          "data": {
            "text/html": [
              "<div>\n",
              "<style scoped>\n",
              "    .dataframe tbody tr th:only-of-type {\n",
              "        vertical-align: middle;\n",
              "    }\n",
              "\n",
              "    .dataframe tbody tr th {\n",
              "        vertical-align: top;\n",
              "    }\n",
              "\n",
              "    .dataframe thead th {\n",
              "        text-align: right;\n",
              "    }\n",
              "</style>\n",
              "<table border=\"1\" class=\"dataframe\">\n",
              "  <thead>\n",
              "    <tr style=\"text-align: right;\">\n",
              "      <th></th>\n",
              "      <th>rating_freq</th>\n",
              "      <th>rating_mean</th>\n",
              "    </tr>\n",
              "  </thead>\n",
              "  <tbody>\n",
              "    <tr>\n",
              "      <th>count</th>\n",
              "      <td>138493.000000</td>\n",
              "      <td>138493.000000</td>\n",
              "    </tr>\n",
              "    <tr>\n",
              "      <th>mean</th>\n",
              "      <td>144.413530</td>\n",
              "      <td>3.627209</td>\n",
              "    </tr>\n",
              "    <tr>\n",
              "      <th>std</th>\n",
              "      <td>230.267257</td>\n",
              "      <td>0.443030</td>\n",
              "    </tr>\n",
              "    <tr>\n",
              "      <th>min</th>\n",
              "      <td>20.000000</td>\n",
              "      <td>0.500000</td>\n",
              "    </tr>\n",
              "    <tr>\n",
              "      <th>25%</th>\n",
              "      <td>35.000000</td>\n",
              "      <td>3.369478</td>\n",
              "    </tr>\n",
              "    <tr>\n",
              "      <th>50%</th>\n",
              "      <td>68.000000</td>\n",
              "      <td>3.653846</td>\n",
              "    </tr>\n",
              "    <tr>\n",
              "      <th>75%</th>\n",
              "      <td>155.000000</td>\n",
              "      <td>3.923077</td>\n",
              "    </tr>\n",
              "    <tr>\n",
              "      <th>max</th>\n",
              "      <td>9254.000000</td>\n",
              "      <td>5.000000</td>\n",
              "    </tr>\n",
              "  </tbody>\n",
              "</table>\n",
              "</div>"
            ],
            "text/plain": [
              "         rating_freq    rating_mean\n",
              "count  138493.000000  138493.000000\n",
              "mean      144.413530       3.627209\n",
              "std       230.267257       0.443030\n",
              "min        20.000000       0.500000\n",
              "25%        35.000000       3.369478\n",
              "50%        68.000000       3.653846\n",
              "75%       155.000000       3.923077\n",
              "max      9254.000000       5.000000"
            ]
          },
          "metadata": {
            "tags": []
          },
          "execution_count": 91
        }
      ]
    },
    {
      "cell_type": "code",
      "metadata": {
        "id": "eVpQY3bVLLHi",
        "outputId": "9b92d044-a01c-4753-98cf-18b8683394a6",
        "colab": {
          "base_uri": "https://localhost:8080/",
          "height": 282
        }
      },
      "source": [
        "plt.figure(figsize=(15,4))\n",
        "user_summary['rating_freq'].hist(bins=70)"
      ],
      "execution_count": null,
      "outputs": [
        {
          "output_type": "execute_result",
          "data": {
            "text/plain": [
              "<matplotlib.axes._subplots.AxesSubplot at 0x7fdb411bcf28>"
            ]
          },
          "metadata": {
            "tags": []
          },
          "execution_count": 92
        },
        {
          "output_type": "display_data",
          "data": {
            "image/png": "[encoded data removed]",
            "text/plain": [
              "<Figure size 1080x288 with 1 Axes>"
            ]
          },
          "metadata": {
            "tags": []
          }
        }
      ]
    },
    {
      "cell_type": "code",
      "metadata": {
        "id": "HwFTiEzzLNTN",
        "outputId": "7bd12dff-8093-4518-8707-c97cc0917d41",
        "colab": {
          "base_uri": "https://localhost:8080/",
          "height": 284
        }
      },
      "source": [
        "plt.figure(figsize=(15,4))\n",
        "user_summary[user_summary['rating_freq'] < 1000]['rating_freq'].hist(bins=200)"
      ],
      "execution_count": null,
      "outputs": [
        {
          "output_type": "execute_result",
          "data": {
            "text/plain": [
              "<matplotlib.axes._subplots.AxesSubplot at 0x7fdb410dad30>"
            ]
          },
          "metadata": {
            "tags": []
          },
          "execution_count": 93
        },
        {
          "output_type": "display_data",
          "data": {
            "image/png": "[encoded data removed]",
            "text/plain": [
              "<Figure size 1080x288 with 1 Axes>"
            ]
          },
          "metadata": {
            "tags": []
          }
        }
      ]
    },
    {
      "cell_type": "code",
      "metadata": {
        "id": "j1U2FLTKXEkk"
      },
      "source": [
        "load_cache_extract_datafile(\"ml-100k.zip\", \"ml-100k\", \"http://files.grouplens.org/datasets/movielens/ml-100k.zip\")"
      ],
      "execution_count": null,
      "outputs": []
    },
    {
      "cell_type": "code",
      "metadata": {
        "id": "SEXSMygvT8rY"
      },
      "source": [
        "import pandas as pd\n",
        "%matplotlib inline\n",
        "import matplotlib\n",
        "import matplotlib.pyplot as plt\n",
        "import numpy as np\n",
        "\n",
        "# pass in column names for each CSV as the column name is not given in the file and read them using pandas.\n",
        "# You can check the column names from the readme file\n",
        "\n",
        "#Reading users file:\n",
        "u_cols = ['user_id', 'age', 'sex', 'occupation', 'zip_code']\n",
        "users = pd.read_csv('ml-100k/u.user', sep='|', names=u_cols,encoding='latin-1')\n",
        "\n",
        "#Reading ratings file:\n",
        "r_cols = ['user_id', 'movie_id', 'rating', 'unix_timestamp']\n",
        "ratings = pd.read_csv('ml-100k/u.data', sep='\\t', names=r_cols,encoding='latin-1')\n",
        "\n",
        "#Reading items file:\n",
        "i_cols = ['movie id', 'movie title' ,'release date','video release date', 'IMDb URL', 'unknown', 'Action', 'Adventure',\n",
        "'Animation', 'Children\\'s', 'Comedy', 'Crime', 'Documentary', 'Drama', 'Fantasy',\n",
        "'Film-Noir', 'Horror', 'Musical', 'Mystery', 'Romance', 'Sci-Fi', 'Thriller', 'War', 'Western']\n",
        "items = pd.read_csv('ml-100k/u.item', sep='|', names=i_cols,\n",
        "encoding='latin-1')"
      ],
      "execution_count": null,
      "outputs": []
    },
    {
      "cell_type": "code",
      "metadata": {
        "id": "O3wUtoy3WVdk",
        "outputId": "5ea27243-8a13-4a93-cce2-f02d1e521242",
        "colab": {
          "base_uri": "https://localhost:8080/",
          "height": 221
        }
      },
      "source": [
        "print(users.shape)\n",
        "users.head()"
      ],
      "execution_count": null,
      "outputs": [
        {
          "output_type": "stream",
          "text": [
            "(943, 5)\n"
          ],
          "name": "stdout"
        },
        {
          "output_type": "execute_result",
          "data": {
            "text/html": [
              "<div>\n",
              "<style scoped>\n",
              "    .dataframe tbody tr th:only-of-type {\n",
              "        vertical-align: middle;\n",
              "    }\n",
              "\n",
              "    .dataframe tbody tr th {\n",
              "        vertical-align: top;\n",
              "    }\n",
              "\n",
              "    .dataframe thead th {\n",
              "        text-align: right;\n",
              "    }\n",
              "</style>\n",
              "<table border=\"1\" class=\"dataframe\">\n",
              "  <thead>\n",
              "    <tr style=\"text-align: right;\">\n",
              "      <th></th>\n",
              "      <th>user_id</th>\n",
              "      <th>age</th>\n",
              "      <th>sex</th>\n",
              "      <th>occupation</th>\n",
              "      <th>zip_code</th>\n",
              "    </tr>\n",
              "  </thead>\n",
              "  <tbody>\n",
              "    <tr>\n",
              "      <th>0</th>\n",
              "      <td>1</td>\n",
              "      <td>24</td>\n",
              "      <td>M</td>\n",
              "      <td>technician</td>\n",
              "      <td>85711</td>\n",
              "    </tr>\n",
              "    <tr>\n",
              "      <th>1</th>\n",
              "      <td>2</td>\n",
              "      <td>53</td>\n",
              "      <td>F</td>\n",
              "      <td>other</td>\n",
              "      <td>94043</td>\n",
              "    </tr>\n",
              "    <tr>\n",
              "      <th>2</th>\n",
              "      <td>3</td>\n",
              "      <td>23</td>\n",
              "      <td>M</td>\n",
              "      <td>writer</td>\n",
              "      <td>32067</td>\n",
              "    </tr>\n",
              "    <tr>\n",
              "      <th>3</th>\n",
              "      <td>4</td>\n",
              "      <td>24</td>\n",
              "      <td>M</td>\n",
              "      <td>technician</td>\n",
              "      <td>43537</td>\n",
              "    </tr>\n",
              "    <tr>\n",
              "      <th>4</th>\n",
              "      <td>5</td>\n",
              "      <td>33</td>\n",
              "      <td>F</td>\n",
              "      <td>other</td>\n",
              "      <td>15213</td>\n",
              "    </tr>\n",
              "  </tbody>\n",
              "</table>\n",
              "</div>"
            ],
            "text/plain": [
              "   user_id  age sex  occupation zip_code\n",
              "0        1   24   M  technician    85711\n",
              "1        2   53   F       other    94043\n",
              "2        3   23   M      writer    32067\n",
              "3        4   24   M  technician    43537\n",
              "4        5   33   F       other    15213"
            ]
          },
          "metadata": {
            "tags": []
          },
          "execution_count": 101
        }
      ]
    },
    {
      "cell_type": "code",
      "metadata": {
        "id": "YhMWz1RxX7cD",
        "outputId": "eb121852-d915-444b-bbc1-f3cf177fd550",
        "colab": {
          "base_uri": "https://localhost:8080/",
          "height": 221
        }
      },
      "source": [
        "print(ratings.shape)\n",
        "ratings.head()"
      ],
      "execution_count": null,
      "outputs": [
        {
          "output_type": "stream",
          "text": [
            "(100000, 4)\n"
          ],
          "name": "stdout"
        },
        {
          "output_type": "execute_result",
          "data": {
            "text/html": [
              "<div>\n",
              "<style scoped>\n",
              "    .dataframe tbody tr th:only-of-type {\n",
              "        vertical-align: middle;\n",
              "    }\n",
              "\n",
              "    .dataframe tbody tr th {\n",
              "        vertical-align: top;\n",
              "    }\n",
              "\n",
              "    .dataframe thead th {\n",
              "        text-align: right;\n",
              "    }\n",
              "</style>\n",
              "<table border=\"1\" class=\"dataframe\">\n",
              "  <thead>\n",
              "    <tr style=\"text-align: right;\">\n",
              "      <th></th>\n",
              "      <th>user_id</th>\n",
              "      <th>movie_id</th>\n",
              "      <th>rating</th>\n",
              "      <th>unix_timestamp</th>\n",
              "    </tr>\n",
              "  </thead>\n",
              "  <tbody>\n",
              "    <tr>\n",
              "      <th>0</th>\n",
              "      <td>196</td>\n",
              "      <td>242</td>\n",
              "      <td>3</td>\n",
              "      <td>881250949</td>\n",
              "    </tr>\n",
              "    <tr>\n",
              "      <th>1</th>\n",
              "      <td>186</td>\n",
              "      <td>302</td>\n",
              "      <td>3</td>\n",
              "      <td>891717742</td>\n",
              "    </tr>\n",
              "    <tr>\n",
              "      <th>2</th>\n",
              "      <td>22</td>\n",
              "      <td>377</td>\n",
              "      <td>1</td>\n",
              "      <td>878887116</td>\n",
              "    </tr>\n",
              "    <tr>\n",
              "      <th>3</th>\n",
              "      <td>244</td>\n",
              "      <td>51</td>\n",
              "      <td>2</td>\n",
              "      <td>880606923</td>\n",
              "    </tr>\n",
              "    <tr>\n",
              "      <th>4</th>\n",
              "      <td>166</td>\n",
              "      <td>346</td>\n",
              "      <td>1</td>\n",
              "      <td>886397596</td>\n",
              "    </tr>\n",
              "  </tbody>\n",
              "</table>\n",
              "</div>"
            ],
            "text/plain": [
              "   user_id  movie_id  rating  unix_timestamp\n",
              "0      196       242       3       881250949\n",
              "1      186       302       3       891717742\n",
              "2       22       377       1       878887116\n",
              "3      244        51       2       880606923\n",
              "4      166       346       1       886397596"
            ]
          },
          "metadata": {
            "tags": []
          },
          "execution_count": 102
        }
      ]
    },
    {
      "cell_type": "code",
      "metadata": {
        "id": "CQ7xuKruYAE-",
        "outputId": "e08e09e4-82b9-4716-a8c8-691c14dfd353",
        "colab": {
          "base_uri": "https://localhost:8080/",
          "height": 428
        }
      },
      "source": [
        "print(items.shape)\n",
        "items.head()"
      ],
      "execution_count": null,
      "outputs": [
        {
          "output_type": "stream",
          "text": [
            "(1682, 24)\n"
          ],
          "name": "stdout"
        },
        {
          "output_type": "execute_result",
          "data": {
            "text/html": [
              "<div>\n",
              "<style scoped>\n",
              "    .dataframe tbody tr th:only-of-type {\n",
              "        vertical-align: middle;\n",
              "    }\n",
              "\n",
              "    .dataframe tbody tr th {\n",
              "        vertical-align: top;\n",
              "    }\n",
              "\n",
              "    .dataframe thead th {\n",
              "        text-align: right;\n",
              "    }\n",
              "</style>\n",
              "<table border=\"1\" class=\"dataframe\">\n",
              "  <thead>\n",
              "    <tr style=\"text-align: right;\">\n",
              "      <th></th>\n",
              "      <th>movie id</th>\n",
              "      <th>movie title</th>\n",
              "      <th>release date</th>\n",
              "      <th>video release date</th>\n",
              "      <th>IMDb URL</th>\n",
              "      <th>unknown</th>\n",
              "      <th>Action</th>\n",
              "      <th>Adventure</th>\n",
              "      <th>Animation</th>\n",
              "      <th>Children's</th>\n",
              "      <th>Comedy</th>\n",
              "      <th>Crime</th>\n",
              "      <th>Documentary</th>\n",
              "      <th>Drama</th>\n",
              "      <th>Fantasy</th>\n",
              "      <th>Film-Noir</th>\n",
              "      <th>Horror</th>\n",
              "      <th>Musical</th>\n",
              "      <th>Mystery</th>\n",
              "      <th>Romance</th>\n",
              "      <th>Sci-Fi</th>\n",
              "      <th>Thriller</th>\n",
              "      <th>War</th>\n",
              "      <th>Western</th>\n",
              "    </tr>\n",
              "  </thead>\n",
              "  <tbody>\n",
              "    <tr>\n",
              "      <th>0</th>\n",
              "      <td>1</td>\n",
              "      <td>Toy Story (1995)</td>\n",
              "      <td>01-Jan-1995</td>\n",
              "      <td>NaN</td>\n",
              "      <td>http://us.imdb.com/M/title-exact?Toy%20Story%20(1995)</td>\n",
              "      <td>0</td>\n",
              "      <td>0</td>\n",
              "      <td>0</td>\n",
              "      <td>1</td>\n",
              "      <td>1</td>\n",
              "      <td>1</td>\n",
              "      <td>0</td>\n",
              "      <td>0</td>\n",
              "      <td>0</td>\n",
              "      <td>0</td>\n",
              "      <td>0</td>\n",
              "      <td>0</td>\n",
              "      <td>0</td>\n",
              "      <td>0</td>\n",
              "      <td>0</td>\n",
              "      <td>0</td>\n",
              "      <td>0</td>\n",
              "      <td>0</td>\n",
              "      <td>0</td>\n",
              "    </tr>\n",
              "    <tr>\n",
              "      <th>1</th>\n",
              "      <td>2</td>\n",
              "      <td>GoldenEye (1995)</td>\n",
              "      <td>01-Jan-1995</td>\n",
              "      <td>NaN</td>\n",
              "      <td>http://us.imdb.com/M/title-exact?GoldenEye%20(1995)</td>\n",
              "      <td>0</td>\n",
              "      <td>1</td>\n",
              "      <td>1</td>\n",
              "      <td>0</td>\n",
              "      <td>0</td>\n",
              "      <td>0</td>\n",
              "      <td>0</td>\n",
              "      <td>0</td>\n",
              "      <td>0</td>\n",
              "      <td>0</td>\n",
              "      <td>0</td>\n",
              "      <td>0</td>\n",
              "      <td>0</td>\n",
              "      <td>0</td>\n",
              "      <td>0</td>\n",
              "      <td>0</td>\n",
              "      <td>1</td>\n",
              "      <td>0</td>\n",
              "      <td>0</td>\n",
              "    </tr>\n",
              "    <tr>\n",
              "      <th>2</th>\n",
              "      <td>3</td>\n",
              "      <td>Four Rooms (1995)</td>\n",
              "      <td>01-Jan-1995</td>\n",
              "      <td>NaN</td>\n",
              "      <td>http://us.imdb.com/M/title-exact?Four%20Rooms%20(1995)</td>\n",
              "      <td>0</td>\n",
              "      <td>0</td>\n",
              "      <td>0</td>\n",
              "      <td>0</td>\n",
              "      <td>0</td>\n",
              "      <td>0</td>\n",
              "      <td>0</td>\n",
              "      <td>0</td>\n",
              "      <td>0</td>\n",
              "      <td>0</td>\n",
              "      <td>0</td>\n",
              "      <td>0</td>\n",
              "      <td>0</td>\n",
              "      <td>0</td>\n",
              "      <td>0</td>\n",
              "      <td>0</td>\n",
              "      <td>1</td>\n",
              "      <td>0</td>\n",
              "      <td>0</td>\n",
              "    </tr>\n",
              "    <tr>\n",
              "      <th>3</th>\n",
              "      <td>4</td>\n",
              "      <td>Get Shorty (1995)</td>\n",
              "      <td>01-Jan-1995</td>\n",
              "      <td>NaN</td>\n",
              "      <td>http://us.imdb.com/M/title-exact?Get%20Shorty%20(1995)</td>\n",
              "      <td>0</td>\n",
              "      <td>1</td>\n",
              "      <td>0</td>\n",
              "      <td>0</td>\n",
              "      <td>0</td>\n",
              "      <td>1</td>\n",
              "      <td>0</td>\n",
              "      <td>0</td>\n",
              "      <td>1</td>\n",
              "      <td>0</td>\n",
              "      <td>0</td>\n",
              "      <td>0</td>\n",
              "      <td>0</td>\n",
              "      <td>0</td>\n",
              "      <td>0</td>\n",
              "      <td>0</td>\n",
              "      <td>0</td>\n",
              "      <td>0</td>\n",
              "      <td>0</td>\n",
              "    </tr>\n",
              "    <tr>\n",
              "      <th>4</th>\n",
              "      <td>5</td>\n",
              "      <td>Copycat (1995)</td>\n",
              "      <td>01-Jan-1995</td>\n",
              "      <td>NaN</td>\n",
              "      <td>http://us.imdb.com/M/title-exact?Copycat%20(1995)</td>\n",
              "      <td>0</td>\n",
              "      <td>0</td>\n",
              "      <td>0</td>\n",
              "      <td>0</td>\n",
              "      <td>0</td>\n",
              "      <td>0</td>\n",
              "      <td>1</td>\n",
              "      <td>0</td>\n",
              "      <td>1</td>\n",
              "      <td>0</td>\n",
              "      <td>0</td>\n",
              "      <td>0</td>\n",
              "      <td>0</td>\n",
              "      <td>0</td>\n",
              "      <td>0</td>\n",
              "      <td>0</td>\n",
              "      <td>1</td>\n",
              "      <td>0</td>\n",
              "      <td>0</td>\n",
              "    </tr>\n",
              "  </tbody>\n",
              "</table>\n",
              "</div>"
            ],
            "text/plain": [
              "   movie id        movie title release date  video release date  \\\n",
              "0         1   Toy Story (1995)  01-Jan-1995                 NaN   \n",
              "1         2   GoldenEye (1995)  01-Jan-1995                 NaN   \n",
              "2         3  Four Rooms (1995)  01-Jan-1995                 NaN   \n",
              "3         4  Get Shorty (1995)  01-Jan-1995                 NaN   \n",
              "4         5     Copycat (1995)  01-Jan-1995                 NaN   \n",
              "\n",
              "                                                 IMDb URL  unknown  Action  \\\n",
              "0   http://us.imdb.com/M/title-exact?Toy%20Story%20(1995)        0       0   \n",
              "1     http://us.imdb.com/M/title-exact?GoldenEye%20(1995)        0       1   \n",
              "2  http://us.imdb.com/M/title-exact?Four%20Rooms%20(1995)        0       0   \n",
              "3  http://us.imdb.com/M/title-exact?Get%20Shorty%20(1995)        0       1   \n",
              "4       http://us.imdb.com/M/title-exact?Copycat%20(1995)        0       0   \n",
              "\n",
              "   Adventure  Animation  Children's  Comedy  Crime  Documentary  Drama  \\\n",
              "0          0          1           1       1      0            0      0   \n",
              "1          1          0           0       0      0            0      0   \n",
              "2          0          0           0       0      0            0      0   \n",
              "3          0          0           0       1      0            0      1   \n",
              "4          0          0           0       0      1            0      1   \n",
              "\n",
              "   Fantasy  Film-Noir  Horror  Musical  Mystery  Romance  Sci-Fi  Thriller  \\\n",
              "0        0          0       0        0        0        0       0         0   \n",
              "1        0          0       0        0        0        0       0         1   \n",
              "2        0          0       0        0        0        0       0         1   \n",
              "3        0          0       0        0        0        0       0         0   \n",
              "4        0          0       0        0        0        0       0         1   \n",
              "\n",
              "   War  Western  \n",
              "0    0        0  \n",
              "1    0        0  \n",
              "2    0        0  \n",
              "3    0        0  \n",
              "4    0        0  "
            ]
          },
          "metadata": {
            "tags": []
          },
          "execution_count": 103
        }
      ]
    },
    {
      "cell_type": "code",
      "metadata": {
        "id": "b3pjl4NpYKIo",
        "outputId": "5a29501a-8dc6-4807-88c3-f2c77cbb2d1b",
        "colab": {
          "base_uri": "https://localhost:8080/",
          "height": 34
        }
      },
      "source": [
        "r_cols = ['user_id', 'movie_id', 'rating', 'unix_timestamp']\n",
        "ratings_train = pd.read_csv('ml-100k/ua.base', sep='\\t', names=r_cols, encoding='latin-1')\n",
        "ratings_test = pd.read_csv('ml-100k/ua.test', sep='\\t', names=r_cols, encoding='latin-1')\n",
        "ratings_train.shape, ratings_test.shape"
      ],
      "execution_count": null,
      "outputs": [
        {
          "output_type": "execute_result",
          "data": {
            "text/plain": [
              "((90570, 4), (9430, 4))"
            ]
          },
          "metadata": {
            "tags": []
          },
          "execution_count": 104
        }
      ]
    },
    {
      "cell_type": "code",
      "metadata": {
        "id": "LszT0d8AYTM5"
      },
      "source": [
        "n_users = ratings.user_id.unique().shape[0]\n",
        "n_items = ratings.movie_id.unique().shape[0]"
      ],
      "execution_count": null,
      "outputs": []
    },
    {
      "cell_type": "code",
      "metadata": {
        "id": "NlfYbPkGYa5i"
      },
      "source": [
        "data_matrix = np.zeros((n_users, n_items))\n",
        "for line in ratings.itertuples():\n",
        "    data_matrix[line[1]-1, line[2]-1] = line[3]"
      ],
      "execution_count": null,
      "outputs": []
    },
    {
      "cell_type": "code",
      "metadata": {
        "id": "-qeirvRQYeZm"
      },
      "source": [
        "from sklearn.metrics.pairwise import pairwise_distances \n",
        "user_similarity = pairwise_distances(data_matrix, metric='cosine')\n",
        "item_similarity = pairwise_distances(data_matrix.T, metric='cosine')"
      ],
      "execution_count": null,
      "outputs": []
    },
    {
      "cell_type": "code",
      "metadata": {
        "id": "S7XrDQQsYkdo"
      },
      "source": [
        "def predict(ratings, similarity, type='user'):\n",
        "    if type == 'user':\n",
        "        mean_user_rating = ratings.mean(axis=1)\n",
        "        #We use np.newaxis so that mean_user_rating has same format as ratings\n",
        "        ratings_diff = (ratings - mean_user_rating[:, np.newaxis])\n",
        "        pred = mean_user_rating[:, np.newaxis] + similarity.dot(ratings_diff) / np.array([np.abs(similarity).sum(axis=1)]).T\n",
        "    elif type == 'item':\n",
        "        pred = ratings.dot(similarity) / np.array([np.abs(similarity).sum(axis=1)])\n",
        "    return pred"
      ],
      "execution_count": null,
      "outputs": []
    },
    {
      "cell_type": "code",
      "metadata": {
        "id": "CbCJO8AMYqf5"
      },
      "source": [
        "#user similarity and item similarity\n",
        "user_prediction = predict(data_matrix, user_similarity, type='user')\n",
        "item_prediction = predict(data_matrix, item_similarity, type='item')"
      ],
      "execution_count": null,
      "outputs": []
    },
    {
      "cell_type": "code",
      "metadata": {
        "id": "MWXAUN10Yy8F"
      },
      "source": [
        "import turicreate\n",
        "train_data = turicreate.SFrame(ratings_train)\n",
        "test_data = turicreate.SFrame(ratings_test)"
      ],
      "execution_count": null,
      "outputs": []
    },
    {
      "cell_type": "code",
      "metadata": {
        "id": "xSW_-p1VY_xF",
        "outputId": "b0ea0bd7-6adb-4ceb-ee28-736250afb1a9",
        "colab": {
          "base_uri": "https://localhost:8080/",
          "height": 119
        }
      },
      "source": [
        "#ecommend movies based on the most popular choices\n",
        "popularity_model = turicreate.popularity_recommender.create(train_data, user_id='user_id', item_id='movie_id', target='rating')"
      ],
      "execution_count": null,
      "outputs": [
        {
          "output_type": "display_data",
          "data": {
            "text/html": [
              "<pre>Warning: Ignoring columns unix_timestamp;</pre>"
            ],
            "text/plain": [
              "Warning: Ignoring columns unix_timestamp;"
            ]
          },
          "metadata": {
            "tags": []
          }
        },
        {
          "output_type": "display_data",
          "data": {
            "text/html": [
              "<pre>    To use these columns in scoring predictions, use a model that allows the use of additional features.</pre>"
            ],
            "text/plain": [
              "    To use these columns in scoring predictions, use a model that allows the use of additional features."
            ]
          },
          "metadata": {
            "tags": []
          }
        },
        {
          "output_type": "display_data",
          "data": {
            "text/html": [
              "<pre>Preparing data set.</pre>"
            ],
            "text/plain": [
              "Preparing data set."
            ]
          },
          "metadata": {
            "tags": []
          }
        },
        {
          "output_type": "display_data",
          "data": {
            "text/html": [
              "<pre>    Data has 90570 observations with 943 users and 1680 items.</pre>"
            ],
            "text/plain": [
              "    Data has 90570 observations with 943 users and 1680 items."
            ]
          },
          "metadata": {
            "tags": []
          }
        },
        {
          "output_type": "display_data",
          "data": {
            "text/html": [
              "<pre>    Data prepared in: 0.101489s</pre>"
            ],
            "text/plain": [
              "    Data prepared in: 0.101489s"
            ]
          },
          "metadata": {
            "tags": []
          }
        },
        {
          "output_type": "display_data",
          "data": {
            "text/html": [
              "<pre>90570 observations to process; with 1680 unique items.</pre>"
            ],
            "text/plain": [
              "90570 observations to process; with 1680 unique items."
            ]
          },
          "metadata": {
            "tags": []
          }
        }
      ]
    },
    {
      "cell_type": "code",
      "metadata": {
        "id": "kzCbxT0CZL1e",
        "outputId": "566b6289-8073-42c0-92e5-28ec4a30dbe4",
        "colab": {
          "base_uri": "https://localhost:8080/",
          "height": 544
        }
      },
      "source": [
        "popularity_recomm = popularity_model.recommend(users=[1,2,3,4,5],k=5)\n",
        "popularity_recomm.print_rows(num_rows=25)"
      ],
      "execution_count": null,
      "outputs": [
        {
          "output_type": "stream",
          "text": [
            "+---------+----------+-------+------+\n",
            "| user_id | movie_id | score | rank |\n",
            "+---------+----------+-------+------+\n",
            "|    1    |   1599   |  5.0  |  1   |\n",
            "|    1    |   1201   |  5.0  |  2   |\n",
            "|    1    |   1189   |  5.0  |  3   |\n",
            "|    1    |   1122   |  5.0  |  4   |\n",
            "|    1    |   814    |  5.0  |  5   |\n",
            "|    2    |   1599   |  5.0  |  1   |\n",
            "|    2    |   1201   |  5.0  |  2   |\n",
            "|    2    |   1189   |  5.0  |  3   |\n",
            "|    2    |   1122   |  5.0  |  4   |\n",
            "|    2    |   814    |  5.0  |  5   |\n",
            "|    3    |   1599   |  5.0  |  1   |\n",
            "|    3    |   1201   |  5.0  |  2   |\n",
            "|    3    |   1189   |  5.0  |  3   |\n",
            "|    3    |   1122   |  5.0  |  4   |\n",
            "|    3    |   814    |  5.0  |  5   |\n",
            "|    4    |   1599   |  5.0  |  1   |\n",
            "|    4    |   1201   |  5.0  |  2   |\n",
            "|    4    |   1189   |  5.0  |  3   |\n",
            "|    4    |   1122   |  5.0  |  4   |\n",
            "|    4    |   814    |  5.0  |  5   |\n",
            "|    5    |   1599   |  5.0  |  1   |\n",
            "|    5    |   1201   |  5.0  |  2   |\n",
            "|    5    |   1189   |  5.0  |  3   |\n",
            "|    5    |   1122   |  5.0  |  4   |\n",
            "|    5    |   814    |  5.0  |  5   |\n",
            "+---------+----------+-------+------+\n",
            "[25 rows x 4 columns]\n",
            "\n"
          ],
          "name": "stdout"
        }
      ]
    },
    {
      "cell_type": "code",
      "metadata": {
        "id": "2sXHd-rlZSut",
        "outputId": "b666f06f-eac0-4ee8-8605-4af0ad4979c3",
        "colab": {
          "base_uri": "https://localhost:8080/",
          "height": 935
        }
      },
      "source": [
        "#collaborative filtering model\n",
        "#Training the model\n",
        "item_sim_model = turicreate.item_similarity_recommender.create(train_data, user_id='user_id', item_id='movie_id', target='rating', similarity_type='cosine')\n",
        "\n",
        "#Making recommendations\n",
        "item_sim_recomm = item_sim_model.recommend(users=[1,2,3,4,5],k=5)\n",
        "item_sim_recomm.print_rows(num_rows=25)"
      ],
      "execution_count": null,
      "outputs": [
        {
          "output_type": "display_data",
          "data": {
            "text/html": [
              "<pre>Warning: Ignoring columns unix_timestamp;</pre>"
            ],
            "text/plain": [
              "Warning: Ignoring columns unix_timestamp;"
            ]
          },
          "metadata": {
            "tags": []
          }
        },
        {
          "output_type": "display_data",
          "data": {
            "text/html": [
              "<pre>    To use these columns in scoring predictions, use a model that allows the use of additional features.</pre>"
            ],
            "text/plain": [
              "    To use these columns in scoring predictions, use a model that allows the use of additional features."
            ]
          },
          "metadata": {
            "tags": []
          }
        },
        {
          "output_type": "display_data",
          "data": {
            "text/html": [
              "<pre>Preparing data set.</pre>"
            ],
            "text/plain": [
              "Preparing data set."
            ]
          },
          "metadata": {
            "tags": []
          }
        },
        {
          "output_type": "display_data",
          "data": {
            "text/html": [
              "<pre>    Data has 90570 observations with 943 users and 1680 items.</pre>"
            ],
            "text/plain": [
              "    Data has 90570 observations with 943 users and 1680 items."
            ]
          },
          "metadata": {
            "tags": []
          }
        },
        {
          "output_type": "display_data",
          "data": {
            "text/html": [
              "<pre>    Data prepared in: 0.107519s</pre>"
            ],
            "text/plain": [
              "    Data prepared in: 0.107519s"
            ]
          },
          "metadata": {
            "tags": []
          }
        },
        {
          "output_type": "display_data",
          "data": {
            "text/html": [
              "<pre>Training model from provided data.</pre>"
            ],
            "text/plain": [
              "Training model from provided data."
            ]
          },
          "metadata": {
            "tags": []
          }
        },
        {
          "output_type": "display_data",
          "data": {
            "text/html": [
              "<pre>Gathering per-item and per-user statistics.</pre>"
            ],
            "text/plain": [
              "Gathering per-item and per-user statistics."
            ]
          },
          "metadata": {
            "tags": []
          }
        },
        {
          "output_type": "display_data",
          "data": {
            "text/html": [
              "<pre>+--------------------------------+------------+</pre>"
            ],
            "text/plain": [
              "+--------------------------------+------------+"
            ]
          },
          "metadata": {
            "tags": []
          }
        },
        {
          "output_type": "display_data",
          "data": {
            "text/html": [
              "<pre>| Elapsed Time (Item Statistics) | % Complete |</pre>"
            ],
            "text/plain": [
              "| Elapsed Time (Item Statistics) | % Complete |"
            ]
          },
          "metadata": {
            "tags": []
          }
        },
        {
          "output_type": "display_data",
          "data": {
            "text/html": [
              "<pre>+--------------------------------+------------+</pre>"
            ],
            "text/plain": [
              "+--------------------------------+------------+"
            ]
          },
          "metadata": {
            "tags": []
          }
        },
        {
          "output_type": "display_data",
          "data": {
            "text/html": [
              "<pre>| 9.774ms                        | 100        |</pre>"
            ],
            "text/plain": [
              "| 9.774ms                        | 100        |"
            ]
          },
          "metadata": {
            "tags": []
          }
        },
        {
          "output_type": "display_data",
          "data": {
            "text/html": [
              "<pre>+--------------------------------+------------+</pre>"
            ],
            "text/plain": [
              "+--------------------------------+------------+"
            ]
          },
          "metadata": {
            "tags": []
          }
        },
        {
          "output_type": "display_data",
          "data": {
            "text/html": [
              "<pre>Setting up lookup tables.</pre>"
            ],
            "text/plain": [
              "Setting up lookup tables."
            ]
          },
          "metadata": {
            "tags": []
          }
        },
        {
          "output_type": "display_data",
          "data": {
            "text/html": [
              "<pre>Processing data in one pass using dense lookup tables.</pre>"
            ],
            "text/plain": [
              "Processing data in one pass using dense lookup tables."
            ]
          },
          "metadata": {
            "tags": []
          }
        },
        {
          "output_type": "display_data",
          "data": {
            "text/html": [
              "<pre>+-------------------------------------+------------------+-----------------+</pre>"
            ],
            "text/plain": [
              "+-------------------------------------+------------------+-----------------+"
            ]
          },
          "metadata": {
            "tags": []
          }
        },
        {
          "output_type": "display_data",
          "data": {
            "text/html": [
              "<pre>| Elapsed Time (Constructing Lookups) | Total % Complete | Items Processed |</pre>"
            ],
            "text/plain": [
              "| Elapsed Time (Constructing Lookups) | Total % Complete | Items Processed |"
            ]
          },
          "metadata": {
            "tags": []
          }
        },
        {
          "output_type": "display_data",
          "data": {
            "text/html": [
              "<pre>+-------------------------------------+------------------+-----------------+</pre>"
            ],
            "text/plain": [
              "+-------------------------------------+------------------+-----------------+"
            ]
          },
          "metadata": {
            "tags": []
          }
        },
        {
          "output_type": "display_data",
          "data": {
            "text/html": [
              "<pre>| 16.016ms                            | 0.25             | 6               |</pre>"
            ],
            "text/plain": [
              "| 16.016ms                            | 0.25             | 6               |"
            ]
          },
          "metadata": {
            "tags": []
          }
        },
        {
          "output_type": "display_data",
          "data": {
            "text/html": [
              "<pre>| 248.896ms                           | 100              | 1680            |</pre>"
            ],
            "text/plain": [
              "| 248.896ms                           | 100              | 1680            |"
            ]
          },
          "metadata": {
            "tags": []
          }
        },
        {
          "output_type": "display_data",
          "data": {
            "text/html": [
              "<pre>+-------------------------------------+------------------+-----------------+</pre>"
            ],
            "text/plain": [
              "+-------------------------------------+------------------+-----------------+"
            ]
          },
          "metadata": {
            "tags": []
          }
        },
        {
          "output_type": "display_data",
          "data": {
            "text/html": [
              "<pre>Finalizing lookup tables.</pre>"
            ],
            "text/plain": [
              "Finalizing lookup tables."
            ]
          },
          "metadata": {
            "tags": []
          }
        },
        {
          "output_type": "display_data",
          "data": {
            "text/html": [
              "<pre>Generating candidate set for working with new users.</pre>"
            ],
            "text/plain": [
              "Generating candidate set for working with new users."
            ]
          },
          "metadata": {
            "tags": []
          }
        },
        {
          "output_type": "display_data",
          "data": {
            "text/html": [
              "<pre>Finished training in 0.268776s</pre>"
            ],
            "text/plain": [
              "Finished training in 0.268776s"
            ]
          },
          "metadata": {
            "tags": []
          }
        },
        {
          "output_type": "stream",
          "text": [
            "+---------+----------+--------------------+------+\n",
            "| user_id | movie_id |       score        | rank |\n",
            "+---------+----------+--------------------+------+\n",
            "|    1    |   423    | 0.9834008066708805 |  1   |\n",
            "|    1    |   202    | 0.9495907992352056 |  2   |\n",
            "|    1    |   655    | 0.7962183331260244 |  3   |\n",
            "|    1    |   403    | 0.765623665037956  |  4   |\n",
            "|    1    |   568    | 0.7511795292828829 |  5   |\n",
            "|    2    |    50    | 1.1256258487701416 |  1   |\n",
            "|    2    |   181    | 1.0651773168490484 |  2   |\n",
            "|    2    |    7     | 0.9998190838557023 |  3   |\n",
            "|    2    |   121    |  0.94162796323116  |  4   |\n",
            "|    2    |    9     | 0.831989913032605  |  5   |\n",
            "|    3    |   313    | 0.6353766620159149 |  1   |\n",
            "|    3    |   328    | 0.6032880300825293 |  2   |\n",
            "|    3    |   315    | 0.5422587123784152 |  3   |\n",
            "|    3    |   331    | 0.5355071858926252 |  4   |\n",
            "|    3    |   332    | 0.5316696112806146 |  5   |\n",
            "|    4    |    50    | 1.1311477082116264 |  1   |\n",
            "|    4    |   288    | 1.0487151145935059 |  2   |\n",
            "|    4    |   181    | 0.9505999386310577 |  3   |\n",
            "|    4    |    7     |  0.9417778807027   |  4   |\n",
            "|    4    |   302    | 0.9139021464756557 |  5   |\n",
            "|    5    |   195    | 1.0228408159631672 |  1   |\n",
            "|    5    |   202    | 0.9236282410043659 |  2   |\n",
            "|    5    |    56    | 0.8583718372113777 |  3   |\n",
            "|    5    |    82    | 0.7802995082103845 |  4   |\n",
            "|    5    |    96    | 0.7468249353495511 |  5   |\n",
            "+---------+----------+--------------------+------+\n",
            "[25 rows x 4 columns]\n",
            "\n"
          ],
          "name": "stdout"
        }
      ]
    },
    {
      "cell_type": "code",
      "metadata": {
        "id": "EV0AwGr-ZgpH"
      },
      "source": [
        "#recommendation engine on metrix vectorisation\n",
        "class MF():\n",
        "\n",
        "    # Initializing the user-movie rating matrix, no. of latent features, alpha and beta.\n",
        "    def __init__(self, R, K, alpha, beta, iterations):\n",
        "        self.R = R\n",
        "        self.num_users, self.num_items = R.shape\n",
        "        self.K = K\n",
        "        self.alpha = alpha\n",
        "        self.beta = beta\n",
        "        self.iterations = iterations\n",
        "\n",
        "    # Initializing user-feature and movie-feature matrix \n",
        "    def train(self):\n",
        "        self.P = np.random.normal(scale=1./self.K, size=(self.num_users, self.K))\n",
        "        self.Q = np.random.normal(scale=1./self.K, size=(self.num_items, self.K))\n",
        "\n",
        "        # Initializing the bias terms\n",
        "        self.b_u = np.zeros(self.num_users)\n",
        "        self.b_i = np.zeros(self.num_items)\n",
        "        self.b = np.mean(self.R[np.where(self.R != 0)])\n",
        "\n",
        "        # List of training samples\n",
        "        self.samples = [\n",
        "        (i, j, self.R[i, j])\n",
        "        for i in range(self.num_users)\n",
        "        for j in range(self.num_items)\n",
        "        if self.R[i, j] > 0\n",
        "        ]\n",
        "\n",
        "        # Stochastic gradient descent for given number of iterations\n",
        "        training_process = []\n",
        "        for i in range(self.iterations):\n",
        "          np.random.shuffle(self.samples)\n",
        "        self.sgd()\n",
        "        mse = self.mse()\n",
        "        training_process.append((i, mse))\n",
        "        if (i+1) % 20 == 0:\n",
        "            print(\"Iteration: %d ; error = %.4f\" % (i+1, mse))\n",
        "\n",
        "        return training_process\n",
        "\n",
        "    # Computing total mean squared error\n",
        "    def mse(self):\n",
        "        xs, ys = self.R.nonzero()\n",
        "        predicted = self.full_matrix()\n",
        "        error = 0\n",
        "        for x, y in zip(xs, ys):\n",
        "            error += pow(self.R[x, y] - predicted[x, y], 2)\n",
        "        return np.sqrt(error)\n",
        "\n",
        "    # Stochastic gradient descent to get optimized P and Q matrix\n",
        "    def sgd(self):\n",
        "        for i, j, r in self.samples:\n",
        "            prediction = self.get_rating(i, j)\n",
        "            e = (r - prediction)\n",
        "\n",
        "            self.b_u[i] += self.alpha * (e - self.beta * self.b_u[i])\n",
        "            self.b_i[j] += self.alpha * (e - self.beta * self.b_i[j])\n",
        "\n",
        "            self.P[i, :] += self.alpha * (e * self.Q[j, :] - self.beta * self.P[i,:])\n",
        "            self.Q[j, :] += self.alpha * (e * self.P[i, :] - self.beta * self.Q[j,:])\n",
        "\n",
        "    # Ratings for user i and moive j\n",
        "    def get_rating(self, i, j):\n",
        "        prediction = self.b + self.b_u[i] + self.b_i[j] + self.P[i, :].dot(self.Q[j, :].T)\n",
        "        return prediction\n",
        "\n",
        "    # Full user-movie rating matrix\n",
        "    def full_matrix(self):\n",
        "        return mf.b + mf.b_u[:,np.newaxis] + mf.b_i[np.newaxis:,] + mf.P.dot(mf.Q.T)"
      ],
      "execution_count": null,
      "outputs": []
    },
    {
      "cell_type": "code",
      "metadata": {
        "id": "S858N17faOJq"
      },
      "source": [
        "R= np.array(ratings.pivot(index = 'user_id', columns ='movie_id', values = 'rating').fillna(0))"
      ],
      "execution_count": null,
      "outputs": []
    },
    {
      "cell_type": "code",
      "metadata": {
        "id": "kvmuXeifaUf0",
        "outputId": "6faea637-12de-45fa-c582-86f02ab16b3b",
        "colab": {
          "base_uri": "https://localhost:8080/",
          "height": 204
        }
      },
      "source": [
        "mf = MF(R, K=20, alpha=0.001, beta=0.01, iterations=100)\n",
        "training_process = mf.train()\n",
        "print()\n",
        "print(\"P x Q:\")\n",
        "print(mf.full_matrix())\n",
        "print()"
      ],
      "execution_count": null,
      "outputs": [
        {
          "output_type": "stream",
          "text": [
            "Iteration: 100 ; error = 337.5855\n",
            "\n",
            "P x Q:\n",
            "[[3.65133077 3.52401923 3.51252207 ... 3.54379215 3.55599969 3.54781038]\n",
            " [3.67691178 3.50590972 3.4939558  ... 3.50880768 3.55021271 3.54720527]\n",
            " [3.61289982 3.45863198 3.44459084 ... 3.47966431 3.48929323 3.49181881]\n",
            " ...\n",
            " [3.65369294 3.5139047  3.49732689 ... 3.54367061 3.53989932 3.5356316 ]\n",
            " [3.6893527  3.54928291 3.52983519 ... 3.5762677  3.58861682 3.58467701]\n",
            " [3.63396286 3.47003806 3.48001052 ... 3.51279414 3.51494096 3.51092996]]\n",
            "\n"
          ],
          "name": "stdout"
        }
      ]
    },
    {
      "cell_type": "code",
      "metadata": {
        "id": "nMoAs9dmbsyK"
      },
      "source": [
        "load_cache_extract_datafile(\"lastfm-dataset-360K.tar\", \"lastfm-dataset-360K\", \"https://www.dtic.upf.edu/~ocelma/MusicRecommendationDataset/index.html\")"
      ],
      "execution_count": null,
      "outputs": []
    },
    {
      "cell_type": "code",
      "metadata": {
        "id": "obnlxiwmdZZp"
      },
      "source": [
        "import tarfile\n",
        "tf = tarfile.open(\"lastfm-dataset-360K.tar\")\n",
        "tf.extractall()\n"
      ],
      "execution_count": null,
      "outputs": []
    },
    {
      "cell_type": "code",
      "metadata": {
        "id": "YveiU1yogROt"
      },
      "source": [
        "import pandas as pd\n",
        "import numpy as np\n",
        "from scipy.sparse import csr_matrix\n",
        "\n",
        "# display results to 3 decimal points, not in scientific notation\n",
        "pd.set_option('display.float_format', lambda x: '%.3f' % x)"
      ],
      "execution_count": null,
      "outputs": []
    },
    {
      "cell_type": "code",
      "metadata": {
        "id": "deZ51CvSgbpD"
      },
      "source": [
        "user_data = pd.read_table('usersha1-artmbid-artname-plays.tsv',\n",
        "                          header = None, nrows = 2e7,\n",
        "                          names = ['users', 'musicbrainz-artist-id', 'artist-name', 'plays'],\n",
        "                          usecols = ['users', 'artist-name', 'plays'])\n",
        "user_profiles = pd.read_table('usersha1-profile.tsv',\n",
        "                          header = None,\n",
        "                          names = ['users', 'gender', 'age', 'country', 'signup'],\n",
        "                          usecols = ['users', 'country'])"
      ],
      "execution_count": null,
      "outputs": []
    },
    {
      "cell_type": "code",
      "metadata": {
        "id": "kpX-mbYBgqWW"
      },
      "source": [
        "if user_data['artist-name'].isnull().sum() > 0:\n",
        "    user_data = user_data.dropna(axis = 0, subset = ['artist-name'])"
      ],
      "execution_count": null,
      "outputs": []
    },
    {
      "cell_type": "code",
      "metadata": {
        "id": "z1Ja68YEgrzF",
        "outputId": "081005f1-330b-4d5b-dcd9-5ea930e2928a",
        "colab": {
          "base_uri": "https://localhost:8080/",
          "height": 204
        }
      },
      "source": [
        "artist_plays = (user_data.\n",
        "     groupby(by = ['artist-name'])['plays'].\n",
        "     sum().\n",
        "     reset_index().\n",
        "     rename(columns = {'plays': 'total_artist_plays'})\n",
        "     [['artist-name', 'total_artist_plays']]\n",
        "    )\n",
        "artist_plays.head()"
      ],
      "execution_count": null,
      "outputs": [
        {
          "output_type": "execute_result",
          "data": {
            "text/html": [
              "<div>\n",
              "<style scoped>\n",
              "    .dataframe tbody tr th:only-of-type {\n",
              "        vertical-align: middle;\n",
              "    }\n",
              "\n",
              "    .dataframe tbody tr th {\n",
              "        vertical-align: top;\n",
              "    }\n",
              "\n",
              "    .dataframe thead th {\n",
              "        text-align: right;\n",
              "    }\n",
              "</style>\n",
              "<table border=\"1\" class=\"dataframe\">\n",
              "  <thead>\n",
              "    <tr style=\"text-align: right;\">\n",
              "      <th></th>\n",
              "      <th>artist-name</th>\n",
              "      <th>total_artist_plays</th>\n",
              "    </tr>\n",
              "  </thead>\n",
              "  <tbody>\n",
              "    <tr>\n",
              "      <th>0</th>\n",
              "      <td>!!!</td>\n",
              "      <td>5802.000</td>\n",
              "    </tr>\n",
              "    <tr>\n",
              "      <th>1</th>\n",
              "      <td>!deladap</td>\n",
              "      <td>193.000</td>\n",
              "    </tr>\n",
              "    <tr>\n",
              "      <th>2</th>\n",
              "      <td>#####</td>\n",
              "      <td>5141.000</td>\n",
              "    </tr>\n",
              "    <tr>\n",
              "      <th>3</th>\n",
              "      <td>#1</td>\n",
              "      <td>155.000</td>\n",
              "    </tr>\n",
              "    <tr>\n",
              "      <th>4</th>\n",
              "      <td>$100</td>\n",
              "      <td>75.000</td>\n",
              "    </tr>\n",
              "  </tbody>\n",
              "</table>\n",
              "</div>"
            ],
            "text/plain": [
              "  artist-name  total_artist_plays\n",
              "0         !!!            5802.000\n",
              "1    !deladap             193.000\n",
              "2       #####            5141.000\n",
              "3          #1             155.000\n",
              "4        $100              75.000"
            ]
          },
          "metadata": {
            "tags": []
          },
          "execution_count": 137
        }
      ]
    },
    {
      "cell_type": "code",
      "metadata": {
        "id": "Abo_9tRegxAC",
        "outputId": "924a178b-edfe-4c9a-c940-908c4c84c540",
        "colab": {
          "base_uri": "https://localhost:8080/",
          "height": 204
        }
      },
      "source": [
        "user_data_with_artist_plays = user_data.merge(artist_plays, left_on = 'artist-name', right_on = 'artist-name', how = 'left')\n",
        "user_data_with_artist_plays.head()"
      ],
      "execution_count": null,
      "outputs": [
        {
          "output_type": "execute_result",
          "data": {
            "text/html": [
              "<div>\n",
              "<style scoped>\n",
              "    .dataframe tbody tr th:only-of-type {\n",
              "        vertical-align: middle;\n",
              "    }\n",
              "\n",
              "    .dataframe tbody tr th {\n",
              "        vertical-align: top;\n",
              "    }\n",
              "\n",
              "    .dataframe thead th {\n",
              "        text-align: right;\n",
              "    }\n",
              "</style>\n",
              "<table border=\"1\" class=\"dataframe\">\n",
              "  <thead>\n",
              "    <tr style=\"text-align: right;\">\n",
              "      <th></th>\n",
              "      <th>users</th>\n",
              "      <th>artist-name</th>\n",
              "      <th>plays</th>\n",
              "      <th>total_artist_plays</th>\n",
              "    </tr>\n",
              "  </thead>\n",
              "  <tbody>\n",
              "    <tr>\n",
              "      <th>0</th>\n",
              "      <td>00000c289a1829a808ac09c00daf10bc3c4e223b</td>\n",
              "      <td>betty blowtorch</td>\n",
              "      <td>2137.000</td>\n",
              "      <td>2220.000</td>\n",
              "    </tr>\n",
              "    <tr>\n",
              "      <th>1</th>\n",
              "      <td>00000c289a1829a808ac09c00daf10bc3c4e223b</td>\n",
              "      <td>die Ärzte</td>\n",
              "      <td>1099.000</td>\n",
              "      <td>42304.000</td>\n",
              "    </tr>\n",
              "    <tr>\n",
              "      <th>2</th>\n",
              "      <td>00000c289a1829a808ac09c00daf10bc3c4e223b</td>\n",
              "      <td>melissa etheridge</td>\n",
              "      <td>897.000</td>\n",
              "      <td>1572.000</td>\n",
              "    </tr>\n",
              "    <tr>\n",
              "      <th>3</th>\n",
              "      <td>00000c289a1829a808ac09c00daf10bc3c4e223b</td>\n",
              "      <td>elvenking</td>\n",
              "      <td>717.000</td>\n",
              "      <td>5503.000</td>\n",
              "    </tr>\n",
              "    <tr>\n",
              "      <th>4</th>\n",
              "      <td>00000c289a1829a808ac09c00daf10bc3c4e223b</td>\n",
              "      <td>juliette &amp; the licks</td>\n",
              "      <td>706.000</td>\n",
              "      <td>2906.000</td>\n",
              "    </tr>\n",
              "  </tbody>\n",
              "</table>\n",
              "</div>"
            ],
            "text/plain": [
              "                                      users           artist-name    plays  \\\n",
              "0  00000c289a1829a808ac09c00daf10bc3c4e223b       betty blowtorch 2137.000   \n",
              "1  00000c289a1829a808ac09c00daf10bc3c4e223b             die Ärzte 1099.000   \n",
              "2  00000c289a1829a808ac09c00daf10bc3c4e223b     melissa etheridge  897.000   \n",
              "3  00000c289a1829a808ac09c00daf10bc3c4e223b             elvenking  717.000   \n",
              "4  00000c289a1829a808ac09c00daf10bc3c4e223b  juliette & the licks  706.000   \n",
              "\n",
              "   total_artist_plays  \n",
              "0            2220.000  \n",
              "1           42304.000  \n",
              "2            1572.000  \n",
              "3            5503.000  \n",
              "4            2906.000  "
            ]
          },
          "metadata": {
            "tags": []
          },
          "execution_count": 138
        }
      ]
    },
    {
      "cell_type": "code",
      "metadata": {
        "id": "qVNvbVLMg1j1"
      },
      "source": [
        "print artist_plays['total_artist_plays'].describe()"
      ],
      "execution_count": null,
      "outputs": []
    },
    {
      "cell_type": "code",
      "metadata": {
        "id": "V7HAMTmIhaxe"
      },
      "source": [
        "print artist_plays['total_artist_plays'].quantile(np.arange(.9, 1, .01)), "
      ],
      "execution_count": null,
      "outputs": []
    },
    {
      "cell_type": "code",
      "metadata": {
        "id": "k8OjO5Ndhmvn",
        "outputId": "1c20b467-22f7-4121-a2a9-609e0e5c9113",
        "colab": {
          "base_uri": "https://localhost:8080/",
          "height": 204
        }
      },
      "source": [
        "popularity_threshold = 40000\n",
        "user_data_popular_artists = user_data_with_artist_plays.query('total_artist_plays >= @popularity_threshold')\n",
        "user_data_popular_artists.head()"
      ],
      "execution_count": null,
      "outputs": [
        {
          "output_type": "execute_result",
          "data": {
            "text/html": [
              "<div>\n",
              "<style scoped>\n",
              "    .dataframe tbody tr th:only-of-type {\n",
              "        vertical-align: middle;\n",
              "    }\n",
              "\n",
              "    .dataframe tbody tr th {\n",
              "        vertical-align: top;\n",
              "    }\n",
              "\n",
              "    .dataframe thead th {\n",
              "        text-align: right;\n",
              "    }\n",
              "</style>\n",
              "<table border=\"1\" class=\"dataframe\">\n",
              "  <thead>\n",
              "    <tr style=\"text-align: right;\">\n",
              "      <th></th>\n",
              "      <th>users</th>\n",
              "      <th>artist-name</th>\n",
              "      <th>plays</th>\n",
              "      <th>total_artist_plays</th>\n",
              "    </tr>\n",
              "  </thead>\n",
              "  <tbody>\n",
              "    <tr>\n",
              "      <th>1</th>\n",
              "      <td>00000c289a1829a808ac09c00daf10bc3c4e223b</td>\n",
              "      <td>die Ärzte</td>\n",
              "      <td>1099.000</td>\n",
              "      <td>42304.000</td>\n",
              "    </tr>\n",
              "    <tr>\n",
              "      <th>5</th>\n",
              "      <td>00000c289a1829a808ac09c00daf10bc3c4e223b</td>\n",
              "      <td>red hot chili peppers</td>\n",
              "      <td>691.000</td>\n",
              "      <td>133910.000</td>\n",
              "    </tr>\n",
              "    <tr>\n",
              "      <th>24</th>\n",
              "      <td>00000c289a1829a808ac09c00daf10bc3c4e223b</td>\n",
              "      <td>jack johnson</td>\n",
              "      <td>227.000</td>\n",
              "      <td>78363.000</td>\n",
              "    </tr>\n",
              "    <tr>\n",
              "      <th>28</th>\n",
              "      <td>00000c289a1829a808ac09c00daf10bc3c4e223b</td>\n",
              "      <td>the killers</td>\n",
              "      <td>208.000</td>\n",
              "      <td>98650.000</td>\n",
              "    </tr>\n",
              "    <tr>\n",
              "      <th>35</th>\n",
              "      <td>00000c289a1829a808ac09c00daf10bc3c4e223b</td>\n",
              "      <td>john mayer</td>\n",
              "      <td>182.000</td>\n",
              "      <td>43216.000</td>\n",
              "    </tr>\n",
              "  </tbody>\n",
              "</table>\n",
              "</div>"
            ],
            "text/plain": [
              "                                       users            artist-name    plays  \\\n",
              "1   00000c289a1829a808ac09c00daf10bc3c4e223b              die Ärzte 1099.000   \n",
              "5   00000c289a1829a808ac09c00daf10bc3c4e223b  red hot chili peppers  691.000   \n",
              "24  00000c289a1829a808ac09c00daf10bc3c4e223b           jack johnson  227.000   \n",
              "28  00000c289a1829a808ac09c00daf10bc3c4e223b            the killers  208.000   \n",
              "35  00000c289a1829a808ac09c00daf10bc3c4e223b             john mayer  182.000   \n",
              "\n",
              "    total_artist_plays  \n",
              "1            42304.000  \n",
              "5           133910.000  \n",
              "24           78363.000  \n",
              "28           98650.000  \n",
              "35           43216.000  "
            ]
          },
          "metadata": {
            "tags": []
          },
          "execution_count": 141
        }
      ]
    },
    {
      "cell_type": "code",
      "metadata": {
        "id": "hSHQZwzchZuU",
        "outputId": "1176fc8e-c84a-48c7-85a1-c34771ea08cb",
        "colab": {
          "base_uri": "https://localhost:8080/",
          "height": 204
        }
      },
      "source": [
        "combined = user_data_popular_artists.merge(user_profiles, left_on = 'users', right_on = 'users', how = 'left')\n",
        "usa_data = combined.query('country == \\'United States\\'')\n",
        "usa_data.head()"
      ],
      "execution_count": null,
      "outputs": [
        {
          "output_type": "execute_result",
          "data": {
            "text/html": [
              "<div>\n",
              "<style scoped>\n",
              "    .dataframe tbody tr th:only-of-type {\n",
              "        vertical-align: middle;\n",
              "    }\n",
              "\n",
              "    .dataframe tbody tr th {\n",
              "        vertical-align: top;\n",
              "    }\n",
              "\n",
              "    .dataframe thead th {\n",
              "        text-align: right;\n",
              "    }\n",
              "</style>\n",
              "<table border=\"1\" class=\"dataframe\">\n",
              "  <thead>\n",
              "    <tr style=\"text-align: right;\">\n",
              "      <th></th>\n",
              "      <th>users</th>\n",
              "      <th>artist-name</th>\n",
              "      <th>plays</th>\n",
              "      <th>total_artist_plays</th>\n",
              "      <th>country</th>\n",
              "    </tr>\n",
              "  </thead>\n",
              "  <tbody>\n",
              "    <tr>\n",
              "      <th>20</th>\n",
              "      <td>00007a47085b9aab8af55f52ec8846ac479ac4fe</td>\n",
              "      <td>boards of canada</td>\n",
              "      <td>407.000</td>\n",
              "      <td>67516.000</td>\n",
              "      <td>United States</td>\n",
              "    </tr>\n",
              "    <tr>\n",
              "      <th>21</th>\n",
              "      <td>00007a47085b9aab8af55f52ec8846ac479ac4fe</td>\n",
              "      <td>aphex twin</td>\n",
              "      <td>213.000</td>\n",
              "      <td>47487.000</td>\n",
              "      <td>United States</td>\n",
              "    </tr>\n",
              "    <tr>\n",
              "      <th>22</th>\n",
              "      <td>00007a47085b9aab8af55f52ec8846ac479ac4fe</td>\n",
              "      <td>animal collective</td>\n",
              "      <td>203.000</td>\n",
              "      <td>40932.000</td>\n",
              "      <td>United States</td>\n",
              "    </tr>\n",
              "    <tr>\n",
              "      <th>23</th>\n",
              "      <td>00007a47085b9aab8af55f52ec8846ac479ac4fe</td>\n",
              "      <td>air</td>\n",
              "      <td>178.000</td>\n",
              "      <td>67218.000</td>\n",
              "      <td>United States</td>\n",
              "    </tr>\n",
              "    <tr>\n",
              "      <th>24</th>\n",
              "      <td>00007a47085b9aab8af55f52ec8846ac479ac4fe</td>\n",
              "      <td>portishead</td>\n",
              "      <td>162.000</td>\n",
              "      <td>59781.000</td>\n",
              "      <td>United States</td>\n",
              "    </tr>\n",
              "  </tbody>\n",
              "</table>\n",
              "</div>"
            ],
            "text/plain": [
              "                                       users        artist-name   plays  \\\n",
              "20  00007a47085b9aab8af55f52ec8846ac479ac4fe   boards of canada 407.000   \n",
              "21  00007a47085b9aab8af55f52ec8846ac479ac4fe         aphex twin 213.000   \n",
              "22  00007a47085b9aab8af55f52ec8846ac479ac4fe  animal collective 203.000   \n",
              "23  00007a47085b9aab8af55f52ec8846ac479ac4fe                air 178.000   \n",
              "24  00007a47085b9aab8af55f52ec8846ac479ac4fe         portishead 162.000   \n",
              "\n",
              "    total_artist_plays        country  \n",
              "20           67516.000  United States  \n",
              "21           47487.000  United States  \n",
              "22           40932.000  United States  \n",
              "23           67218.000  United States  \n",
              "24           59781.000  United States  "
            ]
          },
          "metadata": {
            "tags": []
          },
          "execution_count": 142
        }
      ]
    },
    {
      "cell_type": "code",
      "metadata": {
        "id": "yjhJOGYPhx5r"
      },
      "source": [
        "if not usa_data[usa_data.duplicated(['users', 'artist-name'])].empty:\n",
        "    initial_rows = usa_data.shape[0]\n",
        "\n",
        "    print (\"Initial dataframe shape {0}\".format(usa_data.shape))\n",
        "    usa_data = usa_data.drop_duplicates(['users', 'artist-name'])\n",
        "    current_rows = usa_data.shape[0]\n",
        "    print (\"New dataframe shape {0}\".format(usa_data.shape))\n",
        "    print (\"Removed {0} rows\".format(initial_rows - current_rows))\n"
      ],
      "execution_count": null,
      "outputs": []
    },
    {
      "cell_type": "code",
      "metadata": {
        "id": "GDVF9p0th_0-"
      },
      "source": [
        "wide_artist_data = usa_data.pivot(index = 'artist-name', columns = 'users', values = 'plays').fillna(0)\n",
        "wide_artist_data_sparse = csr_matrix(wide_artist_data.values)"
      ],
      "execution_count": null,
      "outputs": []
    },
    {
      "cell_type": "code",
      "metadata": {
        "id": "szPeN9bEiDxC",
        "outputId": "6e67f071-41cf-428b-c55f-d779ad57a7d2",
        "colab": {
          "base_uri": "https://localhost:8080/",
          "height": 51
        }
      },
      "source": [
        "from sklearn.neighbors import NearestNeighbors\n",
        "\n",
        "model_knn = NearestNeighbors(metric = 'cosine', algorithm = 'brute')\n",
        "model_knn.fit(wide_artist_data_sparse)"
      ],
      "execution_count": null,
      "outputs": [
        {
          "output_type": "execute_result",
          "data": {
            "text/plain": [
              "NearestNeighbors(algorithm='brute', leaf_size=30, metric='cosine',\n",
              "         metric_params=None, n_jobs=None, n_neighbors=5, p=2, radius=1.0)"
            ]
          },
          "metadata": {
            "tags": []
          },
          "execution_count": 155
        }
      ]
    },
    {
      "cell_type": "code",
      "metadata": {
        "id": "z6iLztoziJCa"
      },
      "source": [
        "query_index = np.random.choice(wide_data.shape[0])\n",
        "distances, indices = model_knn.kneighbors(wide_artist_data.iloc[query_index, :].reshape(1, -1), n_neighbors = 6)\n",
        "\n",
        "for i in range(0, len(distances.flatten())):\n",
        "    if i == 0:\n",
        "        print (\"Recommendations for {0}:\\n\".format(wide_artist_data.index[query_index]))\n",
        "    else:\n",
        "        print (\"{0}: {1}, with distance of {2}:\".format(i, wide_artist_data.index[indices.flatten()[i]], distances.flatten()[i]))"
      ],
      "execution_count": null,
      "outputs": []
    },
    {
      "cell_type": "code",
      "metadata": {
        "id": "dTE7Z0wPlbHo"
      },
      "source": [
        "!pip install fuzzywuzzy[speedup]"
      ],
      "execution_count": null,
      "outputs": []
    },
    {
      "cell_type": "code",
      "metadata": {
        "id": "L_1nQRICkYxS"
      },
      "source": [
        "\n",
        "from fuzzywuzzy import fuzz\n",
        "\n",
        "def print_artist_recommendations(query_artist, artist_plays_matrix, knn_model, k):\n",
        "    \"\"\"\n",
        "    Inputs:\n",
        "    query_artist: query artist name\n",
        "    artist_plays_matrix: artist play count dataframe (not the sparse one, the pandas dataframe)\n",
        "    knn_model: our previously fitted sklearn knn model\n",
        "    k: the number of nearest neighbors.\n",
        "    \n",
        "    Prints: Artist recommendations for the query artist\n",
        "    Returns: None\n",
        "    \"\"\"\n",
        "    query_index = None\n",
        "    ratio_tuples = []\n",
        "    \n",
        "    for i in artist_plays_matrix.index:\n",
        "        ratio = fuzz.ratio(i.lower(), query_artist.lower())\n",
        "        if ratio >= 75:\n",
        "            current_query_index = artist_plays_matrix.index.tolist().index(i)\n",
        "            ratio_tuples.append((i, ratio, current_query_index))\n",
        "    \n",
        "    print (\"Possible matches: {0}\\n\".format([(x[0], x[1]) for x in ratio_tuples]))\n",
        "    \n",
        "    try:\n",
        "        query_index = max(ratio_tuples, key = lambda x: x[1])[2] # get the index of the best artist match in the data\n",
        "    except:\n",
        "        print (\"Your artist didnt match any artists in the data. Try again\")\n",
        "        return None\n",
        "    \n",
        "    distances, indices = knn_model.kneighbors(artist_plays_matrix.iloc[query_index, :].reshape(1, -1), n_neighbors = k + 1)\n",
        "\n",
        "    for i in range(0, len(distances.flatten())):\n",
        "        if i == 0:\n",
        "            print (\"Recommendations for {0}:\\n\".format(artist_plays_matrix.index[query_index]))\n",
        "        else:\n",
        "            print (\"{0}: {1}, with distance of {2}:\".format(i, artist_plays_matrix.index[indices.flatten()[i]], distances.flatten()[i]))\n",
        "\n",
        "    return None"
      ],
      "execution_count": null,
      "outputs": []
    },
    {
      "cell_type": "code",
      "metadata": {
        "id": "B7Z45jEhmo9i"
      },
      "source": [
        "print_artist_recommendations('red hot chili peppers', wide_artist_data_zero_one, model_nn_binary, k = 10)"
      ],
      "execution_count": null,
      "outputs": []
    },
    {
      "cell_type": "code",
      "metadata": {
        "id": "zaPdwNcKmsB9"
      },
      "source": [
        "print_artist_recommendations('arctic monkeys', wide_artist_data_zero_one, model_nn_binary, k = 10)"
      ],
      "execution_count": null,
      "outputs": []
    }
  ]
}