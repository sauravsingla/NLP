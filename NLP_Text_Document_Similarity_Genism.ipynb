{
  "nbformat": 4,
  "nbformat_minor": 0,
  "metadata": {
    "colab": {
      "name": "NLP_Text_Document_Similarity_Genism.ipynb",
      "provenance": [],
      "collapsed_sections": [],
      "include_colab_link": true
    },
    "kernelspec": {
      "name": "python3",
      "display_name": "Python 3"
    },
    "accelerator": "GPU"
  },
  "cells": [
    {
      "cell_type": "markdown",
      "metadata": {
        "id": "view-in-github",
        "colab_type": "text"
      },
      "source": [
        "<a href=\"https://colab.research.google.com/github/sauravsingla/NLP/blob/master/NLP_Text_Document_Similarity_Genism.ipynb\" target=\"_parent\"><img src=\"https://colab.research.google.com/assets/colab-badge.svg\" alt=\"Open In Colab\"/></a>"
      ]
    },
    {
      "cell_type": "code",
      "metadata": {
        "id": "QC3KHSc2D8Fs",
        "outputId": "c94b9909-f508-456c-82c3-26524acfdeeb",
        "colab": {
          "base_uri": "https://localhost:8080/",
          "height": 241
        }
      },
      "source": [
        "import pandas as pd\n",
        "import numpy as np\n",
        "\n",
        "df = pd.read_table('restaurant-test.csv',\n",
        "                    nrows= 1000,\n",
        "                    sep=r'/,,,,,,+/',\n",
        "                    names = ['review'],\n",
        "                    header = None,\n",
        "                    engine = 'python')\n",
        "print(df.review[0])\n",
        "df.head()"
      ],
      "execution_count": null,
      "outputs": [
        {
          "output_type": "stream",
          "text": [
            "My son just loves this place.  Weird that he'd ask to come here everytime we go grocery shopping (bribe) and not even care to go to Toys R Us.  Not complaining.   I'm not into little knick knacks, but they have quite a selection on little travel toys, educational materials for kids and holiday stuff.  I bought a couple of red bows with brass jingles on it and wreaths to put on my porch lights for $4!   Why is it that it's so cheap, but you can end up spending $50?,,,,,,,,,,,,,,,,,,,,,,,,,,,,,,,,,,,,,,,,,,,,,,,,,,,,,,,,,,,,,,,,,,,,,\n"
          ],
          "name": "stdout"
        },
        {
          "output_type": "execute_result",
          "data": {
            "text/html": [
              "<div>\n",
              "<style scoped>\n",
              "    .dataframe tbody tr th:only-of-type {\n",
              "        vertical-align: middle;\n",
              "    }\n",
              "\n",
              "    .dataframe tbody tr th {\n",
              "        vertical-align: top;\n",
              "    }\n",
              "\n",
              "    .dataframe thead th {\n",
              "        text-align: right;\n",
              "    }\n",
              "</style>\n",
              "<table border=\"1\" class=\"dataframe\">\n",
              "  <thead>\n",
              "    <tr style=\"text-align: right;\">\n",
              "      <th></th>\n",
              "      <th>review</th>\n",
              "    </tr>\n",
              "  </thead>\n",
              "  <tbody>\n",
              "    <tr>\n",
              "      <th>0</th>\n",
              "      <td>My son just loves this place.  Weird that he'd...</td>\n",
              "    </tr>\n",
              "    <tr>\n",
              "      <th>1</th>\n",
              "      <td>\"We gave it a 9, so we will make that 5-, 4,5 ...</td>\n",
              "    </tr>\n",
              "    <tr>\n",
              "      <th>2</th>\n",
              "      <td>After three lunch visits I've come to the conc...</td>\n",
              "    </tr>\n",
              "    <tr>\n",
              "      <th>3</th>\n",
              "      <td>\"What started out as a simple attempt to find ...</td>\n",
              "    </tr>\n",
              "    <tr>\n",
              "      <th>4</th>\n",
              "      <td>If they had a Culver's on every street corner,...</td>\n",
              "    </tr>\n",
              "  </tbody>\n",
              "</table>\n",
              "</div>"
            ],
            "text/plain": [
              "                                              review\n",
              "0  My son just loves this place.  Weird that he'd...\n",
              "1  \"We gave it a 9, so we will make that 5-, 4,5 ...\n",
              "2  After three lunch visits I've come to the conc...\n",
              "3  \"What started out as a simple attempt to find ...\n",
              "4  If they had a Culver's on every street corner,..."
            ]
          },
          "metadata": {
            "tags": []
          },
          "execution_count": 1
        }
      ]
    },
    {
      "cell_type": "code",
      "metadata": {
        "id": "2VJEISOJ1Eko",
        "outputId": "ccd6cfb8-db20-40cf-a89d-9e8ae6c9f0ca",
        "colab": {
          "base_uri": "https://localhost:8080/",
          "height": 204
        }
      },
      "source": [
        "#import string library to identify punctuation and the translate, maketrans ability\n",
        "#This eliminates the punctuation\n",
        "\n",
        "import string\n",
        "\n",
        "def remove_punctuation(text):\n",
        "  return text.translate(text.maketrans(\"\", \"\", string.punctuation))\n",
        "\n",
        "df['review'] = df['review'].apply(lambda val: remove_punctuation(val))\n",
        "df.head()"
      ],
      "execution_count": null,
      "outputs": [
        {
          "output_type": "execute_result",
          "data": {
            "text/html": [
              "<div>\n",
              "<style scoped>\n",
              "    .dataframe tbody tr th:only-of-type {\n",
              "        vertical-align: middle;\n",
              "    }\n",
              "\n",
              "    .dataframe tbody tr th {\n",
              "        vertical-align: top;\n",
              "    }\n",
              "\n",
              "    .dataframe thead th {\n",
              "        text-align: right;\n",
              "    }\n",
              "</style>\n",
              "<table border=\"1\" class=\"dataframe\">\n",
              "  <thead>\n",
              "    <tr style=\"text-align: right;\">\n",
              "      <th></th>\n",
              "      <th>review</th>\n",
              "    </tr>\n",
              "  </thead>\n",
              "  <tbody>\n",
              "    <tr>\n",
              "      <th>0</th>\n",
              "      <td>My son just loves this place  Weird that hed a...</td>\n",
              "    </tr>\n",
              "    <tr>\n",
              "      <th>1</th>\n",
              "      <td>We gave it a 9 so we will make that 5 45 stars...</td>\n",
              "    </tr>\n",
              "    <tr>\n",
              "      <th>2</th>\n",
              "      <td>After three lunch visits Ive come to the concl...</td>\n",
              "    </tr>\n",
              "    <tr>\n",
              "      <th>3</th>\n",
              "      <td>What started out as a simple attempt to find a...</td>\n",
              "    </tr>\n",
              "    <tr>\n",
              "      <th>4</th>\n",
              "      <td>If they had a Culvers on every street corner t...</td>\n",
              "    </tr>\n",
              "  </tbody>\n",
              "</table>\n",
              "</div>"
            ],
            "text/plain": [
              "                                              review\n",
              "0  My son just loves this place  Weird that hed a...\n",
              "1  We gave it a 9 so we will make that 5 45 stars...\n",
              "2  After three lunch visits Ive come to the concl...\n",
              "3  What started out as a simple attempt to find a...\n",
              "4  If they had a Culvers on every street corner t..."
            ]
          },
          "metadata": {
            "tags": []
          },
          "execution_count": 2
        }
      ]
    },
    {
      "cell_type": "code",
      "metadata": {
        "id": "t-ObE5Z61USM",
        "outputId": "30b105ab-e8b5-49f4-dd36-02cd9a3f12bc",
        "colab": {
          "base_uri": "https://localhost:8080/",
          "height": 238
        }
      },
      "source": [
        "#impot nltk to tokenize the text, this splits each sentence to individual strings\n",
        "#that will allow us to later indentify common words and remove them.\n",
        "import nltk\n",
        "nltk.download('punkt')\n",
        "\n",
        "def tokenize_me(sentence):\n",
        "  tokens = nltk.word_tokenize(sentence)\n",
        "  return tokens\n",
        "  \n",
        "df['review'] = df['review'].apply(lambda val: tokenize_me(val))\n",
        "\n",
        "df.head()"
      ],
      "execution_count": null,
      "outputs": [
        {
          "output_type": "stream",
          "text": [
            "[nltk_data] Downloading package punkt to /root/nltk_data...\n",
            "[nltk_data]   Unzipping tokenizers/punkt.zip.\n"
          ],
          "name": "stdout"
        },
        {
          "output_type": "execute_result",
          "data": {
            "text/html": [
              "<div>\n",
              "<style scoped>\n",
              "    .dataframe tbody tr th:only-of-type {\n",
              "        vertical-align: middle;\n",
              "    }\n",
              "\n",
              "    .dataframe tbody tr th {\n",
              "        vertical-align: top;\n",
              "    }\n",
              "\n",
              "    .dataframe thead th {\n",
              "        text-align: right;\n",
              "    }\n",
              "</style>\n",
              "<table border=\"1\" class=\"dataframe\">\n",
              "  <thead>\n",
              "    <tr style=\"text-align: right;\">\n",
              "      <th></th>\n",
              "      <th>review</th>\n",
              "    </tr>\n",
              "  </thead>\n",
              "  <tbody>\n",
              "    <tr>\n",
              "      <th>0</th>\n",
              "      <td>[My, son, just, loves, this, place, Weird, tha...</td>\n",
              "    </tr>\n",
              "    <tr>\n",
              "      <th>1</th>\n",
              "      <td>[We, gave, it, a, 9, so, we, will, make, that,...</td>\n",
              "    </tr>\n",
              "    <tr>\n",
              "      <th>2</th>\n",
              "      <td>[After, three, lunch, visits, Ive, come, to, t...</td>\n",
              "    </tr>\n",
              "    <tr>\n",
              "      <th>3</th>\n",
              "      <td>[What, started, out, as, a, simple, attempt, t...</td>\n",
              "    </tr>\n",
              "    <tr>\n",
              "      <th>4</th>\n",
              "      <td>[If, they, had, a, Culvers, on, every, street,...</td>\n",
              "    </tr>\n",
              "  </tbody>\n",
              "</table>\n",
              "</div>"
            ],
            "text/plain": [
              "                                              review\n",
              "0  [My, son, just, loves, this, place, Weird, tha...\n",
              "1  [We, gave, it, a, 9, so, we, will, make, that,...\n",
              "2  [After, three, lunch, visits, Ive, come, to, t...\n",
              "3  [What, started, out, as, a, simple, attempt, t...\n",
              "4  [If, they, had, a, Culvers, on, every, street,..."
            ]
          },
          "metadata": {
            "tags": []
          },
          "execution_count": 3
        }
      ]
    },
    {
      "cell_type": "code",
      "metadata": {
        "id": "-EzpSQpI2lo2",
        "outputId": "e9179f45-7175-4bf9-a785-9004e7a70126",
        "colab": {
          "base_uri": "https://localhost:8080/",
          "height": 238
        }
      },
      "source": [
        "#Now get rid of stopwords\n",
        "\n",
        "nltk.download('stopwords')\n",
        "stop_words = set(nltk.corpus.stopwords.words('english'))\n",
        "\n",
        "\n",
        "def filter_stop_words(tokens):\n",
        "  filtered_tokens=[]\n",
        "  for w in tokens:\n",
        "    if w not in stop_words:\n",
        "      filtered_tokens.append(w)\n",
        "  return filtered_tokens\n",
        "\n",
        "df['review'] = df['review'].apply(lambda val: filter_stop_words(val))\n",
        "\n",
        "df.head()"
      ],
      "execution_count": null,
      "outputs": [
        {
          "output_type": "stream",
          "text": [
            "[nltk_data] Downloading package stopwords to /root/nltk_data...\n",
            "[nltk_data]   Unzipping corpora/stopwords.zip.\n"
          ],
          "name": "stdout"
        },
        {
          "output_type": "execute_result",
          "data": {
            "text/html": [
              "<div>\n",
              "<style scoped>\n",
              "    .dataframe tbody tr th:only-of-type {\n",
              "        vertical-align: middle;\n",
              "    }\n",
              "\n",
              "    .dataframe tbody tr th {\n",
              "        vertical-align: top;\n",
              "    }\n",
              "\n",
              "    .dataframe thead th {\n",
              "        text-align: right;\n",
              "    }\n",
              "</style>\n",
              "<table border=\"1\" class=\"dataframe\">\n",
              "  <thead>\n",
              "    <tr style=\"text-align: right;\">\n",
              "      <th></th>\n",
              "      <th>review</th>\n",
              "    </tr>\n",
              "  </thead>\n",
              "  <tbody>\n",
              "    <tr>\n",
              "      <th>0</th>\n",
              "      <td>[My, son, loves, place, Weird, hed, ask, come,...</td>\n",
              "    </tr>\n",
              "    <tr>\n",
              "      <th>1</th>\n",
              "      <td>[We, gave, 9, make, 5, 45, stars, n, To, start...</td>\n",
              "    </tr>\n",
              "    <tr>\n",
              "      <th>2</th>\n",
              "      <td>[After, three, lunch, visits, Ive, come, concl...</td>\n",
              "    </tr>\n",
              "    <tr>\n",
              "      <th>3</th>\n",
              "      <td>[What, started, simple, attempt, find, perfect...</td>\n",
              "    </tr>\n",
              "    <tr>\n",
              "      <th>4</th>\n",
              "      <td>[If, Culvers, every, street, corner, cardiolog...</td>\n",
              "    </tr>\n",
              "  </tbody>\n",
              "</table>\n",
              "</div>"
            ],
            "text/plain": [
              "                                              review\n",
              "0  [My, son, loves, place, Weird, hed, ask, come,...\n",
              "1  [We, gave, 9, make, 5, 45, stars, n, To, start...\n",
              "2  [After, three, lunch, visits, Ive, come, concl...\n",
              "3  [What, started, simple, attempt, find, perfect...\n",
              "4  [If, Culvers, every, street, corner, cardiolog..."
            ]
          },
          "metadata": {
            "tags": []
          },
          "execution_count": 4
        }
      ]
    },
    {
      "cell_type": "code",
      "metadata": {
        "id": "YZN8MD9Z25C2",
        "outputId": "a581cc12-1d2e-4156-c485-1854712f28a4",
        "colab": {
          "base_uri": "https://localhost:8080/",
          "height": 204
        }
      },
      "source": [
        "from nltk.stem.snowball import SnowballStemmer\n",
        "\n",
        "snowball_stemmer = SnowballStemmer('english')\n",
        "\n",
        "def stem_it(array):\n",
        "  changed_array = []\n",
        "  for w in array:\n",
        "    new_w = snowball_stemmer.stem(w)\n",
        "    changed_array.append(new_w)\n",
        "  return changed_array\n",
        "\n",
        "df_stemmed = df.copy()\n",
        "df_stemmed['review'] = df_stemmed['review'].apply(lambda val: stem_it(val))\n",
        "\n",
        "df_stemmed.head()"
      ],
      "execution_count": null,
      "outputs": [
        {
          "output_type": "execute_result",
          "data": {
            "text/html": [
              "<div>\n",
              "<style scoped>\n",
              "    .dataframe tbody tr th:only-of-type {\n",
              "        vertical-align: middle;\n",
              "    }\n",
              "\n",
              "    .dataframe tbody tr th {\n",
              "        vertical-align: top;\n",
              "    }\n",
              "\n",
              "    .dataframe thead th {\n",
              "        text-align: right;\n",
              "    }\n",
              "</style>\n",
              "<table border=\"1\" class=\"dataframe\">\n",
              "  <thead>\n",
              "    <tr style=\"text-align: right;\">\n",
              "      <th></th>\n",
              "      <th>review</th>\n",
              "    </tr>\n",
              "  </thead>\n",
              "  <tbody>\n",
              "    <tr>\n",
              "      <th>0</th>\n",
              "      <td>[my, son, love, place, weird, hed, ask, come, ...</td>\n",
              "    </tr>\n",
              "    <tr>\n",
              "      <th>1</th>\n",
              "      <td>[we, gave, 9, make, 5, 45, star, n, to, start,...</td>\n",
              "    </tr>\n",
              "    <tr>\n",
              "      <th>2</th>\n",
              "      <td>[after, three, lunch, visit, ive, come, conclu...</td>\n",
              "    </tr>\n",
              "    <tr>\n",
              "      <th>3</th>\n",
              "      <td>[what, start, simpl, attempt, find, perfect, b...</td>\n",
              "    </tr>\n",
              "    <tr>\n",
              "      <th>4</th>\n",
              "      <td>[if, culver, everi, street, corner, cardiologi...</td>\n",
              "    </tr>\n",
              "  </tbody>\n",
              "</table>\n",
              "</div>"
            ],
            "text/plain": [
              "                                              review\n",
              "0  [my, son, love, place, weird, hed, ask, come, ...\n",
              "1  [we, gave, 9, make, 5, 45, star, n, to, start,...\n",
              "2  [after, three, lunch, visit, ive, come, conclu...\n",
              "3  [what, start, simpl, attempt, find, perfect, b...\n",
              "4  [if, culver, everi, street, corner, cardiologi..."
            ]
          },
          "metadata": {
            "tags": []
          },
          "execution_count": 5
        }
      ]
    },
    {
      "cell_type": "code",
      "metadata": {
        "id": "a47JZfq47S84",
        "outputId": "d1190bd8-46e6-4569-cb83-fe219558c61d",
        "colab": {
          "base_uri": "https://localhost:8080/",
          "height": 233
        }
      },
      "source": [
        "#To do this we will need sklearn's Count Vectorizer\n",
        "\n",
        "from sklearn.feature_extraction.text import CountVectorizer\n",
        "\n",
        "#we'll also need to reconnect the tokens into strings and put them into a list\n",
        "corpus = df_stemmed['review'].apply(lambda val: ' '.join(val))\n",
        "\n",
        "#we'll restrict the number of max features to 1000\n",
        "count_vectorizer= CountVectorizer(max_features=1000)\n",
        "\n",
        "#fit_transform the corpus and make it into an array\n",
        "counts = count_vectorizer.fit_transform(corpus).toarray()\n",
        "\n",
        "# change the array into a pandas dataframe\n",
        "counts_df = pd.DataFrame(counts)\n",
        "\n",
        "#set the names of the columns to the words, otherwise it'll be numbers\n",
        "counts_df.columns = count_vectorizer.get_feature_names()\n",
        "\n",
        "#show matrix\n",
        "counts_df.head()"
      ],
      "execution_count": null,
      "outputs": [
        {
          "output_type": "execute_result",
          "data": {
            "text/html": [
              "<div>\n",
              "<style scoped>\n",
              "    .dataframe tbody tr th:only-of-type {\n",
              "        vertical-align: middle;\n",
              "    }\n",
              "\n",
              "    .dataframe tbody tr th {\n",
              "        vertical-align: top;\n",
              "    }\n",
              "\n",
              "    .dataframe thead th {\n",
              "        text-align: right;\n",
              "    }\n",
              "</style>\n",
              "<table border=\"1\" class=\"dataframe\">\n",
              "  <thead>\n",
              "    <tr style=\"text-align: right;\">\n",
              "      <th></th>\n",
              "      <th>10</th>\n",
              "      <th>100</th>\n",
              "      <th>12</th>\n",
              "      <th>15</th>\n",
              "      <th>20</th>\n",
              "      <th>25</th>\n",
              "      <th>30</th>\n",
              "      <th>35</th>\n",
              "      <th>50</th>\n",
              "      <th>abl</th>\n",
              "      <th>...</th>\n",
              "      <th>yes</th>\n",
              "      <th>yesterday</th>\n",
              "      <th>yet</th>\n",
              "      <th>yogurt</th>\n",
              "      <th>you</th>\n",
              "      <th>youll</th>\n",
              "      <th>young</th>\n",
              "      <th>your</th>\n",
              "      <th>yum</th>\n",
              "      <th>yummi</th>\n",
              "    </tr>\n",
              "  </thead>\n",
              "  <tbody>\n",
              "    <tr>\n",
              "      <th>0</th>\n",
              "      <td>0</td>\n",
              "      <td>0</td>\n",
              "      <td>0</td>\n",
              "      <td>0</td>\n",
              "      <td>0</td>\n",
              "      <td>0</td>\n",
              "      <td>0</td>\n",
              "      <td>0</td>\n",
              "      <td>1</td>\n",
              "      <td>0</td>\n",
              "      <td>...</td>\n",
              "      <td>0</td>\n",
              "      <td>0</td>\n",
              "      <td>0</td>\n",
              "      <td>0</td>\n",
              "      <td>0</td>\n",
              "      <td>0</td>\n",
              "      <td>0</td>\n",
              "      <td>0</td>\n",
              "      <td>0</td>\n",
              "      <td>0</td>\n",
              "    </tr>\n",
              "    <tr>\n",
              "      <th>1</th>\n",
              "      <td>0</td>\n",
              "      <td>0</td>\n",
              "      <td>0</td>\n",
              "      <td>0</td>\n",
              "      <td>0</td>\n",
              "      <td>0</td>\n",
              "      <td>0</td>\n",
              "      <td>0</td>\n",
              "      <td>0</td>\n",
              "      <td>0</td>\n",
              "      <td>...</td>\n",
              "      <td>0</td>\n",
              "      <td>0</td>\n",
              "      <td>0</td>\n",
              "      <td>0</td>\n",
              "      <td>0</td>\n",
              "      <td>0</td>\n",
              "      <td>0</td>\n",
              "      <td>0</td>\n",
              "      <td>0</td>\n",
              "      <td>0</td>\n",
              "    </tr>\n",
              "    <tr>\n",
              "      <th>2</th>\n",
              "      <td>0</td>\n",
              "      <td>0</td>\n",
              "      <td>0</td>\n",
              "      <td>0</td>\n",
              "      <td>0</td>\n",
              "      <td>0</td>\n",
              "      <td>0</td>\n",
              "      <td>0</td>\n",
              "      <td>0</td>\n",
              "      <td>0</td>\n",
              "      <td>...</td>\n",
              "      <td>0</td>\n",
              "      <td>0</td>\n",
              "      <td>0</td>\n",
              "      <td>0</td>\n",
              "      <td>0</td>\n",
              "      <td>1</td>\n",
              "      <td>0</td>\n",
              "      <td>0</td>\n",
              "      <td>0</td>\n",
              "      <td>0</td>\n",
              "    </tr>\n",
              "    <tr>\n",
              "      <th>3</th>\n",
              "      <td>0</td>\n",
              "      <td>0</td>\n",
              "      <td>0</td>\n",
              "      <td>0</td>\n",
              "      <td>0</td>\n",
              "      <td>0</td>\n",
              "      <td>0</td>\n",
              "      <td>0</td>\n",
              "      <td>0</td>\n",
              "      <td>0</td>\n",
              "      <td>...</td>\n",
              "      <td>0</td>\n",
              "      <td>0</td>\n",
              "      <td>0</td>\n",
              "      <td>0</td>\n",
              "      <td>1</td>\n",
              "      <td>0</td>\n",
              "      <td>0</td>\n",
              "      <td>0</td>\n",
              "      <td>0</td>\n",
              "      <td>0</td>\n",
              "    </tr>\n",
              "    <tr>\n",
              "      <th>4</th>\n",
              "      <td>0</td>\n",
              "      <td>0</td>\n",
              "      <td>0</td>\n",
              "      <td>1</td>\n",
              "      <td>0</td>\n",
              "      <td>0</td>\n",
              "      <td>1</td>\n",
              "      <td>0</td>\n",
              "      <td>0</td>\n",
              "      <td>0</td>\n",
              "      <td>...</td>\n",
              "      <td>0</td>\n",
              "      <td>0</td>\n",
              "      <td>0</td>\n",
              "      <td>0</td>\n",
              "      <td>0</td>\n",
              "      <td>0</td>\n",
              "      <td>0</td>\n",
              "      <td>0</td>\n",
              "      <td>0</td>\n",
              "      <td>0</td>\n",
              "    </tr>\n",
              "  </tbody>\n",
              "</table>\n",
              "<p>5 rows × 1000 columns</p>\n",
              "</div>"
            ],
            "text/plain": [
              "   10  100  12  15  20  25  30  35  50  abl  ...    yes  yesterday  yet  \\\n",
              "0   0    0   0   0   0   0   0   0   1    0  ...      0          0    0   \n",
              "1   0    0   0   0   0   0   0   0   0    0  ...      0          0    0   \n",
              "2   0    0   0   0   0   0   0   0   0    0  ...      0          0    0   \n",
              "3   0    0   0   0   0   0   0   0   0    0  ...      0          0    0   \n",
              "4   0    0   0   1   0   0   1   0   0    0  ...      0          0    0   \n",
              "\n",
              "   yogurt  you  youll  young  your  yum  yummi  \n",
              "0       0    0      0      0     0    0      0  \n",
              "1       0    0      0      0     0    0      0  \n",
              "2       0    0      1      0     0    0      0  \n",
              "3       0    1      0      0     0    0      0  \n",
              "4       0    0      0      0     0    0      0  \n",
              "\n",
              "[5 rows x 1000 columns]"
            ]
          },
          "metadata": {
            "tags": []
          },
          "execution_count": 6
        }
      ]
    },
    {
      "cell_type": "code",
      "metadata": {
        "id": "p2uLo90V7TdN",
        "outputId": "cca51061-06bc-4fdc-be14-0dab536599e4",
        "colab": {
          "base_uri": "https://localhost:8080/",
          "height": 270
        }
      },
      "source": [
        "# we'll use CountVectorizer again but now specify the ngram_range\n",
        "\n",
        "bigram_vectorizer = CountVectorizer(ngram_range =(2,2), max_features = 1000)\n",
        "bigram_matrix = bigram_vectorizer.fit_transform(corpus).toarray()\n",
        "\n",
        "bigram_df = pd.DataFrame(bigram_matrix)\n",
        "bigram_df.columns = bigram_vectorizer.get_feature_names()\n",
        "\n",
        "bigram_df.head()"
      ],
      "execution_count": null,
      "outputs": [
        {
          "output_type": "execute_result",
          "data": {
            "text/html": [
              "<div>\n",
              "<style scoped>\n",
              "    .dataframe tbody tr th:only-of-type {\n",
              "        vertical-align: middle;\n",
              "    }\n",
              "\n",
              "    .dataframe tbody tr th {\n",
              "        vertical-align: top;\n",
              "    }\n",
              "\n",
              "    .dataframe thead th {\n",
              "        text-align: right;\n",
              "    }\n",
              "</style>\n",
              "<table border=\"1\" class=\"dataframe\">\n",
              "  <thead>\n",
              "    <tr style=\"text-align: right;\">\n",
              "      <th></th>\n",
              "      <th>10 minut</th>\n",
              "      <th>15 minut</th>\n",
              "      <th>20 minut</th>\n",
              "      <th>30 minut</th>\n",
              "      <th>40 minut</th>\n",
              "      <th>45 minut</th>\n",
              "      <th>absolut favorit</th>\n",
              "      <th>absolut love</th>\n",
              "      <th>across street</th>\n",
              "      <th>advanc health</th>\n",
              "      <th>...</th>\n",
              "      <th>write review</th>\n",
              "      <th>year ago</th>\n",
              "      <th>year old</th>\n",
              "      <th>yelp review</th>\n",
              "      <th>you cant</th>\n",
              "      <th>you could</th>\n",
              "      <th>you get</th>\n",
              "      <th>youll find</th>\n",
              "      <th>your go</th>\n",
              "      <th>your look</th>\n",
              "    </tr>\n",
              "  </thead>\n",
              "  <tbody>\n",
              "    <tr>\n",
              "      <th>0</th>\n",
              "      <td>0</td>\n",
              "      <td>0</td>\n",
              "      <td>0</td>\n",
              "      <td>0</td>\n",
              "      <td>0</td>\n",
              "      <td>0</td>\n",
              "      <td>0</td>\n",
              "      <td>0</td>\n",
              "      <td>0</td>\n",
              "      <td>0</td>\n",
              "      <td>...</td>\n",
              "      <td>0</td>\n",
              "      <td>0</td>\n",
              "      <td>0</td>\n",
              "      <td>0</td>\n",
              "      <td>0</td>\n",
              "      <td>0</td>\n",
              "      <td>0</td>\n",
              "      <td>0</td>\n",
              "      <td>0</td>\n",
              "      <td>0</td>\n",
              "    </tr>\n",
              "    <tr>\n",
              "      <th>1</th>\n",
              "      <td>0</td>\n",
              "      <td>0</td>\n",
              "      <td>0</td>\n",
              "      <td>0</td>\n",
              "      <td>0</td>\n",
              "      <td>0</td>\n",
              "      <td>0</td>\n",
              "      <td>0</td>\n",
              "      <td>0</td>\n",
              "      <td>0</td>\n",
              "      <td>...</td>\n",
              "      <td>0</td>\n",
              "      <td>0</td>\n",
              "      <td>0</td>\n",
              "      <td>0</td>\n",
              "      <td>0</td>\n",
              "      <td>0</td>\n",
              "      <td>0</td>\n",
              "      <td>0</td>\n",
              "      <td>0</td>\n",
              "      <td>0</td>\n",
              "    </tr>\n",
              "    <tr>\n",
              "      <th>2</th>\n",
              "      <td>0</td>\n",
              "      <td>0</td>\n",
              "      <td>0</td>\n",
              "      <td>0</td>\n",
              "      <td>0</td>\n",
              "      <td>0</td>\n",
              "      <td>0</td>\n",
              "      <td>0</td>\n",
              "      <td>0</td>\n",
              "      <td>0</td>\n",
              "      <td>...</td>\n",
              "      <td>0</td>\n",
              "      <td>0</td>\n",
              "      <td>0</td>\n",
              "      <td>0</td>\n",
              "      <td>0</td>\n",
              "      <td>0</td>\n",
              "      <td>0</td>\n",
              "      <td>0</td>\n",
              "      <td>0</td>\n",
              "      <td>0</td>\n",
              "    </tr>\n",
              "    <tr>\n",
              "      <th>3</th>\n",
              "      <td>0</td>\n",
              "      <td>0</td>\n",
              "      <td>0</td>\n",
              "      <td>0</td>\n",
              "      <td>0</td>\n",
              "      <td>0</td>\n",
              "      <td>0</td>\n",
              "      <td>1</td>\n",
              "      <td>0</td>\n",
              "      <td>0</td>\n",
              "      <td>...</td>\n",
              "      <td>0</td>\n",
              "      <td>0</td>\n",
              "      <td>0</td>\n",
              "      <td>0</td>\n",
              "      <td>0</td>\n",
              "      <td>0</td>\n",
              "      <td>0</td>\n",
              "      <td>0</td>\n",
              "      <td>0</td>\n",
              "      <td>0</td>\n",
              "    </tr>\n",
              "    <tr>\n",
              "      <th>4</th>\n",
              "      <td>0</td>\n",
              "      <td>0</td>\n",
              "      <td>0</td>\n",
              "      <td>0</td>\n",
              "      <td>0</td>\n",
              "      <td>0</td>\n",
              "      <td>0</td>\n",
              "      <td>0</td>\n",
              "      <td>0</td>\n",
              "      <td>0</td>\n",
              "      <td>...</td>\n",
              "      <td>0</td>\n",
              "      <td>0</td>\n",
              "      <td>0</td>\n",
              "      <td>0</td>\n",
              "      <td>0</td>\n",
              "      <td>0</td>\n",
              "      <td>0</td>\n",
              "      <td>0</td>\n",
              "      <td>0</td>\n",
              "      <td>0</td>\n",
              "    </tr>\n",
              "  </tbody>\n",
              "</table>\n",
              "<p>5 rows × 1000 columns</p>\n",
              "</div>"
            ],
            "text/plain": [
              "   10 minut  15 minut  20 minut  30 minut  40 minut  45 minut  \\\n",
              "0         0         0         0         0         0         0   \n",
              "1         0         0         0         0         0         0   \n",
              "2         0         0         0         0         0         0   \n",
              "3         0         0         0         0         0         0   \n",
              "4         0         0         0         0         0         0   \n",
              "\n",
              "   absolut favorit  absolut love  across street  advanc health    ...      \\\n",
              "0                0             0              0              0    ...       \n",
              "1                0             0              0              0    ...       \n",
              "2                0             0              0              0    ...       \n",
              "3                0             1              0              0    ...       \n",
              "4                0             0              0              0    ...       \n",
              "\n",
              "   write review  year ago  year old  yelp review  you cant  you could  \\\n",
              "0             0         0         0            0         0          0   \n",
              "1             0         0         0            0         0          0   \n",
              "2             0         0         0            0         0          0   \n",
              "3             0         0         0            0         0          0   \n",
              "4             0         0         0            0         0          0   \n",
              "\n",
              "   you get  youll find  your go  your look  \n",
              "0        0           0        0          0  \n",
              "1        0           0        0          0  \n",
              "2        0           0        0          0  \n",
              "3        0           0        0          0  \n",
              "4        0           0        0          0  \n",
              "\n",
              "[5 rows x 1000 columns]"
            ]
          },
          "metadata": {
            "tags": []
          },
          "execution_count": 7
        }
      ]
    },
    {
      "cell_type": "code",
      "metadata": {
        "id": "nK0JQ1VG7TsV",
        "outputId": "fae33229-1b08-44bc-93da-771169f0e205",
        "colab": {
          "base_uri": "https://localhost:8080/",
          "height": 253
        }
      },
      "source": [
        "#import TfidfVectorizer\n",
        "from sklearn.feature_extraction.text import TfidfVectorizer\n",
        "\n",
        "#Let's set min_df, the cut off point, to 2 so as to not count any terms which\n",
        "#appear less than twice\n",
        "tfidf_vectorizer = TfidfVectorizer(max_features=1000, min_df=2)\n",
        "\n",
        "tfidf = tfidf_vectorizer.fit_transform(corpus).toarray()\n",
        "tfidf_df = pd.DataFrame(tfidf)\n",
        "tfidf_df.columns = tfidf_vectorizer.get_feature_names()\n",
        "\n",
        "tfidf_df.head()"
      ],
      "execution_count": null,
      "outputs": [
        {
          "output_type": "execute_result",
          "data": {
            "text/html": [
              "<div>\n",
              "<style scoped>\n",
              "    .dataframe tbody tr th:only-of-type {\n",
              "        vertical-align: middle;\n",
              "    }\n",
              "\n",
              "    .dataframe tbody tr th {\n",
              "        vertical-align: top;\n",
              "    }\n",
              "\n",
              "    .dataframe thead th {\n",
              "        text-align: right;\n",
              "    }\n",
              "</style>\n",
              "<table border=\"1\" class=\"dataframe\">\n",
              "  <thead>\n",
              "    <tr style=\"text-align: right;\">\n",
              "      <th></th>\n",
              "      <th>10</th>\n",
              "      <th>100</th>\n",
              "      <th>12</th>\n",
              "      <th>15</th>\n",
              "      <th>20</th>\n",
              "      <th>25</th>\n",
              "      <th>30</th>\n",
              "      <th>35</th>\n",
              "      <th>50</th>\n",
              "      <th>abl</th>\n",
              "      <th>...</th>\n",
              "      <th>yes</th>\n",
              "      <th>yesterday</th>\n",
              "      <th>yet</th>\n",
              "      <th>yogurt</th>\n",
              "      <th>you</th>\n",
              "      <th>youll</th>\n",
              "      <th>young</th>\n",
              "      <th>your</th>\n",
              "      <th>yum</th>\n",
              "      <th>yummi</th>\n",
              "    </tr>\n",
              "  </thead>\n",
              "  <tbody>\n",
              "    <tr>\n",
              "      <th>0</th>\n",
              "      <td>0.0</td>\n",
              "      <td>0.0</td>\n",
              "      <td>0.0</td>\n",
              "      <td>0.000000</td>\n",
              "      <td>0.0</td>\n",
              "      <td>0.0</td>\n",
              "      <td>0.000000</td>\n",
              "      <td>0.0</td>\n",
              "      <td>0.26892</td>\n",
              "      <td>0.0</td>\n",
              "      <td>...</td>\n",
              "      <td>0.0</td>\n",
              "      <td>0.0</td>\n",
              "      <td>0.0</td>\n",
              "      <td>0.0</td>\n",
              "      <td>0.000000</td>\n",
              "      <td>0.000000</td>\n",
              "      <td>0.0</td>\n",
              "      <td>0.0</td>\n",
              "      <td>0.0</td>\n",
              "      <td>0.0</td>\n",
              "    </tr>\n",
              "    <tr>\n",
              "      <th>1</th>\n",
              "      <td>0.0</td>\n",
              "      <td>0.0</td>\n",
              "      <td>0.0</td>\n",
              "      <td>0.000000</td>\n",
              "      <td>0.0</td>\n",
              "      <td>0.0</td>\n",
              "      <td>0.000000</td>\n",
              "      <td>0.0</td>\n",
              "      <td>0.00000</td>\n",
              "      <td>0.0</td>\n",
              "      <td>...</td>\n",
              "      <td>0.0</td>\n",
              "      <td>0.0</td>\n",
              "      <td>0.0</td>\n",
              "      <td>0.0</td>\n",
              "      <td>0.000000</td>\n",
              "      <td>0.000000</td>\n",
              "      <td>0.0</td>\n",
              "      <td>0.0</td>\n",
              "      <td>0.0</td>\n",
              "      <td>0.0</td>\n",
              "    </tr>\n",
              "    <tr>\n",
              "      <th>2</th>\n",
              "      <td>0.0</td>\n",
              "      <td>0.0</td>\n",
              "      <td>0.0</td>\n",
              "      <td>0.000000</td>\n",
              "      <td>0.0</td>\n",
              "      <td>0.0</td>\n",
              "      <td>0.000000</td>\n",
              "      <td>0.0</td>\n",
              "      <td>0.00000</td>\n",
              "      <td>0.0</td>\n",
              "      <td>...</td>\n",
              "      <td>0.0</td>\n",
              "      <td>0.0</td>\n",
              "      <td>0.0</td>\n",
              "      <td>0.0</td>\n",
              "      <td>0.000000</td>\n",
              "      <td>0.154332</td>\n",
              "      <td>0.0</td>\n",
              "      <td>0.0</td>\n",
              "      <td>0.0</td>\n",
              "      <td>0.0</td>\n",
              "    </tr>\n",
              "    <tr>\n",
              "      <th>3</th>\n",
              "      <td>0.0</td>\n",
              "      <td>0.0</td>\n",
              "      <td>0.0</td>\n",
              "      <td>0.000000</td>\n",
              "      <td>0.0</td>\n",
              "      <td>0.0</td>\n",
              "      <td>0.000000</td>\n",
              "      <td>0.0</td>\n",
              "      <td>0.00000</td>\n",
              "      <td>0.0</td>\n",
              "      <td>...</td>\n",
              "      <td>0.0</td>\n",
              "      <td>0.0</td>\n",
              "      <td>0.0</td>\n",
              "      <td>0.0</td>\n",
              "      <td>0.042587</td>\n",
              "      <td>0.000000</td>\n",
              "      <td>0.0</td>\n",
              "      <td>0.0</td>\n",
              "      <td>0.0</td>\n",
              "      <td>0.0</td>\n",
              "    </tr>\n",
              "    <tr>\n",
              "      <th>4</th>\n",
              "      <td>0.0</td>\n",
              "      <td>0.0</td>\n",
              "      <td>0.0</td>\n",
              "      <td>0.081788</td>\n",
              "      <td>0.0</td>\n",
              "      <td>0.0</td>\n",
              "      <td>0.082947</td>\n",
              "      <td>0.0</td>\n",
              "      <td>0.00000</td>\n",
              "      <td>0.0</td>\n",
              "      <td>...</td>\n",
              "      <td>0.0</td>\n",
              "      <td>0.0</td>\n",
              "      <td>0.0</td>\n",
              "      <td>0.0</td>\n",
              "      <td>0.000000</td>\n",
              "      <td>0.000000</td>\n",
              "      <td>0.0</td>\n",
              "      <td>0.0</td>\n",
              "      <td>0.0</td>\n",
              "      <td>0.0</td>\n",
              "    </tr>\n",
              "  </tbody>\n",
              "</table>\n",
              "<p>5 rows × 1000 columns</p>\n",
              "</div>"
            ],
            "text/plain": [
              "    10  100   12        15   20   25        30   35       50  abl  ...    yes  \\\n",
              "0  0.0  0.0  0.0  0.000000  0.0  0.0  0.000000  0.0  0.26892  0.0  ...    0.0   \n",
              "1  0.0  0.0  0.0  0.000000  0.0  0.0  0.000000  0.0  0.00000  0.0  ...    0.0   \n",
              "2  0.0  0.0  0.0  0.000000  0.0  0.0  0.000000  0.0  0.00000  0.0  ...    0.0   \n",
              "3  0.0  0.0  0.0  0.000000  0.0  0.0  0.000000  0.0  0.00000  0.0  ...    0.0   \n",
              "4  0.0  0.0  0.0  0.081788  0.0  0.0  0.082947  0.0  0.00000  0.0  ...    0.0   \n",
              "\n",
              "   yesterday  yet  yogurt       you     youll  young  your  yum  yummi  \n",
              "0        0.0  0.0     0.0  0.000000  0.000000    0.0   0.0  0.0    0.0  \n",
              "1        0.0  0.0     0.0  0.000000  0.000000    0.0   0.0  0.0    0.0  \n",
              "2        0.0  0.0     0.0  0.000000  0.154332    0.0   0.0  0.0    0.0  \n",
              "3        0.0  0.0     0.0  0.042587  0.000000    0.0   0.0  0.0    0.0  \n",
              "4        0.0  0.0     0.0  0.000000  0.000000    0.0   0.0  0.0    0.0  \n",
              "\n",
              "[5 rows x 1000 columns]"
            ]
          },
          "metadata": {
            "tags": []
          },
          "execution_count": 8
        }
      ]
    },
    {
      "cell_type": "code",
      "metadata": {
        "id": "IAXherth9rA9",
        "outputId": "c5e609e8-66a6-40b1-e926-e68c71e3573c",
        "colab": {
          "base_uri": "https://localhost:8080/",
          "height": 462
        }
      },
      "source": [
        "#install gensim\n",
        "!pip install --upgrade gensim"
      ],
      "execution_count": null,
      "outputs": [
        {
          "output_type": "stream",
          "text": [
            "Collecting gensim\n",
            "\u001b[?25l  Downloading https://files.pythonhosted.org/packages/d7/b9/6c93685bed0026b6a1cce55ab173f6b617f6db0d1325d25489c2fd43e711/gensim-3.7.1-cp36-cp36m-manylinux1_x86_64.whl (24.2MB)\n",
            "\u001b[K    100% |████████████████████████████████| 24.2MB 2.0MB/s \n",
            "\u001b[?25hRequirement already satisfied, skipping upgrade: smart-open>=1.7.0 in /usr/local/lib/python3.6/dist-packages (from gensim) (1.8.0)\n",
            "Requirement already satisfied, skipping upgrade: six>=1.5.0 in /usr/local/lib/python3.6/dist-packages (from gensim) (1.11.0)\n",
            "Requirement already satisfied, skipping upgrade: numpy>=1.11.3 in /usr/local/lib/python3.6/dist-packages (from gensim) (1.14.6)\n",
            "Requirement already satisfied, skipping upgrade: scipy>=0.18.1 in /usr/local/lib/python3.6/dist-packages (from gensim) (1.1.0)\n",
            "Requirement already satisfied, skipping upgrade: boto>=2.32 in /usr/local/lib/python3.6/dist-packages (from smart-open>=1.7.0->gensim) (2.49.0)\n",
            "Requirement already satisfied, skipping upgrade: bz2file in /usr/local/lib/python3.6/dist-packages (from smart-open>=1.7.0->gensim) (0.98)\n",
            "Requirement already satisfied, skipping upgrade: requests in /usr/local/lib/python3.6/dist-packages (from smart-open>=1.7.0->gensim) (2.18.4)\n",
            "Requirement already satisfied, skipping upgrade: boto3 in /usr/local/lib/python3.6/dist-packages (from smart-open>=1.7.0->gensim) (1.9.92)\n",
            "Requirement already satisfied, skipping upgrade: chardet<3.1.0,>=3.0.2 in /usr/local/lib/python3.6/dist-packages (from requests->smart-open>=1.7.0->gensim) (3.0.4)\n",
            "Requirement already satisfied, skipping upgrade: certifi>=2017.4.17 in /usr/local/lib/python3.6/dist-packages (from requests->smart-open>=1.7.0->gensim) (2018.11.29)\n",
            "Requirement already satisfied, skipping upgrade: urllib3<1.23,>=1.21.1 in /usr/local/lib/python3.6/dist-packages (from requests->smart-open>=1.7.0->gensim) (1.22)\n",
            "Requirement already satisfied, skipping upgrade: idna<2.7,>=2.5 in /usr/local/lib/python3.6/dist-packages (from requests->smart-open>=1.7.0->gensim) (2.6)\n",
            "Requirement already satisfied, skipping upgrade: botocore<1.13.0,>=1.12.92 in /usr/local/lib/python3.6/dist-packages (from boto3->smart-open>=1.7.0->gensim) (1.12.92)\n",
            "Requirement already satisfied, skipping upgrade: jmespath<1.0.0,>=0.7.1 in /usr/local/lib/python3.6/dist-packages (from boto3->smart-open>=1.7.0->gensim) (0.9.3)\n",
            "Requirement already satisfied, skipping upgrade: s3transfer<0.3.0,>=0.2.0 in /usr/local/lib/python3.6/dist-packages (from boto3->smart-open>=1.7.0->gensim) (0.2.0)\n",
            "Requirement already satisfied, skipping upgrade: python-dateutil<3.0.0,>=2.1; python_version >= \"2.7\" in /usr/local/lib/python3.6/dist-packages (from botocore<1.13.0,>=1.12.92->boto3->smart-open>=1.7.0->gensim) (2.5.3)\n",
            "Requirement already satisfied, skipping upgrade: docutils>=0.10 in /usr/local/lib/python3.6/dist-packages (from botocore<1.13.0,>=1.12.92->boto3->smart-open>=1.7.0->gensim) (0.14)\n",
            "Installing collected packages: gensim\n",
            "  Found existing installation: gensim 3.6.0\n",
            "    Uninstalling gensim-3.6.0:\n",
            "      Successfully uninstalled gensim-3.6.0\n",
            "Successfully installed gensim-3.7.1\n"
          ],
          "name": "stdout"
        }
      ]
    },
    {
      "cell_type": "code",
      "metadata": {
        "id": "mWKkxVhdpS20",
        "outputId": "3b281389-26de-4f1a-c264-04e98bf034ba",
        "colab": {
          "base_uri": "https://localhost:8080/",
          "height": 34
        }
      },
      "source": [
        "from gensim.models import Word2Vec\n",
        "\n",
        "#take non-stemmed tokens and convert them into a list\n",
        "#I chose non-stemmed because the stemming process changes\n",
        "#awesome and loves\n",
        "sentences = df[\"review\"].tolist()\n",
        "\n",
        "#set min_count to 1 and size of word vectors to 5\n",
        "model = Word2Vec(sentences, min_count = 1, size = 5)\n",
        "\n",
        "print(model)"
      ],
      "execution_count": null,
      "outputs": [
        {
          "output_type": "stream",
          "text": [
            "Word2Vec(vocab=17069, size=5, alpha=0.025)\n"
          ],
          "name": "stdout"
        }
      ]
    },
    {
      "cell_type": "code",
      "metadata": {
        "id": "Lnef923e-Fqe",
        "outputId": "a1a44a6a-6c3c-40df-ad33-c5da793652aa",
        "colab": {
          "base_uri": "https://localhost:8080/",
          "height": 187
        }
      },
      "source": [
        "model.wv.similar_by_word('awesome')"
      ],
      "execution_count": null,
      "outputs": [
        {
          "output_type": "execute_result",
          "data": {
            "text/plain": [
              "[('day', 0.9999887943267822),\n",
              " ('keep', 0.999929666519165),\n",
              " ('even', 0.9999194741249084),\n",
              " ('lovely', 0.9999107122421265),\n",
              " ('really', 0.9999085664749146),\n",
              " ('get', 0.9998980760574341),\n",
              " ('love', 0.9998970031738281),\n",
              " ('business', 0.9998937249183655),\n",
              " ('kids', 0.9998855590820312),\n",
              " ('couldnt', 0.9998849034309387)]"
            ]
          },
          "metadata": {
            "tags": []
          },
          "execution_count": 11
        }
      ]
    },
    {
      "cell_type": "code",
      "metadata": {
        "id": "GBMrUHDe-jzW",
        "outputId": "fed24606-7e68-4011-abc3-b523fd09869a",
        "colab": {
          "base_uri": "https://localhost:8080/",
          "height": 187
        }
      },
      "source": [
        "model.wv.similar_by_word('loves')"
      ],
      "execution_count": null,
      "outputs": [
        {
          "output_type": "execute_result",
          "data": {
            "text/plain": [
              "[('attention', 0.9999452233314514),\n",
              " ('locally', 0.9996541738510132),\n",
              " ('hold', 0.9995646476745605),\n",
              " ('middle', 0.9994264841079712),\n",
              " ('platter', 0.9993995428085327),\n",
              " ('How', 0.9993345737457275),\n",
              " ('short', 0.9993141889572144),\n",
              " ('dry', 0.9993124604225159),\n",
              " ('wrong', 0.9992944002151489),\n",
              " ('passed', 0.9992669224739075)]"
            ]
          },
          "metadata": {
            "tags": []
          },
          "execution_count": 12
        }
      ]
    },
    {
      "cell_type": "code",
      "metadata": {
        "id": "sdv0i5_Omj04",
        "outputId": "5c7ffcfb-ef46-4423-cadc-4b0cff4f9d62",
        "colab": {
          "base_uri": "https://localhost:8080/",
          "height": 207
        }
      },
      "source": [
        "#First convert each review into a tagged document\n",
        "\n",
        "from gensim.models.doc2vec import TaggedDocument\n",
        "\n",
        "#Then go through the list of reviews and pass each list of word tokens and the\n",
        "#index to the TaggedDocument function to create the tagged documents for Doc2Vec\n",
        "tagged_documents = []\n",
        "for i, sentence in enumerate(sentences):\n",
        "  tagged_documents.append(TaggedDocument(sentence,[i]))\n",
        "  \n",
        "tagged_documents[:10]"
      ],
      "execution_count": null,
      "outputs": [
        {
          "output_type": "execute_result",
          "data": {
            "text/plain": [
              "[TaggedDocument(words=['My', 'son', 'loves', 'place', 'Weird', 'hed', 'ask', 'come', 'everytime', 'go', 'grocery', 'shopping', 'bribe', 'even', 'care', 'go', 'Toys', 'R', 'Us', 'Not', 'complaining', 'Im', 'little', 'knick', 'knacks', 'quite', 'selection', 'little', 'travel', 'toys', 'educational', 'materials', 'kids', 'holiday', 'stuff', 'I', 'bought', 'couple', 'red', 'bows', 'brass', 'jingles', 'wreaths', 'put', 'porch', 'lights', '4', 'Why', 'cheap', 'end', 'spending', '50'], tags=[0]),\n",
              " TaggedDocument(words=['We', 'gave', '9', 'make', '5', '45', 'stars', 'n', 'To', 'start', 'beautiful', 'lucked', 'outside', 'heater', 'next', 'roaring', 'fireplace', 'The', 'service', 'could', 'better', 'thanks', 'YELPing', 'friends', 'hardly', 'needed', 'menu', 'n', 'The', 'Portugese', 'clam', 'soup', 'souper', 'though', 'salty', 'side', 'The', 'pork', 'belly', 'hook', 'steak', 'tacos', 'tops', 'We', 'gave', 'dishes', '9', '95', '95', 'respectivleyn', 'Margaritas', 'awesome', 'Smokehouse', 'Pomogranite', 'short', 'glass', 'n', 'Its', 'long', 'time', 'since', 'solid', '9', 'Thanks', 'guys', 'Oh', 'table', 'guac', 'must', 'PS', 'get', 'bread', 'pudding', 'get', 'sauce', 'side', 'Its', 'top', 'sweet', 'My', 'pancreas', 'running', 'laps', 'right'], tags=[1]),\n",
              " TaggedDocument(words=['After', 'three', 'lunch', 'visits', 'Ive', 'come', 'conclusion', 'restaurant', 'fares', 'ok', 'book', 'Ill', 'probably', 'back', 'cant', 'guarantee', 'many', 'places', 'trynnUpon', 'walking', 'quickly', 'politey', 'greeted', 'taken', 'table', 'Youll', 'notice', 'decor', 'nice', 'somewhat', 'cluttered', 'Im', 'fan', 'things', 'put', 'right', 'place', 'Maybe', 'mennGreat', 'price', 'lunch', 'comes', 'quickly', 'expected', 'I', 'hoping', 'little', 'love', 'put', 'food', 'tongue', 'telling', 'little', 'bland', 'Each', 'visit', 'I', 'tried', 'different', 'item', 'menu', 'almost', 'tasted', 'samennOverall', 'place', 'serves', 'purpose', 'quick', 'hot', 'inexpensive', 'meal', 'typical', 'foodie'], tags=[2]),\n",
              " TaggedDocument(words=['What', 'started', 'simple', 'attempt', 'find', 'perfect', 'birthday', 'present', 'turned', 'lifelong', 'relationship', 'fantastic', 'jeweler', 'nI', 'wanted', 'get', 'fiancu00e9', 'girlfriend', 'time', 'simple', 'diamond', 'pendant', 'necklace', 'birthday', 'could', 'find', 'anything', 'even', 'came', 'close', 'matching', 'style', 'I', 'searched', 'internet', 'days', 'reluctantly', 'went', 'jewelry', 'stores', 'hoping', 'best', 'expecting', 'worst', 'I', 'like', 'people', 'guys', 'bad', 'feeling', 'stores', 'I', 'went', 'Pushy', 'sales', 'people', 'looking', 'upsale', 'sky', 'high', 'prices', 'I', 'getting', 'discouraged', 'process', 'changed', 'I', 'came', 'Hyde', 'Park', 'nThe', 'super', 'friendly', 'staff', 'made', 'everything', 'easy', 'There', 'pushy', 'sales', 'process', 'anyone', 'trying', 'upsell', 'something', 'I', 'didnt', 'want', 'They', 'immediately', 'offered', 'bottle', 'water', 'started', 'talk', 'like', 'real', 'person', 'After', 'minutes', 'speaking', 'lovely', 'woman', 'store', 'suggested', 'think', 'something', 'custom', 'At', 'first', 'I', 'thinking', 'go', 'I', 'going', 'get', 'stuck', 'I', 'wrongnWe', 'looked', 'loose', 'stones', 'I', 'got', 'great', 'education', 'diamonds', 'I', 'went', 'home', 'later', 'night', 'research', 'internet', 'found', 'prices', 'good', 'better', 'big', 'online', 'retailers', 'I', 'could', 'never', 'get', 'head', 'wrapped', 'around', 'buying', 'diamond', 'online', 'sight', 'unseen', 'I', 'glad', 'I', 'found', 'Hyde', 'Park', 'nnIn', 'end', 'I', 'used', 'Hyde', 'Park', 'create', 'custom', 'pendant', 'diamond', 'necklace', 'fiancu00e9', 'absolutely', 'loves', 'perfect', 'I', 'also', 'used', 'Hyde', 'Park', 'get', 'diamond', 'engagement', 'ring', 'well', 'everything', 'else', 'follow', 'nnWant', 'know', 'service', 'jewelry', 'business', 'check', 'Hyde', 'Park', 'I', 'picked', 'amazing', 'diamond', 'engagement', 'ring', 'chose', 'loose', 'stone', 'idea', 'kind', 'ring', 'fiancu00e9', 'would', 'want', 'So', 'Hyde', 'Park', 'said', 'put', 'classic', 'Tiffany', 'solitaire', 'setting', 'temporary', 'setting', 'give', 'come', 'back', 'together', 'pick', 'perfect', 'setting', 'wedding', 'band', 'set', 'I', 'like', 'seriously', 'You', 'thatnnIn', 'end', 'Hyde', 'Park', 'jeweler', 'life', 'They', 'helped', 'create', 'perfect', 'simple', 'birthday', 'present', 'took', 'service', 'way', 'custom', 'engagement', 'ring', 'matching', 'wedding', 'band', 'set', 'This', 'jewelry', 'store', 'guy', 'wants', 'great', 'service', 'great', 'prices', 'like', 'doesnt', 'first', 'clue', 'make', 'perfect', 'decision', 'Just', 'let', 'Hyde', 'Park', 'take', 'stress', 'like'], tags=[3]),\n",
              " TaggedDocument(words=['If', 'Culvers', 'every', 'street', 'corner', 'cardiologists', 'would', 'twice', 'much', 'moneynI', 'went', 'first', 'time', 'today', 'lunch', 'I', 'hoping', 'good', 'nonprocessed', 'burger', 'I', 'got', 'wish', 'soft', 'bun', 'red', 'onions', 'lettuce', 'fresh', 'tomatoes', 'fixings', 'great', 'The', 'cheese', 'good', 'beef', 'patties', 'also', 'good', 'I', 'got', 'deluxe', 'Since', 'I', 'never', 'fried', 'cheese', 'curds', 'I', 'got', 'side', 'item', 'It', 'reasonably', 'priced', '8', 'combo', 'root', 'beer', 'Service', 'fast', 'food', 'fresh', 'hot', 'But', 'heres', 'kickernI', 'looked', 'nutrional', 'information', 'lunch', 'I', 'felt', 'like', 'I', 'couldnt', 'get', 'office', 'chair', 'This', 'combo', '84g', 'fat', '3000mg', 'sodium', 'Even', 'dont', 'watch', 'eat', 'numbers', 'scare', 'hell', 'To', 'put', 'perspective', 'diet', 'calls', '1500mg', 'sodium', 'DAILY', 'I', 'couldve', 'gone', 'InNOut', 'gotten', 'animal', 'style', 'doubledouble', 'fries', 'saved', '15', 'grams', 'fat', 'saved', '1300mg', 'sodium', 'I', 'couldve', 'ordered', '2', 'quarter', 'pounders', 'cheese', '2', 'large', 'fries', 'still', 'eaten', 'fewer', 'grams', 'fat', 'sodium', 'Now', 'see', 'exactly', 'bad', 'burgers', 'Imagine', 'I', 'gotten', 'bacon', 'cheeseburger', 'custard', 'dessert', 'Thatd', 'another', '30', 'grams', 'fat', 'Were', 'talking', 'triple', 'digits', 'Scary', 'stuffnNow', 'I', 'like', 'splurge', 'occasion', 'great', 'food', 'Unfortunately', 'caloric', 'catastrophe', 'simply', 'wasnt', 'worth', 'Its', 'good', 'burger', 'definitely', 'better', 'typical', 'fast', 'food', 'come', 'These', 'numbers', 'beyond', 'reasonable', 'To', 'fair', 'fried', 'cheese', 'curds', 'constituted', '38g', 'fat', 'alone', 'Now', 'Ive', 'first', 'time', 'life', 'Ill', 'say', 'I', 'enjoyed', 'Theyre', 'almost', 'good', 'fried', 'mozzarella', 'I', 'still', 'prefer', 'Italian', 'version', 'Wisconsin', 'onenSo', 'want', 'splurge', 'enjoy', 'custard', 'Ive', 'excellent', 'especially', 'vanilla', 'But', 'want', 'blow', 'diet', 'even', 'though', 'food', 'decent', 'somewhere', 'else'], tags=[4]),\n",
              " TaggedDocument(words=['A', 'pricy', 'place', 'grab', 'bite', 'The', 'plating', 'food', 'beautiful', 'portions', 'little', 'small', 'money', 'The', 'restaurant', 'beautifully', 'decorated', 'I', 'could', 'barely', 'hold', 'conversation', 'noise', 'I', 'taken', 'aback', 'loud', 'There', 'DJ', 'spinning', 'well', 'put', 'nicely', 'I', 'wasnt', 'fan', 'skills', 'The', 'noise', 'volume', 'absolutely', 'smothered', 'meal', 'destroyed', 'atmosphere'], tags=[5]),\n",
              " TaggedDocument(words=['find', 'store', 'hit', 'miss', 'specials', 'stuff', 'like', 'amaaaaazing', 'otherwise', 'always', 'leave', 'feeling', 'like', 'ive', 'robbednnthey', 'decent', 'organics', 'section', 'enough', 'turnover', 'ensure', 'fresh', 'quality', 'produce', 'always', 'available', 'nonorganic', 'section', 'good', 'selection', 'prices', 'itemsnnthe', 'deli', 'section', 'exceptional', 'sandwich', 'meats', 'cheeses', 'fresh', 'fish', 'meats', 'great', 'catch', 'salenni', 'also', 'like', 'nongrocery', 'side', 'store', 'pricey', 'good', 'quality', 'items'], tags=[6]),\n",
              " TaggedDocument(words=['This', 'downhome', 'pubrestaurant', 'located', 'downtown', 'Phoenixs', 'Heritage', 'Square', 'little', 'area', 'preserves', 'Phoenixs', 'Victorian', 'past', 'converted', 'house', 'Its', 'located', 'directly', 'across', 'infamous', 'Pizzeria', 'Bianco', 'either', 'blessing', 'curse', 'depending', 'look', 'On', 'particular', 'night', 'went', 'thinking', 'might', 'want', 'wait', 'line', 'Pizzeria', 'Bianco', 'ultimately', 'deciding', 'hungry', 'stick', 'sense', 'Rose', 'Crown', 'greatly', 'benefited', 'location', 'across', 'PB', 'It', 'lured', 'us', 'away', 'best', 'pizza', 'ever', 'convincing', 'us', 'sit', 'Southernstyle', 'patio', 'chow', 'averagetasting', 'roast', 'beef', 'sliders', 'halfpriced', 'vodka', 'sodas', 'That', 'said', 'really', 'enjoyed', 'There', 'something', 'really', 'homey', 'relaxing', 'sitting', 'patio', 'didnt', 'even', 'go', 'inside', 'sipping', 'cold', 'drinks', 'looking', 'around', 'Victorian', 'homes', 'The', 'service', 'friendly', 'although', 'bit', 'slow', 'times', 'definitely', 'would', 'stayed', 'lot', 'longer', '110', 'outside'], tags=[7]),\n",
              " TaggedDocument(words=['I', 'blonde', 'hair', 'us', 'know', 'tricky', 'get', 'exact', 'shade', 'blonde', 'want', 'But', 'alyse', 'got', 'first', 'try', 'I', 'seeing', 'almost', 'year', 'never', 'happier', 'Just', 'recently', 'told', 'extentions', 'I', 'got', 'even', 'love', 'hair', 'I', 'would', 'reccommend', 'Alyse', 'anyone', 'young', 'old', 'male', 'female', 'dog', 'ect', 'I', 'sent', '4', 'close', 'friends', 'well', 'also', 'love', 'hair', 'Well', 'done', 'Alyse'], tags=[8]),\n",
              " TaggedDocument(words=['I', 'went', 'Celsius', 'first', 'opened', 'I', 'impressed', 'Unfortunately', 'I', 'think', 'theyve', 'gone', 'hill', 'bit', 'since', 'Its', 'probably', 'around', '3', 'years', 'since', 'initial', 'visit', 'Ive', 'handful', 'times', 'since', 'eat', 'take', 'nnI', 'say', 'recent', 'experience', 'average', 'The', 'service', 'ridiculously', 'slow', 'quality', 'rolls', 'ordered', 'mediocre', 'I', '2', 'friends', 'food', 'came', 'different', 'times', 'We', '2', 'servers', 'taking', 'care', 'us', 'even', 'two', 'could', 'manage', 'keep', 'waters', 'filled', 'We', 'ordered', 'variety', 'sushi', 'including', 'order', 'salmon', 'sashimi', 'spicy', 'tuna', 'handroll', 'tuna', 'maki', 'roll', 'futomaki', 'another', 'specialty', 'rolls', 'We', 'also', 'couple', 'miso', 'soups', 'salad', 'nnI', 'love', 'sushi', 'rare', 'allow', 'extra', 'sushi', 'go', 'waste', 'last', 'night', 'none', 'us', 'wanted', 'finish', '6', '8', 'extra', 'pieces', 'lay', 'table', 'front', 'us', 'I', 'think', 'sign', 'amazingnnAnyways', 'place', 'packed', 'nice', 'patio', 'Celsius', 'could', 'probably', 'stand', 'brush', 'service', 'I', 'cant', 'complain', 'much', 'though', '56', 'total', '3', 'us', 'bad', 'sushi', 'However', 'I', 'probably', 'rush', 'back', 'Celsius', 'I', 'would', 'probably', 'choose', 'go', 'Malees', 'Pure', 'Sushi', 'Brokers', 'returning', 'Its', 'bad', 'average', 'blah', 'mediocre', 'soso', 'I', 'think', 'get', 'point'], tags=[9])]"
            ]
          },
          "metadata": {
            "tags": []
          },
          "execution_count": 13
        }
      ]
    },
    {
      "cell_type": "code",
      "metadata": {
        "id": "rISGERkuBnBa",
        "outputId": "522c102b-5d76-40da-bbde-d78b7e5924b1",
        "colab": {
          "base_uri": "https://localhost:8080/",
          "height": 34
        }
      },
      "source": [
        "# Next run the Doc2Vec model\n",
        "\n",
        "from gensim.models import Doc2Vec\n",
        "\n",
        "doc2vec_model = Doc2Vec(tagged_documents,\n",
        "                        vector_size=100,\n",
        "                        min_count=5,\n",
        "                        epochs=100 )\n",
        "print(doc2vec_model)"
      ],
      "execution_count": null,
      "outputs": [
        {
          "output_type": "stream",
          "text": [
            "Doc2Vec(dm/m,d100,n5,w5,mc5,s0.001,t3)\n"
          ],
          "name": "stdout"
        }
      ]
    },
    {
      "cell_type": "code",
      "metadata": {
        "id": "JdNyYLwhBzQ8",
        "outputId": "5240940d-0cc3-4967-e85f-933112ffd963",
        "colab": {
          "base_uri": "https://localhost:8080/",
          "height": 54
        }
      },
      "source": [
        "#now I will grab a review off of yelp to compare to each review\n",
        "\n",
        "tester = \"The part that really ruined this dinner on top of the underwhelming food was the ridiculous wait We received our last dish an hour and forty minutes after 7pm It was small dish after small dish with too much time in between Honestly I wanted to leave without eating out last dish because the wait was becoming unbearable\"\n",
        "tester = tokenize_me(tester)\n",
        "tester = filter_stop_words(tester)\n",
        "print(tester)"
      ],
      "execution_count": null,
      "outputs": [
        {
          "output_type": "stream",
          "text": [
            "['The', 'part', 'really', 'ruined', 'dinner', 'top', 'underwhelming', 'food', 'ridiculous', 'wait', 'We', 'received', 'last', 'dish', 'hour', 'forty', 'minutes', '7pm', 'It', 'small', 'dish', 'small', 'dish', 'much', 'time', 'Honestly', 'I', 'wanted', 'leave', 'without', 'eating', 'last', 'dish', 'wait', 'becoming', 'unbearable']\n"
          ],
          "name": "stdout"
        }
      ]
    },
    {
      "cell_type": "code",
      "metadata": {
        "id": "WNZVWuGpCGn7",
        "outputId": "062d92b3-916e-42b7-a443-d08c29ae8a88",
        "colab": {
          "base_uri": "https://localhost:8080/",
          "height": 187
        }
      },
      "source": [
        "#infer a new vector to be done once the model has been run\n",
        "test_vec = doc2vec_model.infer_vector(tester)\n",
        "#check test vector against all other reviews for similiarity\n",
        "doc2vec_model.docvecs.most_similar([test_vec])"
      ],
      "execution_count": null,
      "outputs": [
        {
          "output_type": "execute_result",
          "data": {
            "text/plain": [
              "[(89, 0.3562362790107727),\n",
              " (852, 0.35315170884132385),\n",
              " (508, 0.32123875617980957),\n",
              " (917, 0.3197607696056366),\n",
              " (464, 0.3163761794567108),\n",
              " (132, 0.2978161573410034),\n",
              " (848, 0.2863283157348633),\n",
              " (90, 0.2858125567436218),\n",
              " (397, 0.2855658233165741),\n",
              " (749, 0.2846792936325073)]"
            ]
          },
          "metadata": {
            "tags": []
          },
          "execution_count": 18
        }
      ]
    },
    {
      "cell_type": "code",
      "metadata": {
        "id": "t0gxVYy4CUi9",
        "outputId": "d13de655-0c8f-4ab0-89d9-6e6fdcd783c5",
        "colab": {
          "base_uri": "https://localhost:8080/",
          "height": 54
        }
      },
      "source": [
        "#let's take look at the review which was the most similar to the test document\n",
        "print(sentences[132])"
      ],
      "execution_count": null,
      "outputs": [
        {
          "output_type": "stream",
          "text": [
            "['What', 'hell', 'happened', 'placennI', 'used', 'love', 'Chino', 'Bandido', 'wacky', 'MexicanAsian', 'combos', 'seemed', 'give', 'consistent', 'mouthgasms', 'every', 'time', 'Id', 'go', 'Within', 'past', 'year', 'however', 'something', 'changed', 'staff', 'went', 'way', 'downhill', 'resulting', 'food', 'comes', 'kitchen', 'sad', 'pathetic', 'shadow', 'used', 'nnJust', 'illustrate', 'point', 'I', 'decided', 'give', 'place', 'another', 'shot', 'weeks', 'ago', 'upon', 'walking', 'place', 'empty', 'way', 'I', 'greeted', 'wassup', 'main', 'kid', 'register', 'nothing', 'wassup', 'look', 'face', 'like', 'I', 'rival', 'gang', 'member', 'entering', 'hostile', 'territory', 'welcoming', 'say', 'least', 'nnAfter', 'ordering', 'combo', 'dish', 'go', 'I', 'treated', '15', 'minute', 'wait', 'I', 'waiting', 'three', 'kids', 'working', 'kitchen', 'rapping', 'Some', 'words', 'coming', 'mouths', 'probably', 'harsh', 'include', 'review', 'It', 'obvious', 'paying', 'attention', 'food', 'cooking', 'It', 'uncomfortable', 'sitting', 'long', 'staring', 'group', 'clueless', 'kids', 'making', 'fools', 'I', 'almost', 'walked', 'without', 'food', 'even', 'though', 'I', 'already', 'paid', 'lets', 'honest', 'chance', 'food', 'decent', 'point', 'near', 'zero', 'mind', 'nnAfter', 'long', 'wait', 'handed', 'bad', 'food', 'one', 'delinquentlooking', 'employees', 'way', 'didnt', 'mutter', 'single', 'word', 'giving', 'dish', 'I', 'left', 'I', 'went', 'home', 'uncover', 'horrors', 'awaited', 'styrofoam', 'container', 'Let', 'tell', 'friends', 'pretty', 'It', 'looked', 'like', 'someone', 'taken', 'ice', 'cream', 'scooper', 'plopped', 'pile', 'beans', 'top', 'soggy', 'tortilla', 'rice', 'put', 'floor', 'stepped', 'It', 'mushy', 'pile', 'greased', 'nothingness', 'substance', 'poor', 'excuse', 'pile', 'food', 'could', 'mistaken', 'animal', 'excrementnnBy', 'means', 'go', 'unless', 'revitalize', 'place', 'hire', 'new', 'staff', 'warning', 'avoid', 'Chandler', 'location', 'like', 'plague']\n"
          ],
          "name": "stdout"
        }
      ]
    },
    {
      "cell_type": "code",
      "metadata": {
        "id": "xo0owNO9EAEB",
        "outputId": "d635a2b3-a806-4a77-883d-a7dcb1f987e0",
        "colab": {
          "base_uri": "https://localhost:8080/",
          "height": 88
        }
      },
      "source": [
        "# For this we'll need textblob\n",
        "\n",
        "!pip install -U textblob"
      ],
      "execution_count": null,
      "outputs": [
        {
          "output_type": "stream",
          "text": [
            "Requirement already up-to-date: textblob in /usr/local/lib/python3.6/dist-packages (0.15.2)\n",
            "Requirement already satisfied, skipping upgrade: nltk>=3.1 in /usr/local/lib/python3.6/dist-packages (from textblob) (3.2.5)\n",
            "Requirement already satisfied, skipping upgrade: six in /usr/local/lib/python3.6/dist-packages (from nltk>=3.1->textblob) (1.11.0)\n"
          ],
          "name": "stdout"
        }
      ]
    },
    {
      "cell_type": "code",
      "metadata": {
        "id": "00x4yPyrEGaD",
        "outputId": "4bf3f6ee-4ff3-44e2-b904-7d1faddf050c",
        "colab": {
          "base_uri": "https://localhost:8080/",
          "height": 34
        }
      },
      "source": [
        "from textblob import TextBlob\n",
        "\n",
        "#first convert each review into a textblob\n",
        "#text blob takes the input of string sentences so I must join the string tokens\n",
        "text_blobs = []\n",
        "for sentence in sentences:\n",
        "  text_blobs.append(TextBlob(' '.join(sentence)))\n",
        "\n",
        "#text blob automatically accesses the polarity and subjectivity of each blob\n",
        "#\"The polarity score is a float within the range [-1.0, 1.0]. The subjectivity \n",
        "#is a float within the range [0.0, 1.0] where 0.0 is very objective and 1.0 is\n",
        "#very subjective.\" - from the docs\n",
        "print(text_blobs[10].sentiment)"
      ],
      "execution_count": null,
      "outputs": [
        {
          "output_type": "stream",
          "text": [
            "Sentiment(polarity=0.21164321789321788, subjectivity=0.5206094831094831)\n"
          ],
          "name": "stdout"
        }
      ]
    },
    {
      "cell_type": "code",
      "metadata": {
        "id": "R1PQchsUEWD-",
        "outputId": "8a81d114-b646-4885-d7fe-c5751dd06039",
        "colab": {
          "base_uri": "https://localhost:8080/",
          "height": 376
        }
      },
      "source": [
        "#Now we can graph the polarity to look for underlying trends\n",
        "import matplotlib.pyplot as plt\n",
        "\n",
        "polarities=[]\n",
        "for blob in text_blobs:\n",
        "  polarities.append(blob.sentiment.polarity)\n",
        "\n",
        "polarities = np.asarray(polarities)\n",
        "polarities_mean = [polarities.mean()]*len(polarities)\n",
        "\n",
        "plt.plot(polarities)\n",
        "plt.plot(range(len(polarities)),polarities_mean, linestyle='--', color = 'r')\n",
        "plt.xlabel(\"Index\")\n",
        "plt.ylabel(\"Polarity\")\n",
        "plt.title(\"Polarity of Reviews\")\n",
        "plt.show()"
      ],
      "execution_count": null,
      "outputs": [
        {
          "output_type": "display_data",
          "data": {
            "image/png": "[encoded data removed]",
            "text/plain": [
              "<Figure size 576x396 with 1 Axes>"
            ]
          },
          "metadata": {
            "tags": []
          }
        }
      ]
    },
    {
      "cell_type": "code",
      "metadata": {
        "id": "tHLmmHbbEuIr",
        "outputId": "321206c9-c353-4ab8-fe52-930097426efe",
        "colab": {
          "base_uri": "https://localhost:8080/",
          "height": 361
        }
      },
      "source": [
        "sigma = polarities.std()\n",
        "mu = polarities_mean[0]\n",
        "std_lines = [mu]\n",
        "for i in range(4):\n",
        "  std_lines.append(mu - sigma*i)\n",
        "  std_lines.append(mu + sigma*i)\n",
        "\n",
        "plt.hist(polarities, bins=100)\n",
        "plt.xlabel('Review Polarity')\n",
        "for value in std_lines:\n",
        "  plt.axvline(value, color = 'k', linestyle = '--')\n",
        "plt.show()"
      ],
      "execution_count": null,
      "outputs": [
        {
          "output_type": "display_data",
          "data": {
            "image/png": "[encoded data removed]",
            "text/plain": [
              "<Figure size 576x396 with 1 Axes>"
            ]
          },
          "metadata": {
            "tags": []
          }
        }
      ]
    }
  ]
}